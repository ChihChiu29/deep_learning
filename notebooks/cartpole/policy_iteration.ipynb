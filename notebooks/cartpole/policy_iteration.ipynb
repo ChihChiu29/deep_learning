{
 "cells": [
  {
   "cell_type": "code",
   "execution_count": 2,
   "metadata": {},
   "outputs": [
    {
     "name": "stdout",
     "output_type": "stream",
     "text": [
      "Path /workspace/external/deep_learning added to PYTHON_PATH.\n"
     ]
    },
    {
     "name": "stderr",
     "output_type": "stream",
     "text": [
      "Using TensorFlow backend.\n"
     ]
    },
    {
     "name": "stdout",
     "output_type": "stream",
     "text": [
      "notebook_init.py imported and reloaded\n",
      "forwarded symbol: Activation\n",
      "forwarded symbol: Dense\n",
      "forwarded symbol: Dict\n",
      "forwarded symbol: InputLayer\n",
      "forwarded symbol: List\n",
      "forwarded symbol: Model\n",
      "forwarded symbol: Sequential\n",
      "forwarded symbol: Tuple\n",
      "reloaded: gym\n",
      "forwarded symbol: gym\n",
      "reloaded: keras\n",
      "forwarded symbol: keras\n",
      "reloaded: model_optimization\n",
      "forwarded symbol: model_optimization\n",
      "reloaded: openai_wrapper\n",
      "forwarded symbol: openai_wrapper\n",
      "reloaded: policy_impl\n",
      "forwarded symbol: policy_impl\n",
      "reloaded: q_function_memoization\n",
      "forwarded symbol: q_function_memoization\n",
      "reloaded: q_learning\n",
      "forwarded symbol: q_learning\n",
      "reloaded: q_learning_impl\n",
      "forwarded symbol: q_learning_impl\n",
      "reloaded: q_learning_impl_v2\n",
      "forwarded symbol: q_learning_impl_v2\n",
      "reloaded: q_learning_v2\n",
      "forwarded symbol: q_learning_v2\n"
     ]
    }
   ],
   "source": [
    "ReloadProject('deep_learning')"
   ]
  },
  {
   "cell_type": "markdown",
   "metadata": {},
   "source": [
    "## Introduction\n",
    "A \"policy\" is a Keras model, whose `predict` on the environment variable decides the action. The idea is to use greedest decend method to perform policy iteration."
   ]
  },
  {
   "cell_type": "code",
   "execution_count": 14,
   "metadata": {},
   "outputs": [
    {
     "data": {
      "text/plain": [
       "5"
      ]
     },
     "execution_count": 14,
     "metadata": {},
     "output_type": "execute_result"
    }
   ],
   "source": [
    "model = Sequential()\n",
    "model.add(Dense(6, activation='relu', input_dim=4))\n",
    "model.add(Dense(6, activation='relu'))\n",
    "model.add(Dense(6, activation='relu'))\n",
    "model.add(Dense(2, activation='softmax'))\n",
    "\n",
    "model.compile(optimizer='rmsprop',\n",
    "              loss='binary_crossentropy',\n",
    "              metrics=['accuracy'])\n",
    "\n",
    "model_weight_manager = model_optimization.ModelWeightManager(model)"
   ]
  },
  {
   "cell_type": "code",
   "execution_count": 3,
   "metadata": {},
   "outputs": [],
   "source": [
    "INPUT_SHAPE = (1, 4)\n",
    "\n",
    "def GetPolicyValue(\n",
    "    policy,  # Keras model\n",
    "    env: openai_wrapper.GymEnvironment,\n",
    "    num_simulations: int = 100,\n",
    "    max_steps_in_simulation: int = 5000,\n",
    "    print_values: bool = False,\n",
    ") -> float:\n",
    "    \"\"\"Gets the potential value of a policy via simulation.\"\"\"\n",
    "    env.ChangeSettings(continue_from_done=False)\n",
    "    values = []\n",
    "    for _ in range(num_simulations):\n",
    "        values.append(_GetValueFromOneSimulation(policy, env, max_steps_in_simulation))\n",
    "    if print_values:\n",
    "        print(values)\n",
    "    return np.average(values)\n",
    "\n",
    "def _GetValueFromOneSimulation(\n",
    "    policy: np.ndarray,\n",
    "    env: openai_wrapper.GymEnvironment,\n",
    "    max_steps_in_simulation: int,\n",
    ") -> int:\n",
    "    \"\"\"Gets the value of a policy using one simulaion.\"\"\"\n",
    "    env.Reset()\n",
    "    reward = 0.0\n",
    "    for _ in range(max_steps_in_simulation):\n",
    "        state = env.GetState()\n",
    "        try:\n",
    "            reward += env.TakeAction(_DecideAction(policy, state))\n",
    "        except openai_wrapper.OpenAiEnvironmentDone:\n",
    "            break\n",
    "    return reward\n",
    "        \n",
    "def _DecideAction(\n",
    "    policy,  # Keras model\n",
    "    state: np.ndarray,\n",
    ") -> int:\n",
    "    \"\"\"Decides an action based on a policy and a state.\"\"\"\n",
    "    return policy.predict(np.reshape(state, INPUT_SHAPE)).argmax()"
   ]
  },
  {
   "cell_type": "code",
   "execution_count": 5,
   "metadata": {},
   "outputs": [
    {
     "data": {
      "text/plain": [
       "8.41"
      ]
     },
     "execution_count": 5,
     "metadata": {},
     "output_type": "execute_result"
    }
   ],
   "source": [
    "GetPolicyValue(model, openai_wrapper.GymEnvironment(gym.make('CartPole-v1')))"
   ]
  },
  {
   "cell_type": "code",
   "execution_count": 9,
   "metadata": {},
   "outputs": [],
   "source": [
    "model = Sequential()\n",
    "model.add(Dense(1, activation='relu', input_dim=4))\n",
    "# model.add(Dense(6, activation='relu'))\n",
    "# model.add(Dense(6, activation='relu'))\n",
    "model.add(Dense(2, activation='softmax'))\n",
    "\n",
    "model.compile(optimizer='rmsprop',\n",
    "              loss='binary_crossentropy',\n",
    "              metrics=['accuracy'])\n",
    "\n",
    "policy_param_manager = model_optimization.ModelWeightManager(model)\n",
    "\n",
    "env = openai_wrapper.GymEnvironment(gym.make('CartPole-v1'))\n",
    "\n",
    "def EvaluatePolicy(policy_parameters) -> float:\n",
    "    policy_param_manager.SetWeights(policy_parameters)\n",
    "    return -GetPolicyValue(policy_param_manager.model, env)"
   ]
  },
  {
   "cell_type": "code",
   "execution_count": 10,
   "metadata": {},
   "outputs": [
    {
     "data": {
      "text/plain": [
       "-8.33"
      ]
     },
     "execution_count": 10,
     "metadata": {},
     "output_type": "execute_result"
    }
   ],
   "source": [
    "EvaluatePolicy(np.array(range(200)))"
   ]
  },
  {
   "cell_type": "code",
   "execution_count": 11,
   "metadata": {},
   "outputs": [
    {
     "name": "stdout",
     "output_type": "stream",
     "text": [
      "Warning: Maximum number of function evaluations has been exceeded.\n",
      "The best policy: [-1.66264395e-05  1.00309526e+00  2.00862719e+00  3.08794079e+00\n",
      "  4.01155326e+00  5.00358335e+00  5.94640496e+00  7.03019516e+00\n",
      "  8.13450878e+00], value: -8.21\n"
     ]
    }
   ],
   "source": [
    "from scipy import optimize\n",
    "best_policy = np.array(optimize.fmin(EvaluatePolicy, policy_param_manager.GetWeights(), disp=True))\n",
    "print('The best policy: %s, value: %s' % (best_policy, EvaluatePolicy(best_policy)))"
   ]
  },
  {
   "cell_type": "markdown",
   "metadata": {},
   "source": [
    "## Linear Model"
   ]
  },
  {
   "cell_type": "code",
   "execution_count": 4,
   "metadata": {},
   "outputs": [
    {
     "data": {
      "text/plain": [
       "5"
      ]
     },
     "execution_count": 4,
     "metadata": {},
     "output_type": "execute_result"
    }
   ],
   "source": [
    "model = Sequential()\n",
    "model.add(Dense(1, activation='linear', input_dim=4))\n",
    "model.compile(optimizer='sgd', loss='mse')\n",
    "\n",
    "model_weight_manager = model_optimization.ModelWeightManager(model)\n",
    "model_weight_manager.size"
   ]
  },
  {
   "cell_type": "code",
   "execution_count": 5,
   "metadata": {},
   "outputs": [],
   "source": [
    "INPUT_SHAPE = (1, 4)\n",
    "\n",
    "def GetPolicyValue(\n",
    "    policy,  # Keras model\n",
    "    env: openai_wrapper.GymEnvironment,\n",
    "    num_simulations: int = 100,\n",
    "    max_steps_in_simulation: int = 5000,\n",
    "    print_values: bool = False,\n",
    ") -> float:\n",
    "    \"\"\"Gets the potential value of a policy via simulation.\"\"\"\n",
    "    env.ChangeSettings(continue_from_done=False)\n",
    "    values = []\n",
    "    for _ in range(num_simulations):\n",
    "        values.append(_GetValueFromOneSimulation(policy, env, max_steps_in_simulation))\n",
    "    if print_values:\n",
    "        print(values)\n",
    "    return np.average(values)\n",
    "\n",
    "def _GetValueFromOneSimulation(\n",
    "    policy,  # Keras model\n",
    "    env: openai_wrapper.GymEnvironment,\n",
    "    max_steps_in_simulation: int,\n",
    ") -> int:\n",
    "    \"\"\"Gets the value of a policy using one simulaion.\"\"\"\n",
    "    env.Reset()\n",
    "    reward = 0.0\n",
    "    for _ in range(max_steps_in_simulation):\n",
    "        state = env.GetState()\n",
    "        try:\n",
    "            reward += env.TakeAction(_DecideAction(policy, state))\n",
    "        except openai_wrapper.OpenAiEnvironmentDone:\n",
    "            break\n",
    "    return reward\n",
    "        \n",
    "def _DecideAction(\n",
    "    policy,  # Keras model\n",
    "    state: np.ndarray,\n",
    ") -> int:\n",
    "    \"\"\"Decides an action based on a policy and a state.\"\"\"\n",
    "    action = 0 if policy.predict(np.reshape(state, INPUT_SHAPE)) < 0 else 1\n",
    "#     print(state, action)\n",
    "    return action"
   ]
  },
  {
   "cell_type": "code",
   "execution_count": 58,
   "metadata": {},
   "outputs": [
    {
     "data": {
      "text/plain": [
       "70.91"
      ]
     },
     "execution_count": 58,
     "metadata": {},
     "output_type": "execute_result"
    }
   ],
   "source": [
    "GetPolicyValue(model, openai_wrapper.GymEnvironment(gym.make('CartPole-v1')))"
   ]
  },
  {
   "cell_type": "code",
   "execution_count": 37,
   "metadata": {},
   "outputs": [],
   "source": [
    "model = Sequential()\n",
    "model.add(Dense(1, activation='linear', input_dim=4))\n",
    "model.compile(optimizer='sgd', loss='mse')\n",
    "policy_param_manager = model_optimization.ModelWeightManager(model)\n",
    "env = openai_wrapper.GymEnvironment(gym.make('CartPole-v1'))\n",
    "\n",
    "PLOT_EVERY_STEPS = 10\n",
    "\n",
    "DEBUG_HISTORY = []\n",
    "def EvaluatePolicy(policy_parameters) -> float:\n",
    "    policy_param_manager.SetWeights(policy_parameters)\n",
    "    score = -GetPolicyValue(policy_param_manager.model, env)\n",
    "    DEBUG_HISTORY.append([policy_parameters, score])\n",
    "    step = len(DEBUG_HISTORY)\n",
    "    if step % PLOT_EVERY_STEPS == 0:\n",
    "        display.clear_output(wait=True)\n",
    "        print('%d: %s, %s' % (step, score, policy_parameters))\n",
    "        y = [v[1] for v in DEBUG_HISTORY]\n",
    "        x = range(step)\n",
    "        plt.clf()\n",
    "        plt.plot(x, y)\n",
    "        display.display(plt.gcf())\n",
    "    if score < -490:\n",
    "        raise RuntimeError('score is good enough!')\n",
    "    return score"
   ]
  },
  {
   "cell_type": "code",
   "execution_count": 69,
   "metadata": {},
   "outputs": [
    {
     "name": "stdout",
     "output_type": "stream",
     "text": [
      "1: -8.29, [ 0.4615475   0.9871099  -0.23690563 -0.5939523   0.        ]\n"
     ]
    },
    {
     "data": {
      "text/plain": [
       "-8.29"
      ]
     },
     "execution_count": 69,
     "metadata": {},
     "output_type": "execute_result"
    }
   ],
   "source": [
    "EvaluatePolicy(policy_param_manager.GetWeights())"
   ]
  },
  {
   "cell_type": "code",
   "execution_count": 72,
   "metadata": {},
   "outputs": [
    {
     "name": "stdout",
     "output_type": "stream",
     "text": [
      "1: -206.78, [0.54217786 0.46289369 0.69957447 0.73812187 0.        ]\n",
      "2: -188.66, [0.56928675 0.46289369 0.69957447 0.73812187 0.        ]\n",
      "3: -224.51, [0.54217786 0.48603838 0.69957447 0.73812187 0.        ]\n",
      "4: -231.32, [0.54217786 0.46289369 0.73455319 0.73812187 0.        ]\n",
      "5: -212.22, [0.54217786 0.46289369 0.69957447 0.77502796 0.        ]\n",
      "6: -220.23, [5.42177856e-01 4.62893695e-01 6.99574471e-01 7.38121867e-01\n",
      " 2.50000000e-04]\n",
      "7: -252.4, [5.15068963e-01 4.72151569e-01 7.13565960e-01 7.52884305e-01\n",
      " 1.00000000e-04]\n",
      "8: -255.1, [4.87960070e-01 4.76780505e-01 7.20561705e-01 7.60265523e-01\n",
      " 1.50000000e-04]\n",
      "9: -243.21, [5.20490742e-01 4.77706293e-01 7.21960854e-01 7.61741767e-01\n",
      " 1.60000000e-04]\n",
      "10: -271.98, [5.11815896e-01 4.83631332e-01 7.30915407e-01 7.19521196e-01\n",
      " 2.24000000e-04]\n",
      "11: -304.62, [4.96634916e-01 4.94000151e-01 7.46585875e-01 6.91767814e-01\n",
      " 3.36000000e-04]\n",
      "12: -293.27, [4.93598720e-01 4.96073915e-01 7.49719969e-01 7.37885668e-01\n",
      " 8.40000000e-06]\n",
      "13: -355.68, [4.74167066e-01 4.76943444e-01 7.69778168e-01 7.37791189e-01\n",
      " 2.61760000e-04]\n",
      "14: -438.0, [4.40161671e-01 4.72395976e-01 8.04880016e-01 7.37625849e-01\n",
      " 3.92640000e-04]\n",
      "15: -397.8, [4.33360592e-01 5.03889041e-01 7.62930173e-01 7.37592781e-01\n",
      " 4.18816000e-04]\n",
      "16: -487.51, [4.20195646e-01 4.99549543e-01 7.91910242e-01 7.04313287e-01\n",
      " 3.62342400e-04]\n",
      "17: -499.0, [3.70048098e-01 5.10471168e-01 8.26884936e-01 6.75599048e-01\n",
      " 4.63513600e-04]\n",
      "18: -499.0, [4.05561528e-01 5.13951595e-01 8.35838683e-01 6.71922941e-01\n",
      " 4.97747840e-04]\n",
      "19: -499.0, [3.64708002e-01 5.01809258e-01 8.41127905e-01 6.67917705e-01\n",
      " 8.35086976e-04]\n",
      "20: -499.0, [3.08901040e-01 5.07006664e-01 8.82078810e-01 7.04495516e-01\n",
      " 7.07121766e-04]\n",
      "21: -499.0, [3.22391543e-01 4.98364823e-01 9.13393967e-01 6.45431642e-01\n",
      " 7.39628073e-04]\n",
      "22: -499.0, [2.68482414e-01 5.40245427e-01 9.14849703e-01 6.08520892e-01\n",
      " 9.04599302e-04]\n",
      "23: -499.0, [3.11402228e-01 5.23283064e-01 8.87357282e-01 6.40797131e-01\n",
      " 7.76609477e-04]\n",
      "24: -499.0, [3.97241856e-01 4.89358339e-01 8.32372438e-01 7.05349610e-01\n",
      " 5.20629826e-04]\n",
      "25: -499.0, [3.32862135e-01 5.14801883e-01 8.73611071e-01 6.56935251e-01\n",
      " 7.12614564e-04]\n",
      "26: -499.0, [3.87804813e-01 5.12211381e-01 8.31361809e-01 6.73760994e-01\n",
      " 4.80630720e-04]\n",
      "27: -499.0, [3.67378050e-01 5.06140213e-01 8.34006420e-01 6.71758376e-01\n",
      " 6.49300288e-04]\n",
      "28: -499.0, [3.39474569e-01 5.08738916e-01 8.54481873e-01 6.90047282e-01\n",
      " 5.85317683e-04]\n",
      "29: -499.0, [3.46219821e-01 5.04417995e-01 8.70139451e-01 6.60515345e-01\n",
      " 6.01570836e-04]\n",
      "30: -499.0, [3.40725163e-01 5.16877116e-01 8.57121109e-01 6.58198089e-01\n",
      " 6.20061538e-04]\n",
      "31: -499.0, [3.83644977e-01 4.99914753e-01 8.29628687e-01 6.90474329e-01\n",
      " 4.92071713e-04]\n",
      "32: -499.0, [3.51455116e-01 5.12636525e-01 8.50248003e-01 6.66267149e-01\n",
      " 5.88064082e-04]\n",
      "33: -499.0, [3.78926455e-01 5.11341274e-01 8.29123372e-01 6.74680021e-01\n",
      " 4.72072160e-04]\n",
      "34: -499.0, [3.68713074e-01 5.08305690e-01 8.30445678e-01 6.73678712e-01\n",
      " 5.56406944e-04]\n",
      "35: -499.0, [3.54761333e-01 5.09605042e-01 8.40683404e-01 6.82823165e-01\n",
      " 5.24415642e-04]\n",
      "36: -499.0, [3.58133959e-01 5.07444581e-01 8.48512193e-01 6.68057196e-01\n",
      " 5.32542218e-04]\n",
      "37: -499.0, [3.55386630e-01 5.13674142e-01 8.42003022e-01 6.66898569e-01\n",
      " 5.41787569e-04]\n",
      "38: -499.0, [3.76846537e-01 5.05192960e-01 8.28256811e-01 6.83036688e-01\n",
      " 4.77792656e-04]\n",
      "39: -499.0, [3.60751607e-01 5.11553846e-01 8.38566469e-01 6.70933098e-01\n",
      " 5.25788841e-04]\n",
      "40: -499.0, [3.74487277e-01 5.10906221e-01 8.28004154e-01 6.75139534e-01\n",
      " 4.67792880e-04]\n",
      "41: -499.0, [3.69380586e-01 5.09388429e-01 8.28665307e-01 6.74638880e-01\n",
      " 5.09960272e-04]\n",
      "42: -499.0, [3.62404715e-01 5.10038105e-01 8.33784170e-01 6.79211106e-01\n",
      " 4.93964621e-04]\n",
      "43: -499.0, [3.64091028e-01 5.08957875e-01 8.37698564e-01 6.71828122e-01\n",
      " 4.98027909e-04]\n",
      "44: -499.0, [3.62717364e-01 5.12072655e-01 8.34443979e-01 6.71248808e-01\n",
      " 5.02650585e-04]\n",
      "45: -499.0, [3.73447318e-01 5.07832064e-01 8.27570873e-01 6.79317868e-01\n",
      " 4.70653128e-04]\n",
      "46: -499.0, [3.65399852e-01 5.11012507e-01 8.32725702e-01 6.73266073e-01\n",
      " 4.94651220e-04]\n",
      "47: -499.0, [3.72267687e-01 5.10688694e-01 8.27444545e-01 6.75369291e-01\n",
      " 4.65653240e-04]\n",
      "48: -499.0, [3.69714342e-01 5.09929798e-01 8.27775121e-01 6.75118964e-01\n",
      " 4.86736936e-04]\n",
      "49: -499.0, [3.66226407e-01 5.10254636e-01 8.30334553e-01 6.77405077e-01\n",
      " 4.78739110e-04]\n",
      "50: -499.0, [3.67069563e-01 5.09714521e-01 8.32291750e-01 6.73713585e-01\n",
      " 4.80770755e-04]\n",
      "51: -499.0, [3.66382731e-01 5.11271911e-01 8.30664457e-01 6.73423928e-01\n",
      " 4.83082092e-04]\n",
      "52: -499.0, [3.71747708e-01 5.09151616e-01 8.27227904e-01 6.77458458e-01\n",
      " 4.67083364e-04]\n",
      "53: -499.0, [3.67723975e-01 5.10741837e-01 8.29805319e-01 6.74432560e-01\n",
      " 4.79082410e-04]\n",
      "54: -499.0, [3.71157892e-01 5.10579931e-01 8.27164740e-01 6.75484169e-01\n",
      " 4.64583420e-04]\n",
      "55: -499.0, [3.69881220e-01 5.10200483e-01 8.27330028e-01 6.75359006e-01\n",
      " 4.75125268e-04]\n",
      "56: -499.0, [3.68137252e-01 5.10362902e-01 8.28609744e-01 6.76502062e-01\n",
      " 4.71126355e-04]\n",
      "57: -499.0, [3.68558830e-01 5.10092844e-01 8.29588343e-01 6.74656316e-01\n",
      " 4.72142177e-04]\n",
      "58: -499.0, [3.68215414e-01 5.10871539e-01 8.28774696e-01 6.74511488e-01\n",
      " 4.73297846e-04]\n",
      "59: -499.0, [3.70897903e-01 5.09811392e-01 8.27056420e-01 6.76528753e-01\n",
      " 4.65298482e-04]\n",
      "60: -499.0, [3.68886036e-01 5.10606502e-01 8.28345127e-01 6.75015804e-01\n",
      " 4.71298005e-04]\n",
      "61: -499.0, [3.70602995e-01 5.10525549e-01 8.27024838e-01 6.75541609e-01\n",
      " 4.64048510e-04]\n",
      "62: -499.0, [3.69964659e-01 5.10335825e-01 8.27107482e-01 6.75479027e-01\n",
      " 4.69319434e-04]\n",
      "63: -499.0, [3.69092675e-01 5.10417035e-01 8.27747340e-01 6.76050555e-01\n",
      " 4.67319978e-04]\n",
      "64: -499.0, [3.69303464e-01 5.10282006e-01 8.28236639e-01 6.75127682e-01\n",
      " 4.67827889e-04]\n",
      "65: -499.0, [3.69131756e-01 5.10671354e-01 8.27829816e-01 6.75055268e-01\n",
      " 4.68405723e-04]\n",
      "66: -499.0, [3.70473000e-01 5.10141280e-01 8.26970678e-01 6.76063900e-01\n",
      " 4.64406041e-04]\n",
      "67: -499.0, [3.69467067e-01 5.10538835e-01 8.27615031e-01 6.75307426e-01\n",
      " 4.67405803e-04]\n",
      "68: -499.0, [3.70325546e-01 5.10498358e-01 8.26954887e-01 6.75570328e-01\n",
      " 4.63781055e-04]\n",
      "69: -499.0, [3.70006378e-01 5.10403496e-01 8.26996209e-01 6.75539037e-01\n",
      " 4.66416517e-04]\n",
      "70: -499.0, [3.69570386e-01 5.10444101e-01 8.27316138e-01 6.75824801e-01\n",
      " 4.65416789e-04]\n",
      "71: -499.0, [3.69675781e-01 5.10376587e-01 8.27560787e-01 6.75363365e-01\n",
      " 4.65670744e-04]\n",
      "72: -499.0, [3.69589927e-01 5.10571261e-01 8.27357376e-01 6.75327158e-01\n",
      " 4.65959662e-04]\n",
      "73: -499.0, [3.70260549e-01 5.10306224e-01 8.26927807e-01 6.75831474e-01\n",
      " 4.63959821e-04]\n",
      "74: -499.0, [3.69757582e-01 5.10505001e-01 8.27249983e-01 6.75453237e-01\n",
      " 4.65459701e-04]\n",
      "75: -499.0, [3.70186822e-01 5.10484763e-01 8.26919911e-01 6.75584688e-01\n",
      " 4.63647328e-04]\n",
      "76: -499.0, [3.70027238e-01 5.10437332e-01 8.26940572e-01 6.75569043e-01\n",
      " 4.64965059e-04]\n",
      "77: -499.0, [3.69809242e-01 5.10457634e-01 8.27100537e-01 6.75711925e-01\n",
      " 4.64465194e-04]\n",
      "78: -499.0, [3.69861939e-01 5.10423877e-01 8.27222861e-01 6.75481206e-01\n",
      " 4.64592172e-04]\n",
      "79: -499.0, [3.69819012e-01 5.10521214e-01 8.27121156e-01 6.75463103e-01\n",
      " 4.64736631e-04]\n",
      "80: -499.0, [3.70154323e-01 5.10388696e-01 8.26906371e-01 6.75715261e-01\n",
      " 4.63736710e-04]\n",
      "81: -499.0, [3.69902840e-01 5.10488085e-01 8.27067459e-01 6.75526142e-01\n",
      " 4.64486651e-04]\n",
      "82: -499.0, [3.70117460e-01 5.10477965e-01 8.26902423e-01 6.75591868e-01\n",
      " 4.63580464e-04]\n",
      "83: -499.0, [3.70037668e-01 5.10454250e-01 8.26912754e-01 6.75584045e-01\n",
      " 4.64239329e-04]\n",
      "84: -499.0, [3.69928670e-01 5.10464401e-01 8.26992736e-01 6.75655486e-01\n",
      " 4.63989397e-04]\n",
      "85: -499.0, [3.69955019e-01 5.10447522e-01 8.27053898e-01 6.75540127e-01\n",
      " 4.64052886e-04]\n",
      "86: -499.0, [3.69933555e-01 5.10496191e-01 8.27003046e-01 6.75531075e-01\n",
      " 4.64125115e-04]\n",
      "87: -499.0, [3.70101211e-01 5.10429932e-01 8.26895653e-01 6.75657154e-01\n",
      " 4.63625155e-04]\n",
      "88: -499.0, [3.69975469e-01 5.10479626e-01 8.26976197e-01 6.75562595e-01\n",
      " 4.64000125e-04]\n",
      "89: -499.0, [3.70082779e-01 5.10474566e-01 8.26893679e-01 6.75595458e-01\n",
      " 4.63547032e-04]\n",
      "90: -499.0, [3.70042883e-01 5.10462709e-01 8.26898845e-01 6.75591546e-01\n",
      " 4.63876465e-04]\n",
      "91: -499.0, [3.69988384e-01 5.10467784e-01 8.26938836e-01 6.75627267e-01\n",
      " 4.63751499e-04]\n",
      "92: -499.0, [3.70001558e-01 5.10459345e-01 8.26969417e-01 6.75569587e-01\n",
      " 4.63783243e-04]\n",
      "93: -499.0, [3.69990826e-01 5.10483679e-01 8.26943991e-01 6.75565061e-01\n",
      " 4.63819358e-04]\n",
      "Optimization terminated successfully.\n",
      "         Current function value: -499.000000\n",
      "         Iterations: 23\n",
      "         Function evaluations: 93\n",
      "94: -499.0, [3.70048098e-01 5.10471168e-01 8.26884936e-01 6.75599048e-01\n",
      " 4.63513600e-04]\n",
      "The best policy: [3.70048098e-01 5.10471168e-01 8.26884936e-01 6.75599048e-01\n",
      " 4.63513600e-04], value: -499.0\n"
     ]
    }
   ],
   "source": [
    "from scipy import optimize\n",
    "\n",
    "DEBUG_HISTORY = []\n",
    "policy_param_manager.SetWeights(np.array([0.54217784, 0.46289368, 0.6995745, 0.73812184, 0.0]))\n",
    "best_policy = np.array(optimize.fmin(EvaluatePolicy, policy_param_manager.GetWeights(), disp=True))\n",
    "print('The best policy: %s, value: %s' % (best_policy, EvaluatePolicy(best_policy)))"
   ]
  },
  {
   "cell_type": "code",
   "execution_count": 63,
   "metadata": {},
   "outputs": [],
   "source": [
    "BEST_POLICY_VECTOR = [0.29429113, 0.55242426, 1.05572365, 1.27730287]"
   ]
  },
  {
   "cell_type": "code",
   "execution_count": 64,
   "metadata": {},
   "outputs": [
    {
     "name": "stdout",
     "output_type": "stream",
     "text": [
      "[0.29429114 0.55242425 1.0557237  1.2773029  0.        ]\n",
      "1003: -499.0, [0.29429114 0.55242425 1.0557237  1.2773029  0.        ]\n"
     ]
    },
    {
     "data": {
      "text/plain": [
       "-499.0"
      ]
     },
     "execution_count": 64,
     "metadata": {},
     "output_type": "execute_result"
    }
   ],
   "source": [
    "policy_param_manager.SetWeights(np.array([0.29429113, 0.55242426, 1.05572365, 1.27730287, 0.0]))\n",
    "print(policy_param_manager.GetWeights())\n",
    "EvaluatePolicy(policy_param_manager.GetWeights())"
   ]
  },
  {
   "cell_type": "code",
   "execution_count": 65,
   "metadata": {},
   "outputs": [
    {
     "name": "stdout",
     "output_type": "stream",
     "text": [
      "[0.9856371  0.6642918  0.7801228  0.94977874 0.        ]\n",
      "1004: -115.42, [0.9856371  0.6642918  0.7801228  0.94977874 0.        ]\n"
     ]
    },
    {
     "data": {
      "text/plain": [
       "-115.42"
      ]
     },
     "execution_count": 65,
     "metadata": {},
     "output_type": "execute_result"
    }
   ],
   "source": [
    "policy_param_manager.SetWeights(np.array([0.98563711, 0.66429181, 0.78012283, 0.94977875, 0.0]))\n",
    "print(policy_param_manager.GetWeights())\n",
    "EvaluatePolicy(policy_param_manager.GetWeights())"
   ]
  },
  {
   "cell_type": "code",
   "execution_count": 66,
   "metadata": {},
   "outputs": [
    {
     "name": "stdout",
     "output_type": "stream",
     "text": [
      "[1.034919   0.6642918  0.7801228  0.94977874 0.        ]\n",
      "1005: -109.5, [1.034919   0.6642918  0.7801228  0.94977874 0.        ]\n"
     ]
    },
    {
     "data": {
      "text/plain": [
       "-109.5"
      ]
     },
     "execution_count": 66,
     "metadata": {},
     "output_type": "execute_result"
    }
   ],
   "source": [
    "policy_param_manager.SetWeights(np.array([1.03491897, 0.66429181, 0.78012283, 0.94977875, 0.0]))\n",
    "print(policy_param_manager.GetWeights())\n",
    "EvaluatePolicy(policy_param_manager.GetWeights())"
   ]
  },
  {
   "cell_type": "code",
   "execution_count": 67,
   "metadata": {},
   "outputs": [
    {
     "name": "stdout",
     "output_type": "stream",
     "text": [
      "[0.9856371  0.6975064  0.7801228  0.94977874 0.        ]\n",
      "1006: -116.87, [0.9856371  0.6975064  0.7801228  0.94977874 0.        ]\n"
     ]
    },
    {
     "data": {
      "text/plain": [
       "-116.87"
      ]
     },
     "execution_count": 67,
     "metadata": {},
     "output_type": "execute_result"
    }
   ],
   "source": [
    "policy_param_manager.SetWeights(np.array([0.98563711, 0.6975064, 0.78012283, 0.94977875, 0.0]))\n",
    "print(policy_param_manager.GetWeights())\n",
    "EvaluatePolicy(policy_param_manager.GetWeights())"
   ]
  },
  {
   "cell_type": "code",
   "execution_count": 17,
   "metadata": {},
   "outputs": [
    {
     "name": "stdout",
     "output_type": "stream",
     "text": [
      "1000: -114.94, [ 1.19387182  0.00571772  0.68666377  1.28491647 -0.02227754]\n"
     ]
    },
    {
     "data": {
      "image/png": "[encoded data removed]",
      "text/plain": [
       "<Figure size 432x288 with 1 Axes>"
      ]
     },
     "metadata": {},
     "output_type": "display_data"
    },
    {
     "name": "stdout",
     "output_type": "stream",
     "text": [
      "Warning: Maximum number of function evaluations has been exceeded.\n",
      "The best policy: [ 1.19387182  0.00571772  0.68666377  1.28491647 -0.02227754], value: -112.47\n",
      "CPU times: user 1h 4min 53s, sys: 2min 3s, total: 1h 6min 57s\n",
      "Wall time: 1h 7min 28s\n"
     ]
    },
    {
     "data": {
      "image/png": "[encoded data removed]",
      "text/plain": [
       "<Figure size 432x288 with 1 Axes>"
      ]
     },
     "metadata": {
      "needs_background": "light"
     },
     "output_type": "display_data"
    }
   ],
   "source": [
    "%%time\n",
    "\n",
    "from scipy import optimize\n",
    "\n",
    "DEBUG_HISTORY = []\n",
    "policy_param_manager.SetWeights(np.random.rand(5))\n",
    "best_policy = np.array(optimize.fmin(EvaluatePolicy, policy_param_manager.GetWeights(), disp=True))\n",
    "print('The best policy: %s, value: %s' % (best_policy, EvaluatePolicy(best_policy)))"
   ]
  },
  {
   "cell_type": "code",
   "execution_count": 12,
   "metadata": {},
   "outputs": [
    {
     "data": {
      "text/plain": [
       "[[array([0.80258614, 0.39702812, 0.8928411 , 0.33042556, 0.3294172 ]), -8.57],\n",
       " [array([0.84271545, 0.39702812, 0.8928411 , 0.33042556, 0.3294172 ]), -8.34],\n",
       " [array([0.80258614, 0.41687952, 0.8928411 , 0.33042556, 0.3294172 ]), -8.4],\n",
       " [array([0.80258614, 0.39702812, 0.93748316, 0.33042556, 0.3294172 ]), -8.45],\n",
       " [array([0.80258614, 0.39702812, 0.8928411 , 0.34694684, 0.3294172 ]), -8.91],\n",
       " [array([0.80258614, 0.39702812, 0.8928411 , 0.33042556, 0.34588806]), -8.45],\n",
       " [array([0.76245683, 0.40496868, 0.91069792, 0.33703407, 0.33600554]), -8.44],\n",
       " [array([0.78653442, 0.38035294, 0.91784065, 0.33967748, 0.33864088]), -9.1],\n",
       " [array([0.77850855, 0.36208964, 0.93034043, 0.34430343, 0.34325272]), -9.84],\n",
       " [array([0.83308441, 0.37511217, 0.90784083, 0.33597671, 0.33495141]), -8.87],\n",
       " [array([0.80515441, 0.37428635, 0.93169755, 0.34480568, 0.32069423]), -9.97],\n",
       " [array([0.80643855, 0.36291546, 0.95112577, 0.35199574, 0.30809732]), -10.49],\n",
       " [array([0.80669538, 0.36064129, 0.89251254, 0.35343375, 0.32863714]), -10.23],\n",
       " [array([0.80833908, 0.34608655, 0.93702316, 0.36263703, 0.32832511]), -10.72],\n",
       " [array([0.81121554, 0.32061577, 0.9591142 , 0.37874276, 0.32777907]), -11.11],\n",
       " [array([0.76909326, 0.34620395, 0.94253278, 0.3741923 , 0.31992197]), -11.01],\n",
       " [array([0.78619438, 0.30395832, 0.97740918, 0.37412036, 0.32165809]), -11.35],\n",
       " [array([0.77799849, 0.25742343, 1.01969322, 0.38770712, 0.31777854]), -12.62],\n",
       " [array([0.81006794, 0.29703031, 0.97565097, 0.39412524, 0.29763289]), -12.59],\n",
       " [array([0.78323013, 0.27303428, 1.04673424, 0.40127151, 0.29984678]), -13.35],\n",
       " [array([0.77149751, 0.22923078, 1.12384509, 0.42519039, 0.2854516 ]), -20.41],\n",
       " [array([0.76951054, 0.21728623, 1.05720874, 0.43198739, 0.31132831]), -16.13],\n",
       " [array([0.80702276, 0.18243066, 1.11167211, 0.43290886, 0.29606619]), -20.34],\n",
       " [array([0.76322335, 0.15274479, 1.15611386, 0.45002484, 0.27552394]), -33.63],\n",
       " [array([0.73922726, 0.06880931, 1.25461369, 0.48566587, 0.24939637]), -55.29],\n",
       " [array([0.73603469, 0.08504185, 1.25116217, 0.47125861, 0.28637551]), -38.63],\n",
       " [array([0.75131861, 0.0556961 , 1.29970749, 0.51109733, 0.25366866]), -60.55],\n",
       " [array([ 0.73797867, -0.04516756,  1.43971463,  0.57279244,  0.22161372]),\n",
       "  -83.1],\n",
       " [array([ 0.74719381, -0.00914821,  1.41519434,  0.52313908,  0.22423305]),\n",
       "  -77.09],\n",
       " [array([ 0.68575002, -0.0509242 ,  1.48213986,  0.5583097 ,  0.21076191]),\n",
       "  -87.19],\n",
       " [array([ 0.62511365, -0.16760162,  1.66737373,  0.62101012,  0.16810976]),\n",
       "  -108.48],\n",
       " [array([ 0.66272172, -0.25645727,  1.68737833,  0.64435606,  0.17443977]),\n",
       "  -112.97],\n",
       " [array([ 0.60833382, -0.4993013 ,  1.96914495,  0.75393889,  0.11893385]),\n",
       "  -105.55],\n",
       " [array([ 0.66885935, -0.24886799,  1.73454772,  0.66752681,  0.12874156]),\n",
       "  -122.34],\n",
       " [array([ 0.63527168, -0.41582292,  1.9762405 ,  0.76566091,  0.04992458]),\n",
       "  -253.22],\n",
       " [array([ 0.62408455, -0.42648834,  2.01974692,  0.76511757,  0.08593198]),\n",
       "  -168.53],\n",
       " [array([ 0.56687429, -0.51546687,  2.10098731,  0.82443575,  0.05577488]),\n",
       "  -267.64],\n",
       " [array([ 0.47671454, -0.7686262 ,  2.44388379,  0.97508409, -0.02845421]),\n",
       "  -330.71],\n",
       " [array([ 0.47158378, -0.76883099,  2.47813468,  0.93569906, -0.04163297]),\n",
       "  -294.71],\n",
       " [array([ 0.52303686, -0.88688866,  2.57477996,  1.01335695, -0.0720261 ]),\n",
       "  -246.21],\n",
       " [array([ 0.42955484, -1.05020557,  2.90973601,  1.13761138, -0.17694246]),\n",
       "  -109.04],\n",
       " [array([ 0.60443   , -0.45489435,  1.99296775,  0.76766989,  0.08659421]),\n",
       "  -168.2],\n",
       " [array([ 0.48784656, -0.8517685 ,  2.60414659,  1.01429755, -0.0890969 ]),\n",
       "  -183.96],\n",
       " [array([ 0.41369682, -1.05028656,  2.81112728,  1.11652186, -0.15844622]),\n",
       "  -103.37],\n",
       " [array([ 0.57148761, -0.5824379 ,  2.21759201,  0.85296864,  0.02483743]),\n",
       "  -312.67],\n",
       " [array([ 0.58339122, -0.51727417,  2.07210578,  0.80281031,  0.06215639]),\n",
       "  -254.72],\n",
       " [array([ 0.57234268, -0.3343082 ,  1.90040275,  0.71953225,  0.09875859]),\n",
       "  -144.55],\n",
       " [array([ 0.53536331, -0.74874355,  2.40618565,  0.93990078, -0.02932993]),\n",
       "  -355.57],\n",
       " [array([ 0.42014451, -0.9385422 ,  2.67092027,  1.03692424, -0.05489389]),\n",
       "  -264.54],\n",
       " [array([ 0.40672628, -1.00559816,  2.81458078,  1.09342041, -0.11394582]),\n",
       "  -170.87],\n",
       " [array([ 0.53922499, -0.63935517,  2.25772453,  0.87546284,  0.01813084]),\n",
       "  -378.96],\n",
       " [array([ 0.61760518, -0.46465532,  2.050488  ,  0.79472192,  0.03231436]),\n",
       "  -330.19],\n",
       " [array([ 0.62457447, -0.51269627,  2.07221492,  0.83955625,  0.04863236]),\n",
       "  -269.94],\n",
       " [array([ 0.50983145, -0.70479731,  2.37665474,  0.91166336, -0.01906664]),\n",
       "  -336.99],\n",
       " [array([ 0.50000817, -0.74803312,  2.39638267,  0.94576455, -0.03539966]),\n",
       "  -333.26],\n",
       " [array([ 0.4068518 , -0.97916682,  2.70184456,  1.06442833, -0.0699622 ]),\n",
       "  -264.59],\n",
       " [array([ 0.56491684, -0.59328319,  2.21332714,  0.86214852,  0.00674522]),\n",
       "  -361.72],\n",
       " [array([ 0.58302337, -0.60505873,  2.2162261 ,  0.83889193,  0.00488614]),\n",
       "  -345.88],\n",
       " [array([ 0.59293581, -0.56846206,  2.19166459,  0.82546242,  0.02794591]),\n",
       "  -335.14],\n",
       " [array([ 0.5697039 , -0.61335483,  2.24284411,  0.85553795,  0.01210952]),\n",
       "  -379.74],\n",
       " [array([ 0.60706151, -0.57512088,  2.15786828,  0.83711345,  0.02408335]),\n",
       "  -299.26],\n",
       " [array([ 0.53413897, -0.6723782 ,  2.32195812,  0.89302588, -0.00827914]),\n",
       "  -379.5],\n",
       " [array([ 0.51431583, -0.70178724,  2.36058972,  0.93153846, -0.00513554]),\n",
       "  -364.7],\n",
       " [array([ 0.5535569 , -0.5393199 ,  2.1523918 ,  0.82718468,  0.03875829]),\n",
       "  -322.84],\n",
       " [array([ 0.53991171, -0.69638764,  2.34273719,  0.91172175, -0.01230787]),\n",
       "  -351.2],\n",
       " [array([ 5.51921434e-01, -6.42866512e-01,  2.28240112e+00,  8.74281917e-01,\n",
       "          1.91519104e-03]), -321.33],\n",
       " [array([ 0.55446444, -0.626355  ,  2.25028432,  0.8655004 ,  0.01512018]),\n",
       "  -356.02],\n",
       " [array([ 0.54200987, -0.65757103,  2.30171692,  0.89353821,  0.00348699]),\n",
       "  -349.48],\n",
       " [array([ 0.56731037, -0.60331901,  2.22808563,  0.85884324,  0.00942737]),\n",
       "  -339.05],\n",
       " [array([ 0.55253361, -0.68104919,  2.32451488,  0.89771937, -0.0086102 ]),\n",
       "  -377.36],\n",
       " [array([ 0.56248744, -0.62979311,  2.25657723,  0.87417375,  0.01069835]),\n",
       "  -338.17],\n",
       " [array([ 0.55984594, -0.63306146,  2.2630332 ,  0.87420079,  0.00850256]),\n",
       "  -329.55],\n",
       " [array([ 5.61118754e-01, -6.47202006e-01,  2.28367950e+00,  8.76628659e-01,\n",
       "          1.74965794e-03]), -336.84]]"
      ]
     },
     "execution_count": 12,
     "metadata": {},
     "output_type": "execute_result"
    }
   ],
   "source": [
    "DEBUG_HISTORY"
   ]
  },
  {
   "cell_type": "code",
   "execution_count": 18,
   "metadata": {},
   "outputs": [
    {
     "name": "stdout",
     "output_type": "stream",
     "text": [
      "110: -499.0, [0.31032994 0.1778262  1.45710001 0.6782369  0.13963591]\n"
     ]
    },
    {
     "data": {
      "image/png": "[encoded data removed]",
      "text/plain": [
       "<Figure size 432x288 with 1 Axes>"
      ]
     },
     "metadata": {},
     "output_type": "display_data"
    },
    {
     "name": "stdout",
     "output_type": "stream",
     "text": [
      "Optimization terminated successfully.\n",
      "         Current function value: -499.000000\n",
      "         Iterations: 35\n",
      "         Function evaluations: 114\n",
      "The best policy: [0.31033061 0.1777982  1.4571873  0.67825362 0.13961084], value: -499.0\n",
      "CPU times: user 28min 15s, sys: 56.3 s, total: 29min 11s\n",
      "Wall time: 29min 23s\n"
     ]
    },
    {
     "data": {
      "image/png": "[encoded data removed]",
      "text/plain": [
       "<Figure size 432x288 with 1 Axes>"
      ]
     },
     "metadata": {
      "needs_background": "light"
     },
     "output_type": "display_data"
    }
   ],
   "source": [
    "%%time\n",
    "\n",
    "from scipy import optimize\n",
    "\n",
    "DEBUG_HISTORY = []\n",
    "policy_param_manager.SetWeights(np.random.rand(5))\n",
    "best_policy = np.array(optimize.fmin(EvaluatePolicy, policy_param_manager.GetWeights(), disp=True))\n",
    "print('The best policy: %s, value: %s' % (best_policy, EvaluatePolicy(best_policy)))"
   ]
  },
  {
   "cell_type": "markdown",
   "metadata": {},
   "source": [
    "## Try some variation"
   ]
  },
  {
   "cell_type": "code",
   "execution_count": 33,
   "metadata": {},
   "outputs": [
    {
     "data": {
      "text/plain": [
       "5"
      ]
     },
     "execution_count": 33,
     "metadata": {},
     "output_type": "execute_result"
    }
   ],
   "source": [
    "model = Sequential()\n",
    "model.add(Dense(1, activation='relu', input_dim=4))\n",
    "model.compile(optimizer='sgd', loss='mse')\n",
    "\n",
    "policy_param_manager = model_optimization.ModelWeightManager(model)\n",
    "policy_param_manager.size"
   ]
  },
  {
   "cell_type": "code",
   "execution_count": 27,
   "metadata": {},
   "outputs": [],
   "source": [
    "INPUT_SHAPE = (1, 4)\n",
    "\n",
    "def GetPolicyValue(\n",
    "    policy,  # Keras model\n",
    "    env: openai_wrapper.GymEnvironment,\n",
    "    num_simulations: int = 100,\n",
    "    max_steps_in_simulation: int = 5000,\n",
    "    print_values: bool = False,\n",
    ") -> float:\n",
    "    \"\"\"Gets the potential value of a policy via simulation.\"\"\"\n",
    "    env.ChangeSettings(continue_from_done=False)\n",
    "    values = []\n",
    "    for _ in range(num_simulations):\n",
    "        values.append(_GetValueFromOneSimulation(policy, env, max_steps_in_simulation))\n",
    "    if print_values:\n",
    "        print(values)\n",
    "    return np.average(values)\n",
    "\n",
    "def _GetValueFromOneSimulation(\n",
    "    policy,  # Keras model\n",
    "    env: openai_wrapper.GymEnvironment,\n",
    "    max_steps_in_simulation: int,\n",
    ") -> int:\n",
    "    \"\"\"Gets the value of a policy using one simulaion.\"\"\"\n",
    "    env.Reset()\n",
    "    reward = 0.0\n",
    "    for _ in range(max_steps_in_simulation):\n",
    "        state = env.GetState()\n",
    "        try:\n",
    "            reward += env.TakeAction(_DecideAction(policy, state))\n",
    "        except openai_wrapper.OpenAiEnvironmentDone:\n",
    "            break\n",
    "    return reward\n",
    "        \n",
    "def _DecideAction(\n",
    "    policy,  # Keras model\n",
    "    state: np.ndarray,\n",
    ") -> int:\n",
    "    \"\"\"Decides an action based on a policy and a state.\"\"\"\n",
    "    action = 0 if policy.predict(np.reshape(state, INPUT_SHAPE)) < 0.5 else 1\n",
    "#     print(state, action)\n",
    "    return action"
   ]
  },
  {
   "cell_type": "code",
   "execution_count": 34,
   "metadata": {},
   "outputs": [
    {
     "name": "stdout",
     "output_type": "stream",
     "text": [
      "90: -499.0, [0.24761516 0.45994614 1.03090574 1.26229877 0.50688837]\n"
     ]
    },
    {
     "data": {
      "image/png": "[encoded data removed]",
      "text/plain": [
       "<Figure size 432x288 with 1 Axes>"
      ]
     },
     "metadata": {},
     "output_type": "display_data"
    },
    {
     "ename": "KeyboardInterrupt",
     "evalue": "",
     "output_type": "error",
     "traceback": [
      "\u001b[0;31m---------------------------------------------------------------------------\u001b[0m",
      "\u001b[0;31mKeyboardInterrupt\u001b[0m                         Traceback (most recent call last)",
      "\u001b[0;32m<timed exec>\u001b[0m in \u001b[0;36m<module>\u001b[0;34m\u001b[0m\n",
      "\u001b[0;32m/usr/local/lib/python3.5/dist-packages/scipy/optimize/optimize.py\u001b[0m in \u001b[0;36mfmin\u001b[0;34m(func, x0, args, xtol, ftol, maxiter, maxfun, full_output, disp, retall, callback, initial_simplex)\u001b[0m\n\u001b[1;32m    407\u001b[0m             'initial_simplex': initial_simplex}\n\u001b[1;32m    408\u001b[0m \u001b[0;34m\u001b[0m\u001b[0m\n\u001b[0;32m--> 409\u001b[0;31m     \u001b[0mres\u001b[0m \u001b[0;34m=\u001b[0m \u001b[0m_minimize_neldermead\u001b[0m\u001b[0;34m(\u001b[0m\u001b[0mfunc\u001b[0m\u001b[0;34m,\u001b[0m \u001b[0mx0\u001b[0m\u001b[0;34m,\u001b[0m \u001b[0margs\u001b[0m\u001b[0;34m,\u001b[0m \u001b[0mcallback\u001b[0m\u001b[0;34m=\u001b[0m\u001b[0mcallback\u001b[0m\u001b[0;34m,\u001b[0m \u001b[0;34m**\u001b[0m\u001b[0mopts\u001b[0m\u001b[0;34m)\u001b[0m\u001b[0;34m\u001b[0m\u001b[0m\n\u001b[0m\u001b[1;32m    410\u001b[0m     \u001b[0;32mif\u001b[0m \u001b[0mfull_output\u001b[0m\u001b[0;34m:\u001b[0m\u001b[0;34m\u001b[0m\u001b[0m\n\u001b[1;32m    411\u001b[0m         \u001b[0mretlist\u001b[0m \u001b[0;34m=\u001b[0m \u001b[0mres\u001b[0m\u001b[0;34m[\u001b[0m\u001b[0;34m'x'\u001b[0m\u001b[0;34m]\u001b[0m\u001b[0;34m,\u001b[0m \u001b[0mres\u001b[0m\u001b[0;34m[\u001b[0m\u001b[0;34m'fun'\u001b[0m\u001b[0;34m]\u001b[0m\u001b[0;34m,\u001b[0m \u001b[0mres\u001b[0m\u001b[0;34m[\u001b[0m\u001b[0;34m'nit'\u001b[0m\u001b[0;34m]\u001b[0m\u001b[0;34m,\u001b[0m \u001b[0mres\u001b[0m\u001b[0;34m[\u001b[0m\u001b[0;34m'nfev'\u001b[0m\u001b[0;34m]\u001b[0m\u001b[0;34m,\u001b[0m \u001b[0mres\u001b[0m\u001b[0;34m[\u001b[0m\u001b[0;34m'status'\u001b[0m\u001b[0;34m]\u001b[0m\u001b[0;34m\u001b[0m\u001b[0m\n",
      "\u001b[0;32m/usr/local/lib/python3.5/dist-packages/scipy/optimize/optimize.py\u001b[0m in \u001b[0;36m_minimize_neldermead\u001b[0;34m(func, x0, args, callback, maxiter, maxfev, disp, return_all, initial_simplex, xatol, fatol, adaptive, **unknown_options)\u001b[0m\n\u001b[1;32m    597\u001b[0m                     \u001b[0;31m# Perform an inside contraction\u001b[0m\u001b[0;34m\u001b[0m\u001b[0;34m\u001b[0m\u001b[0m\n\u001b[1;32m    598\u001b[0m                     \u001b[0mxcc\u001b[0m \u001b[0;34m=\u001b[0m \u001b[0;34m(\u001b[0m\u001b[0;36m1\u001b[0m \u001b[0;34m-\u001b[0m \u001b[0mpsi\u001b[0m\u001b[0;34m)\u001b[0m \u001b[0;34m*\u001b[0m \u001b[0mxbar\u001b[0m \u001b[0;34m+\u001b[0m \u001b[0mpsi\u001b[0m \u001b[0;34m*\u001b[0m \u001b[0msim\u001b[0m\u001b[0;34m[\u001b[0m\u001b[0;34m-\u001b[0m\u001b[0;36m1\u001b[0m\u001b[0;34m]\u001b[0m\u001b[0;34m\u001b[0m\u001b[0m\n\u001b[0;32m--> 599\u001b[0;31m                     \u001b[0mfxcc\u001b[0m \u001b[0;34m=\u001b[0m \u001b[0mfunc\u001b[0m\u001b[0;34m(\u001b[0m\u001b[0mxcc\u001b[0m\u001b[0;34m)\u001b[0m\u001b[0;34m\u001b[0m\u001b[0m\n\u001b[0m\u001b[1;32m    600\u001b[0m \u001b[0;34m\u001b[0m\u001b[0m\n\u001b[1;32m    601\u001b[0m                     \u001b[0;32mif\u001b[0m \u001b[0mfxcc\u001b[0m \u001b[0;34m<\u001b[0m \u001b[0mfsim\u001b[0m\u001b[0;34m[\u001b[0m\u001b[0;34m-\u001b[0m\u001b[0;36m1\u001b[0m\u001b[0;34m]\u001b[0m\u001b[0;34m:\u001b[0m\u001b[0;34m\u001b[0m\u001b[0m\n",
      "\u001b[0;32m/usr/local/lib/python3.5/dist-packages/scipy/optimize/optimize.py\u001b[0m in \u001b[0;36mfunction_wrapper\u001b[0;34m(*wrapper_args)\u001b[0m\n\u001b[1;32m    291\u001b[0m     \u001b[0;32mdef\u001b[0m \u001b[0mfunction_wrapper\u001b[0m\u001b[0;34m(\u001b[0m\u001b[0;34m*\u001b[0m\u001b[0mwrapper_args\u001b[0m\u001b[0;34m)\u001b[0m\u001b[0;34m:\u001b[0m\u001b[0;34m\u001b[0m\u001b[0m\n\u001b[1;32m    292\u001b[0m         \u001b[0mncalls\u001b[0m\u001b[0;34m[\u001b[0m\u001b[0;36m0\u001b[0m\u001b[0;34m]\u001b[0m \u001b[0;34m+=\u001b[0m \u001b[0;36m1\u001b[0m\u001b[0;34m\u001b[0m\u001b[0m\n\u001b[0;32m--> 293\u001b[0;31m         \u001b[0;32mreturn\u001b[0m \u001b[0mfunction\u001b[0m\u001b[0;34m(\u001b[0m\u001b[0;34m*\u001b[0m\u001b[0;34m(\u001b[0m\u001b[0mwrapper_args\u001b[0m \u001b[0;34m+\u001b[0m \u001b[0margs\u001b[0m\u001b[0;34m)\u001b[0m\u001b[0;34m)\u001b[0m\u001b[0;34m\u001b[0m\u001b[0m\n\u001b[0m\u001b[1;32m    294\u001b[0m \u001b[0;34m\u001b[0m\u001b[0m\n\u001b[1;32m    295\u001b[0m     \u001b[0;32mreturn\u001b[0m \u001b[0mncalls\u001b[0m\u001b[0;34m,\u001b[0m \u001b[0mfunction_wrapper\u001b[0m\u001b[0;34m\u001b[0m\u001b[0m\n",
      "\u001b[0;32m<ipython-input-13-2508a8f219e7>\u001b[0m in \u001b[0;36mEvaluatePolicy\u001b[0;34m(policy_parameters)\u001b[0m\n\u001b[1;32m     10\u001b[0m \u001b[0;32mdef\u001b[0m \u001b[0mEvaluatePolicy\u001b[0m\u001b[0;34m(\u001b[0m\u001b[0mpolicy_parameters\u001b[0m\u001b[0;34m)\u001b[0m \u001b[0;34m->\u001b[0m \u001b[0mfloat\u001b[0m\u001b[0;34m:\u001b[0m\u001b[0;34m\u001b[0m\u001b[0m\n\u001b[1;32m     11\u001b[0m     \u001b[0mpolicy_param_manager\u001b[0m\u001b[0;34m.\u001b[0m\u001b[0mSetWeights\u001b[0m\u001b[0;34m(\u001b[0m\u001b[0mpolicy_parameters\u001b[0m\u001b[0;34m)\u001b[0m\u001b[0;34m\u001b[0m\u001b[0m\n\u001b[0;32m---> 12\u001b[0;31m     \u001b[0mscore\u001b[0m \u001b[0;34m=\u001b[0m \u001b[0;34m-\u001b[0m\u001b[0mGetPolicyValue\u001b[0m\u001b[0;34m(\u001b[0m\u001b[0mpolicy_param_manager\u001b[0m\u001b[0;34m.\u001b[0m\u001b[0mmodel\u001b[0m\u001b[0;34m,\u001b[0m \u001b[0menv\u001b[0m\u001b[0;34m)\u001b[0m\u001b[0;34m\u001b[0m\u001b[0m\n\u001b[0m\u001b[1;32m     13\u001b[0m     \u001b[0mDEBUG_HISTORY\u001b[0m\u001b[0;34m.\u001b[0m\u001b[0mappend\u001b[0m\u001b[0;34m(\u001b[0m\u001b[0;34m[\u001b[0m\u001b[0mpolicy_parameters\u001b[0m\u001b[0;34m,\u001b[0m \u001b[0mscore\u001b[0m\u001b[0;34m]\u001b[0m\u001b[0;34m)\u001b[0m\u001b[0;34m\u001b[0m\u001b[0m\n\u001b[1;32m     14\u001b[0m     \u001b[0mstep\u001b[0m \u001b[0;34m=\u001b[0m \u001b[0mlen\u001b[0m\u001b[0;34m(\u001b[0m\u001b[0mDEBUG_HISTORY\u001b[0m\u001b[0;34m)\u001b[0m\u001b[0;34m\u001b[0m\u001b[0m\n",
      "\u001b[0;32m<ipython-input-27-6322207b97f1>\u001b[0m in \u001b[0;36mGetPolicyValue\u001b[0;34m(policy, env, num_simulations, max_steps_in_simulation, print_values)\u001b[0m\n\u001b[1;32m     12\u001b[0m     \u001b[0mvalues\u001b[0m \u001b[0;34m=\u001b[0m \u001b[0;34m[\u001b[0m\u001b[0;34m]\u001b[0m\u001b[0;34m\u001b[0m\u001b[0m\n\u001b[1;32m     13\u001b[0m     \u001b[0;32mfor\u001b[0m \u001b[0m_\u001b[0m \u001b[0;32min\u001b[0m \u001b[0mrange\u001b[0m\u001b[0;34m(\u001b[0m\u001b[0mnum_simulations\u001b[0m\u001b[0;34m)\u001b[0m\u001b[0;34m:\u001b[0m\u001b[0;34m\u001b[0m\u001b[0m\n\u001b[0;32m---> 14\u001b[0;31m         \u001b[0mvalues\u001b[0m\u001b[0;34m.\u001b[0m\u001b[0mappend\u001b[0m\u001b[0;34m(\u001b[0m\u001b[0m_GetValueFromOneSimulation\u001b[0m\u001b[0;34m(\u001b[0m\u001b[0mpolicy\u001b[0m\u001b[0;34m,\u001b[0m \u001b[0menv\u001b[0m\u001b[0;34m,\u001b[0m \u001b[0mmax_steps_in_simulation\u001b[0m\u001b[0;34m)\u001b[0m\u001b[0;34m)\u001b[0m\u001b[0;34m\u001b[0m\u001b[0m\n\u001b[0m\u001b[1;32m     15\u001b[0m     \u001b[0;32mif\u001b[0m \u001b[0mprint_values\u001b[0m\u001b[0;34m:\u001b[0m\u001b[0;34m\u001b[0m\u001b[0m\n\u001b[1;32m     16\u001b[0m         \u001b[0mprint\u001b[0m\u001b[0;34m(\u001b[0m\u001b[0mvalues\u001b[0m\u001b[0;34m)\u001b[0m\u001b[0;34m\u001b[0m\u001b[0m\n",
      "\u001b[0;32m<ipython-input-27-6322207b97f1>\u001b[0m in \u001b[0;36m_GetValueFromOneSimulation\u001b[0;34m(policy, env, max_steps_in_simulation)\u001b[0m\n\u001b[1;32m     28\u001b[0m         \u001b[0mstate\u001b[0m \u001b[0;34m=\u001b[0m \u001b[0menv\u001b[0m\u001b[0;34m.\u001b[0m\u001b[0mGetState\u001b[0m\u001b[0;34m(\u001b[0m\u001b[0;34m)\u001b[0m\u001b[0;34m\u001b[0m\u001b[0m\n\u001b[1;32m     29\u001b[0m         \u001b[0;32mtry\u001b[0m\u001b[0;34m:\u001b[0m\u001b[0;34m\u001b[0m\u001b[0m\n\u001b[0;32m---> 30\u001b[0;31m             \u001b[0mreward\u001b[0m \u001b[0;34m+=\u001b[0m \u001b[0menv\u001b[0m\u001b[0;34m.\u001b[0m\u001b[0mTakeAction\u001b[0m\u001b[0;34m(\u001b[0m\u001b[0m_DecideAction\u001b[0m\u001b[0;34m(\u001b[0m\u001b[0mpolicy\u001b[0m\u001b[0;34m,\u001b[0m \u001b[0mstate\u001b[0m\u001b[0;34m)\u001b[0m\u001b[0;34m)\u001b[0m\u001b[0;34m\u001b[0m\u001b[0m\n\u001b[0m\u001b[1;32m     31\u001b[0m         \u001b[0;32mexcept\u001b[0m \u001b[0mopenai_wrapper\u001b[0m\u001b[0;34m.\u001b[0m\u001b[0mOpenAiEnvironmentDone\u001b[0m\u001b[0;34m:\u001b[0m\u001b[0;34m\u001b[0m\u001b[0m\n\u001b[1;32m     32\u001b[0m             \u001b[0;32mbreak\u001b[0m\u001b[0;34m\u001b[0m\u001b[0m\n",
      "\u001b[0;32m<ipython-input-27-6322207b97f1>\u001b[0m in \u001b[0;36m_DecideAction\u001b[0;34m(policy, state)\u001b[0m\n\u001b[1;32m     38\u001b[0m ) -> int:\n\u001b[1;32m     39\u001b[0m     \u001b[0;34m\"\"\"Decides an action based on a policy and a state.\"\"\"\u001b[0m\u001b[0;34m\u001b[0m\u001b[0m\n\u001b[0;32m---> 40\u001b[0;31m     \u001b[0maction\u001b[0m \u001b[0;34m=\u001b[0m \u001b[0;36m0\u001b[0m \u001b[0;32mif\u001b[0m \u001b[0mpolicy\u001b[0m\u001b[0;34m.\u001b[0m\u001b[0mpredict\u001b[0m\u001b[0;34m(\u001b[0m\u001b[0mnp\u001b[0m\u001b[0;34m.\u001b[0m\u001b[0mreshape\u001b[0m\u001b[0;34m(\u001b[0m\u001b[0mstate\u001b[0m\u001b[0;34m,\u001b[0m \u001b[0mINPUT_SHAPE\u001b[0m\u001b[0;34m)\u001b[0m\u001b[0;34m)\u001b[0m \u001b[0;34m<\u001b[0m \u001b[0;36m0.5\u001b[0m \u001b[0;32melse\u001b[0m \u001b[0;36m1\u001b[0m\u001b[0;34m\u001b[0m\u001b[0m\n\u001b[0m\u001b[1;32m     41\u001b[0m \u001b[0;31m#     print(state, action)\u001b[0m\u001b[0;34m\u001b[0m\u001b[0;34m\u001b[0m\u001b[0m\n\u001b[1;32m     42\u001b[0m     \u001b[0;32mreturn\u001b[0m \u001b[0maction\u001b[0m\u001b[0;34m\u001b[0m\u001b[0m\n",
      "\u001b[0;32m/usr/local/lib/python3.5/dist-packages/keras/engine/training.py\u001b[0m in \u001b[0;36mpredict\u001b[0;34m(self, x, batch_size, verbose, steps)\u001b[0m\n\u001b[1;32m   1167\u001b[0m                                             \u001b[0mbatch_size\u001b[0m\u001b[0;34m=\u001b[0m\u001b[0mbatch_size\u001b[0m\u001b[0;34m,\u001b[0m\u001b[0;34m\u001b[0m\u001b[0m\n\u001b[1;32m   1168\u001b[0m                                             \u001b[0mverbose\u001b[0m\u001b[0;34m=\u001b[0m\u001b[0mverbose\u001b[0m\u001b[0;34m,\u001b[0m\u001b[0;34m\u001b[0m\u001b[0m\n\u001b[0;32m-> 1169\u001b[0;31m                                             steps=steps)\n\u001b[0m\u001b[1;32m   1170\u001b[0m \u001b[0;34m\u001b[0m\u001b[0m\n\u001b[1;32m   1171\u001b[0m     def train_on_batch(self, x, y,\n",
      "\u001b[0;32m/usr/local/lib/python3.5/dist-packages/keras/engine/training_arrays.py\u001b[0m in \u001b[0;36mpredict_loop\u001b[0;34m(model, f, ins, batch_size, verbose, steps)\u001b[0m\n\u001b[1;32m    298\u001b[0m                 \u001b[0;32mfor\u001b[0m \u001b[0mbatch_out\u001b[0m \u001b[0;32min\u001b[0m \u001b[0mbatch_outs\u001b[0m\u001b[0;34m:\u001b[0m\u001b[0;34m\u001b[0m\u001b[0m\n\u001b[1;32m    299\u001b[0m                     \u001b[0mshape\u001b[0m \u001b[0;34m=\u001b[0m \u001b[0;34m(\u001b[0m\u001b[0mnum_samples\u001b[0m\u001b[0;34m,\u001b[0m\u001b[0;34m)\u001b[0m \u001b[0;34m+\u001b[0m \u001b[0mbatch_out\u001b[0m\u001b[0;34m.\u001b[0m\u001b[0mshape\u001b[0m\u001b[0;34m[\u001b[0m\u001b[0;36m1\u001b[0m\u001b[0;34m:\u001b[0m\u001b[0;34m]\u001b[0m\u001b[0;34m\u001b[0m\u001b[0m\n\u001b[0;32m--> 300\u001b[0;31m                     \u001b[0mouts\u001b[0m\u001b[0;34m.\u001b[0m\u001b[0mappend\u001b[0m\u001b[0;34m(\u001b[0m\u001b[0mnp\u001b[0m\u001b[0;34m.\u001b[0m\u001b[0mzeros\u001b[0m\u001b[0;34m(\u001b[0m\u001b[0mshape\u001b[0m\u001b[0;34m,\u001b[0m \u001b[0mdtype\u001b[0m\u001b[0;34m=\u001b[0m\u001b[0mbatch_out\u001b[0m\u001b[0;34m.\u001b[0m\u001b[0mdtype\u001b[0m\u001b[0;34m)\u001b[0m\u001b[0;34m)\u001b[0m\u001b[0;34m\u001b[0m\u001b[0m\n\u001b[0m\u001b[1;32m    301\u001b[0m             \u001b[0;32mfor\u001b[0m \u001b[0mi\u001b[0m\u001b[0;34m,\u001b[0m \u001b[0mbatch_out\u001b[0m \u001b[0;32min\u001b[0m \u001b[0menumerate\u001b[0m\u001b[0;34m(\u001b[0m\u001b[0mbatch_outs\u001b[0m\u001b[0;34m)\u001b[0m\u001b[0;34m:\u001b[0m\u001b[0;34m\u001b[0m\u001b[0m\n\u001b[1;32m    302\u001b[0m                 \u001b[0mouts\u001b[0m\u001b[0;34m[\u001b[0m\u001b[0mi\u001b[0m\u001b[0;34m]\u001b[0m\u001b[0;34m[\u001b[0m\u001b[0mbatch_start\u001b[0m\u001b[0;34m:\u001b[0m\u001b[0mbatch_end\u001b[0m\u001b[0;34m]\u001b[0m \u001b[0;34m=\u001b[0m \u001b[0mbatch_out\u001b[0m\u001b[0;34m\u001b[0m\u001b[0m\n",
      "\u001b[0;31mKeyboardInterrupt\u001b[0m: "
     ]
    },
    {
     "data": {
      "image/png": "[encoded data removed]",
      "text/plain": [
       "<Figure size 432x288 with 1 Axes>"
      ]
     },
     "metadata": {
      "needs_background": "light"
     },
     "output_type": "display_data"
    }
   ],
   "source": [
    "%%time\n",
    "\n",
    "from scipy import optimize\n",
    "\n",
    "DEBUG_HISTORY = []\n",
    "policy_param_manager.SetWeights(np.random.rand(5))\n",
    "best_policy = np.array(optimize.fmin(EvaluatePolicy, policy_param_manager.GetWeights(), disp=True))\n",
    "print('The best policy: %s, value: %s' % (best_policy, EvaluatePolicy(best_policy)))"
   ]
  },
  {
   "cell_type": "code",
   "execution_count": 48,
   "metadata": {},
   "outputs": [],
   "source": [
    "model = Sequential()\n",
    "model.add(Dense(4, activation='relu', input_dim=4))\n",
    "# model.add(Dense(4, activation='relu'))\n",
    "model.add(Dense(1))\n",
    "model.compile(optimizer='sgd', loss='mse')\n",
    "\n",
    "policy_param_manager = model_optimization.ModelWeightManager(model)\n",
    "policy_param_manager.size\n",
    "\n",
    "def _DecideAction(\n",
    "    policy,  # Keras model\n",
    "    state: np.ndarray,\n",
    ") -> int:\n",
    "    \"\"\"Decides an action based on a policy and a state.\"\"\"\n",
    "    action = 0 if policy.predict(np.reshape(state, INPUT_SHAPE)) < 0 else 1\n",
    "#     print(state, action)\n",
    "    return action"
   ]
  },
  {
   "cell_type": "code",
   "execution_count": 51,
   "metadata": {},
   "outputs": [
    {
     "name": "stdout",
     "output_type": "stream",
     "text": [
      "5000: -8.39, [0.98042855 0.03478885 0.51961999 0.24016231 0.78489583 0.17929266\n",
      " 0.96530212 0.99037512 0.05176838 0.85168293 0.82549015 0.31448236\n",
      " 0.55310239 0.13176736 0.8747356  0.84772408 0.59373501 0.55790035\n",
      " 0.19717097 0.25536493 0.52288754 0.29343462 0.44819501 0.21914162\n",
      " 0.01953841]\n"
     ]
    },
    {
     "data": {
      "image/png": "[encoded data removed]",
      "text/plain": [
       "<Figure size 432x288 with 1 Axes>"
      ]
     },
     "metadata": {},
     "output_type": "display_data"
    },
    {
     "name": "stdout",
     "output_type": "stream",
     "text": [
      "Warning: Maximum number of function evaluations has been exceeded.\n",
      "The best policy: [0.98042855 0.03478885 0.51961999 0.24016231 0.78489583 0.17929266\n",
      " 0.96530212 0.99037512 0.05176838 0.85168293 0.82549015 0.31448236\n",
      " 0.55310239 0.13176736 0.8747356  0.84772408 0.59373501 0.55790035\n",
      " 0.19717097 0.25536493 0.52288754 0.29343462 0.44819501 0.21914162\n",
      " 0.01953841], value: -8.28\n",
      "CPU times: user 32min 46s, sys: 50.7 s, total: 33min 37s\n",
      "Wall time: 33min 53s\n"
     ]
    },
    {
     "data": {
      "image/png": "[encoded data removed]",
      "text/plain": [
       "<Figure size 432x288 with 1 Axes>"
      ]
     },
     "metadata": {
      "needs_background": "light"
     },
     "output_type": "display_data"
    }
   ],
   "source": [
    "%%time\n",
    "\n",
    "from scipy import optimize\n",
    "\n",
    "DEBUG_HISTORY = []\n",
    "policy_param_manager.SetWeights(np.random.rand(policy_param_manager.size))\n",
    "best_policy = np.array(optimize.fmin(EvaluatePolicy, policy_param_manager.GetWeights(), disp=True))\n",
    "print('The best policy: %s, value: %s' % (best_policy, EvaluatePolicy(best_policy)))"
   ]
  },
  {
   "cell_type": "code",
   "execution_count": null,
   "metadata": {},
   "outputs": [],
   "source": []
  }
 ],
 "metadata": {
  "kernelspec": {
   "display_name": "Python 3",
   "language": "python",
   "name": "python3"
  },
  "language_info": {
   "codemirror_mode": {
    "name": "ipython",
    "version": 3
   },
   "file_extension": ".py",
   "mimetype": "text/x-python",
   "name": "python",
   "nbconvert_exporter": "python",
   "pygments_lexer": "ipython3",
   "version": "3.5.2"
  }
 },
 "nbformat": 4,
 "nbformat_minor": 2
}
