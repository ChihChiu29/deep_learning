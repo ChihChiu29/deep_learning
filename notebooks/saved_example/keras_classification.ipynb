{
 "cells": [
  {
   "cell_type": "code",
   "execution_count": 1,
   "metadata": {},
   "outputs": [
    {
     "name": "stdout",
     "output_type": "stream",
     "text": [
      "Path /workspace/external/deep_learning added to PYTHON_PATH.\n"
     ]
    },
    {
     "name": "stderr",
     "output_type": "stream",
     "text": [
      "Using TensorFlow backend.\n"
     ]
    },
    {
     "name": "stdout",
     "output_type": "stream",
     "text": [
      "notebook_init.py imported and reloaded\n",
      "forwarded symbol: Activation\n",
      "forwarded symbol: Dense\n",
      "forwarded symbol: Dict\n",
      "forwarded symbol: InputLayer\n",
      "forwarded symbol: List\n",
      "forwarded symbol: Model\n",
      "forwarded symbol: Sequential\n",
      "forwarded symbol: Tuple\n",
      "reloaded: gym\n",
      "forwarded symbol: gym\n",
      "reloaded: keras\n",
      "forwarded symbol: keras\n",
      "reloaded: model_optimization\n",
      "forwarded symbol: model_optimization\n",
      "reloaded: openai_wrapper\n",
      "forwarded symbol: openai_wrapper\n",
      "reloaded: policy_impl\n",
      "forwarded symbol: policy_impl\n",
      "reloaded: q_function_memoization\n",
      "forwarded symbol: q_function_memoization\n",
      "reloaded: q_learning\n",
      "forwarded symbol: q_learning\n",
      "reloaded: q_learning_impl\n",
      "forwarded symbol: q_learning_impl\n",
      "reloaded: q_learning_impl_v2\n",
      "forwarded symbol: q_learning_impl_v2\n",
      "reloaded: q_learning_impl_v3\n",
      "forwarded symbol: q_learning_impl_v3\n",
      "reloaded: q_learning_v2\n",
      "forwarded symbol: q_learning_v2\n",
      "reloaded: q_learning_v3\n",
      "forwarded symbol: q_learning_v3\n",
      "reloaded: run_callback_function\n",
      "forwarded symbol: run_callback_function\n"
     ]
    }
   ],
   "source": [
    "ReloadProject('deep_learning')"
   ]
  },
  {
   "cell_type": "markdown",
   "metadata": {},
   "source": [
    "## Binary classifier"
   ]
  },
  {
   "cell_type": "code",
   "execution_count": 3,
   "metadata": {},
   "outputs": [],
   "source": [
    "train_data = np.random.rand(10000, 4)\n",
    "train_labels = train_data[:,0] > 0.5\n",
    "one_hot_train_labels = keras.utils.to_categorical(train_labels, num_classes=2)"
   ]
  },
  {
   "cell_type": "code",
   "execution_count": 4,
   "metadata": {},
   "outputs": [
    {
     "name": "stdout",
     "output_type": "stream",
     "text": [
      "WARNING:tensorflow:From /usr/local/lib/python3.5/dist-packages/tensorflow/python/ops/math_ops.py:3066: to_int32 (from tensorflow.python.ops.math_ops) is deprecated and will be removed in a future version.\n",
      "Instructions for updating:\n",
      "Use tf.cast instead.\n",
      "Epoch 1/10\n",
      "10000/10000 [==============================] - 2s 158us/step - loss: 0.4364 - acc: 0.8855\n",
      "Epoch 2/10\n",
      "10000/10000 [==============================] - 0s 22us/step - loss: 0.1409 - acc: 0.9547\n",
      "Epoch 3/10\n",
      "10000/10000 [==============================] - 0s 27us/step - loss: 0.0747 - acc: 0.9820\n",
      "Epoch 4/10\n",
      "10000/10000 [==============================] - 0s 26us/step - loss: 0.0522 - acc: 0.9886\n",
      "Epoch 5/10\n",
      "10000/10000 [==============================] - 0s 27us/step - loss: 0.0421 - acc: 0.9921\n",
      "Epoch 6/10\n",
      "10000/10000 [==============================] - 0s 25us/step - loss: 0.0354 - acc: 0.9922\n",
      "Epoch 7/10\n",
      "10000/10000 [==============================] - 0s 22us/step - loss: 0.0309 - acc: 0.9933\n",
      "Epoch 8/10\n",
      "10000/10000 [==============================] - 0s 27us/step - loss: 0.0283 - acc: 0.9929\n",
      "Epoch 9/10\n",
      "10000/10000 [==============================] - 0s 30us/step - loss: 0.0258 - acc: 0.9934\n",
      "Epoch 10/10\n",
      "10000/10000 [==============================] - 0s 23us/step - loss: 0.0240 - acc: 0.9934\n"
     ]
    },
    {
     "data": {
      "text/plain": [
       "<keras.callbacks.History at 0x7fa608bc6518>"
      ]
     },
     "execution_count": 4,
     "metadata": {},
     "output_type": "execute_result"
    }
   ],
   "source": [
    "model = Sequential()\n",
    "model.add(Dense(6, activation='relu', input_dim=4))\n",
    "model.add(Dense(6, activation='relu'))\n",
    "model.add(Dense(6, activation='relu'))\n",
    "model.add(Dense(2, activation='softmax'))\n",
    "\n",
    "model.compile(optimizer='rmsprop',\n",
    "              loss='binary_crossentropy',\n",
    "              metrics=['accuracy'])\n",
    "\n",
    "model.fit(train_data, one_hot_train_labels, epochs=10, batch_size=32)"
   ]
  },
  {
   "cell_type": "code",
   "execution_count": 5,
   "metadata": {},
   "outputs": [
    {
     "name": "stdout",
     "output_type": "stream",
     "text": [
      "[0.92801006 0.02156161 0.30338793 0.85019897 0.89210832 0.6237386\n",
      " 0.65671859 0.0762687  0.07459341 0.38272083]\n"
     ]
    },
    {
     "data": {
      "text/plain": [
       "array([[1.1073089e-07, 9.9999988e-01],\n",
       "       [1.0000000e+00, 1.9231062e-12],\n",
       "       [9.9999976e-01, 2.4330018e-07],\n",
       "       [1.5621488e-07, 9.9999988e-01],\n",
       "       [5.8719627e-07, 9.9999940e-01],\n",
       "       [2.8004296e-04, 9.9971992e-01],\n",
       "       [4.5892873e-05, 9.9995410e-01],\n",
       "       [1.0000000e+00, 7.3946821e-11],\n",
       "       [1.0000000e+00, 4.0983564e-10],\n",
       "       [9.9988544e-01, 1.1459348e-04]], dtype=float32)"
      ]
     },
     "execution_count": 5,
     "metadata": {},
     "output_type": "execute_result"
    }
   ],
   "source": [
    "test_data = np.random.rand(10, 4)\n",
    "print(test_data[:,0])\n",
    "model.predict(test_data)"
   ]
  },
  {
   "cell_type": "markdown",
   "metadata": {},
   "source": [
    "## Multiclass classfifier"
   ]
  },
  {
   "cell_type": "code",
   "execution_count": 56,
   "metadata": {},
   "outputs": [
    {
     "name": "stdout",
     "output_type": "stream",
     "text": [
      "Epoch 1/10\n",
      "10000/10000 [==============================] - 1s 128us/step - loss: 0.5216 - acc: 0.7538\n",
      "Epoch 2/10\n",
      "10000/10000 [==============================] - 1s 61us/step - loss: 0.3711 - acc: 0.8259\n",
      "Epoch 3/10\n",
      "10000/10000 [==============================] - 1s 55us/step - loss: 0.2366 - acc: 0.9164\n",
      "Epoch 4/10\n",
      "10000/10000 [==============================] - 1s 52us/step - loss: 0.1543 - acc: 0.9700\n",
      "Epoch 5/10\n",
      "10000/10000 [==============================] - 1s 52us/step - loss: 0.1116 - acc: 0.9776\n",
      "Epoch 6/10\n",
      "10000/10000 [==============================] - 1s 61us/step - loss: 0.0877 - acc: 0.9808\n",
      "Epoch 7/10\n",
      "10000/10000 [==============================] - 1s 53us/step - loss: 0.0735 - acc: 0.9833\n",
      "Epoch 8/10\n",
      "10000/10000 [==============================] - 1s 53us/step - loss: 0.0634 - acc: 0.9860\n",
      "Epoch 9/10\n",
      "10000/10000 [==============================] - 1s 54us/step - loss: 0.0562 - acc: 0.9874\n",
      "Epoch 10/10\n",
      "10000/10000 [==============================] - 1s 61us/step - loss: 0.0504 - acc: 0.9888\n",
      "[0.74922858 0.11994309 0.15804021 0.62309971 0.4978077  0.73010793\n",
      " 0.91255119 0.26384172 0.17103494 0.19295214]\n"
     ]
    },
    {
     "data": {
      "text/plain": [
       "array([[1.2368723e-17, 1.0725839e-06, 4.2867875e-01, 5.7132024e-01],\n",
       "       [9.9806923e-01, 1.9307450e-03, 7.3191377e-09, 3.8498161e-27],\n",
       "       [9.8754787e-01, 1.2452028e-02, 1.0891723e-07, 5.2449232e-25],\n",
       "       [7.9667989e-13, 8.2713383e-04, 9.9825686e-01, 9.1593619e-04],\n",
       "       [5.2043276e-07, 3.9721370e-01, 6.0278529e-01, 5.2876754e-07],\n",
       "       [4.6349812e-18, 1.8140678e-06, 7.3542351e-01, 2.6457474e-01],\n",
       "       [4.6628866e-26, 4.6066701e-12, 1.8695020e-03, 9.9813050e-01],\n",
       "       [2.9422596e-01, 7.0568389e-01, 9.0169458e-05, 8.4738005e-19],\n",
       "       [9.8274910e-01, 1.7250579e-02, 1.8972604e-07, 1.6241024e-24],\n",
       "       [9.4077790e-01, 5.9221227e-02, 9.2271250e-07, 1.9560873e-23]],\n",
       "      dtype=float32)"
      ]
     },
     "execution_count": 56,
     "metadata": {},
     "output_type": "execute_result"
    }
   ],
   "source": [
    "bins = np.array([0.0, 0.25, 0.5, 0.75, 1.0])\n",
    "train_data = np.random.rand(10000, 4)\n",
    "train_labels = np.digitize(train_data[:,0], bins) - 1\n",
    "one_hot_train_labels = keras.utils.to_categorical(train_labels, num_classes=4)\n",
    "\n",
    "model = Sequential()\n",
    "model.add(Dense(6, activation='relu', input_dim=4))\n",
    "model.add(Dense(6, activation='relu'))\n",
    "model.add(Dense(6, activation='relu'))\n",
    "model.add(Dense(4, activation='softmax'))\n",
    "\n",
    "model.compile(optimizer='rmsprop',\n",
    "              loss='binary_crossentropy',\n",
    "              metrics=['accuracy'])\n",
    "\n",
    "model.fit(train_data, one_hot_train_labels, epochs=10, batch_size=32)\n",
    "\n",
    "test_data = np.random.rand(10, 4)\n",
    "print(test_data[:,0])\n",
    "model.predict(test_data)"
   ]
  },
  {
   "cell_type": "code",
   "execution_count": null,
   "metadata": {},
   "outputs": [],
   "source": []
  }
 ],
 "metadata": {
  "kernelspec": {
   "display_name": "Python 3",
   "language": "python",
   "name": "python3"
  },
  "language_info": {
   "codemirror_mode": {
    "name": "ipython",
    "version": 3
   },
   "file_extension": ".py",
   "mimetype": "text/x-python",
   "name": "python",
   "nbconvert_exporter": "python",
   "pygments_lexer": "ipython3",
   "version": "3.5.2"
  }
 },
 "nbformat": 4,
 "nbformat_minor": 2
}
