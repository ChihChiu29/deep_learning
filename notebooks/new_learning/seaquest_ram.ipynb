{
 "cells": [
  {
   "cell_type": "code",
   "execution_count": 1,
   "metadata": {},
   "outputs": [
    {
     "name": "stdout",
     "output_type": "stream",
     "text": [
      "Path /workspace/external/ added to PYTHON_PATH.\n",
      "Path /workspace/external/deep_learning added to PYTHON_PATH.\n"
     ]
    },
    {
     "name": "stderr",
     "output_type": "stream",
     "text": [
      "Using TensorFlow backend.\n"
     ]
    },
    {
     "name": "stdout",
     "output_type": "stream",
     "text": [
      "notebook_init.py imported and reloaded\n",
      "reloaded: circular_world_env\n",
      "forwarded symbol: circular_world_env\n",
      "reloaded: environment_impl\n",
      "forwarded symbol: environment_impl\n",
      "reloaded: guided_environments\n",
      "forwarded symbol: guided_environments\n",
      "reloaded: gym\n",
      "forwarded symbol: gym\n",
      "reloaded: keras\n",
      "forwarded symbol: keras\n",
      "reloaded: layers\n",
      "forwarded symbol: layers\n",
      "reloaded: logging\n",
      "forwarded symbol: logging\n",
      "reloaded: model_builder\n",
      "forwarded symbol: model_builder\n",
      "reloaded: models\n",
      "forwarded symbol: models\n",
      "reloaded: numpy\n",
      "forwarded symbol: numpy\n",
      "reloaded: numpy_util\n",
      "forwarded symbol: numpy_util\n",
      "reloaded: optimizers\n",
      "forwarded symbol: optimizers\n",
      "reloaded: policy_impl\n",
      "forwarded symbol: policy_impl\n",
      "reloaded: q_base\n",
      "forwarded symbol: q_base\n",
      "reloaded: qfunc_impl\n",
      "forwarded symbol: qfunc_impl\n",
      "reloaded: runner_extension_impl\n",
      "forwarded symbol: runner_extension_impl\n",
      "reloaded: runner_impl\n",
      "forwarded symbol: runner_impl\n",
      "reloaded: shortcut\n",
      "forwarded symbol: shortcut\n"
     ]
    }
   ],
   "source": [
    "ReloadProject('deep_learning')"
   ]
  },
  {
   "cell_type": "markdown",
   "metadata": {},
   "source": [
    "## (64, 32, 20)"
   ]
  },
  {
   "cell_type": "code",
   "execution_count": 3,
   "metadata": {},
   "outputs": [
    {
     "name": "stdout",
     "output_type": "stream",
     "text": [
      "[22:59:25] logging.py:44 Using qfunc implementation: DDQN\n",
      "[22:59:25] logging.py:44 Using policy implementation: GreedyPolicyWithDecreasingRandomness\n",
      "[22:59:25] logging.py:44 Using runner implementation: ExperienceReplayRunner\n"
     ]
    }
   ],
   "source": [
    "pipeline = shortcut.StateLearningPipeline(\n",
    "    gym_env_name='Seaquest-ram-v0',\n",
    "    model_shape=(64, 32, 20),\n",
    ")"
   ]
  },
  {
   "cell_type": "code",
   "execution_count": 4,
   "metadata": {},
   "outputs": [
    {
     "name": "stderr",
     "output_type": "stream",
     "text": [
      "W0728 22:59:27.702729 140076735338304 deprecation_wrapper.py:119] From /usr/local/lib/python3.6/dist-packages/keras/backend/tensorflow_backend.py:2741: The name tf.Session is deprecated. Please use tf.compat.v1.Session instead.\n",
      "\n",
      "W0728 22:59:27.704662 140076735338304 deprecation_wrapper.py:119] From /usr/local/lib/python3.6/dist-packages/keras/backend/tensorflow_backend.py:174: The name tf.get_default_session is deprecated. Please use tf.compat.v1.get_default_session instead.\n",
      "\n"
     ]
    },
    {
     "name": "stdout",
     "output_type": "stream",
     "text": [
      "[23:09:18] logging.py:44 Episode 100/5000: avg_reward = 92.80, avg_steps=754.81 (over 100 episodes)\n",
      "[23:23:04] logging.py:44 Episode 200/5000: avg_reward = 205.80, avg_steps=1026.02 (over 100 episodes)\n",
      "[23:40:38] logging.py:44 Episode 300/5000: avg_reward = 235.40, avg_steps=1066.26 (over 100 episodes)\n",
      "[23:56:47] logging.py:44 Episode 400/5000: avg_reward = 191.80, avg_steps=921.85 (over 100 episodes)\n",
      "[00:15:35] logging.py:44 Episode 500/5000: avg_reward = 176.40, avg_steps=884.95 (over 100 episodes)\n",
      "[00:31:59] logging.py:44 Episode 600/5000: avg_reward = 177.80, avg_steps=878.21 (over 100 episodes)\n",
      "[00:48:35] logging.py:44 Episode 700/5000: avg_reward = 157.40, avg_steps=805.43 (over 100 episodes)\n",
      "[01:05:16] logging.py:44 Episode 800/5000: avg_reward = 155.20, avg_steps=826.45 (over 100 episodes)\n",
      "[13:24:44] logging.py:44 Episode 900/5000: avg_reward = 163.60, avg_steps=853.27 (over 100 episodes)\n",
      "[13:50:15] logging.py:44 Episode 1000/5000: avg_reward = 146.40, avg_steps=799.60 (over 100 episodes)\n",
      "[13:59:27] logging.py:44 Episode 1100/5000: avg_reward = 152.40, avg_steps=837.55 (over 100 episodes)\n",
      "[14:08:32] logging.py:44 Episode 1200/5000: avg_reward = 138.60, avg_steps=808.76 (over 100 episodes)\n",
      "[14:16:51] logging.py:44 Episode 1300/5000: avg_reward = 118.20, avg_steps=748.33 (over 100 episodes)\n",
      "[14:25:39] logging.py:44 Episode 1400/5000: avg_reward = 140.40, avg_steps=801.51 (over 100 episodes)\n",
      "[14:34:09] logging.py:44 Episode 1500/5000: avg_reward = 132.60, avg_steps=771.63 (over 100 episodes)\n",
      "[14:42:24] logging.py:44 Episode 1600/5000: avg_reward = 126.60, avg_steps=750.08 (over 100 episodes)\n",
      "[14:50:06] logging.py:44 Episode 1700/5000: avg_reward = 114.00, avg_steps=698.40 (over 100 episodes)\n",
      "[14:58:11] logging.py:44 Episode 1800/5000: avg_reward = 120.60, avg_steps=729.01 (over 100 episodes)\n",
      "[15:06:29] logging.py:44 Episode 1900/5000: avg_reward = 124.40, avg_steps=748.35 (over 100 episodes)\n",
      "[15:14:32] logging.py:44 Episode 2000/5000: avg_reward = 116.40, avg_steps=724.05 (over 100 episodes)\n",
      "[15:22:03] logging.py:44 Episode 2100/5000: avg_reward = 107.60, avg_steps=679.41 (over 100 episodes)\n",
      "[15:30:03] logging.py:44 Episode 2200/5000: avg_reward = 117.20, avg_steps=733.14 (over 100 episodes)\n",
      "[15:38:04] logging.py:44 Episode 2300/5000: avg_reward = 116.00, avg_steps=736.61 (over 100 episodes)\n",
      "[15:45:50] logging.py:44 Episode 2400/5000: avg_reward = 111.00, avg_steps=707.39 (over 100 episodes)\n",
      "[15:53:40] logging.py:44 Episode 2500/5000: avg_reward = 97.20, avg_steps=714.06 (over 100 episodes)\n",
      "[16:01:00] logging.py:44 Episode 2600/5000: avg_reward = 105.00, avg_steps=667.60 (over 100 episodes)\n",
      "[16:08:24] logging.py:44 Episode 2700/5000: avg_reward = 103.80, avg_steps=669.92 (over 100 episodes)\n",
      "[16:15:46] logging.py:44 Episode 2800/5000: avg_reward = 107.20, avg_steps=674.72 (over 100 episodes)\n",
      "[16:23:16] logging.py:44 Episode 2900/5000: avg_reward = 105.20, avg_steps=677.83 (over 100 episodes)\n",
      "[16:30:49] logging.py:44 Episode 3000/5000: avg_reward = 104.80, avg_steps=678.42 (over 100 episodes)\n",
      "[16:37:46] logging.py:44 Episode 3100/5000: avg_reward = 97.20, avg_steps=626.75 (over 100 episodes)\n",
      "[16:45:13] logging.py:44 Episode 3200/5000: avg_reward = 104.00, avg_steps=676.49 (over 100 episodes)\n",
      "[16:52:42] logging.py:44 Episode 3300/5000: avg_reward = 103.40, avg_steps=675.25 (over 100 episodes)\n",
      "[17:00:09] logging.py:44 Episode 3400/5000: avg_reward = 101.00, avg_steps=668.48 (over 100 episodes)\n",
      "[17:08:02] logging.py:44 Episode 3500/5000: avg_reward = 98.60, avg_steps=633.97 (over 100 episodes)\n",
      "[17:15:39] logging.py:44 Episode 3600/5000: avg_reward = 99.00, avg_steps=648.46 (over 100 episodes)\n",
      "[17:23:24] logging.py:44 Episode 3700/5000: avg_reward = 100.80, avg_steps=659.21 (over 100 episodes)\n",
      "[17:30:39] logging.py:44 Episode 3800/5000: avg_reward = 97.80, avg_steps=632.68 (over 100 episodes)\n",
      "[17:38:36] logging.py:44 Episode 3900/5000: avg_reward = 105.80, avg_steps=677.58 (over 100 episodes)\n",
      "[17:46:43] logging.py:44 Episode 4000/5000: avg_reward = 108.40, avg_steps=703.06 (over 100 episodes)\n",
      "[17:54:37] logging.py:44 Episode 4100/5000: avg_reward = 105.40, avg_steps=685.82 (over 100 episodes)\n",
      "[18:02:18] logging.py:44 Episode 4200/5000: avg_reward = 102.80, avg_steps=660.66 (over 100 episodes)\n",
      "[18:09:43] logging.py:44 Episode 4300/5000: avg_reward = 98.00, avg_steps=636.36 (over 100 episodes)\n",
      "[18:17:34] logging.py:44 Episode 4400/5000: avg_reward = 104.80, avg_steps=676.66 (over 100 episodes)\n",
      "[18:25:23] logging.py:44 Episode 4500/5000: avg_reward = 104.80, avg_steps=671.06 (over 100 episodes)\n",
      "[18:33:04] logging.py:44 Episode 4600/5000: avg_reward = 100.00, avg_steps=660.95 (over 100 episodes)\n",
      "[18:40:42] logging.py:44 Episode 4700/5000: avg_reward = 101.00, avg_steps=663.46 (over 100 episodes)\n",
      "[18:48:26] logging.py:44 Episode 4800/5000: avg_reward = 100.80, avg_steps=667.40 (over 100 episodes)\n",
      "[18:56:19] logging.py:44 Episode 4900/5000: avg_reward = 107.60, avg_steps=678.99 (over 100 episodes)\n",
      "[19:03:58] logging.py:44 Episode 5000/5000: avg_reward = 103.00, avg_steps=663.03 (over 100 episodes)\n",
      "[19:03:58] logging.py:44 Total: run 5000 episodes, avg_reward = 122.12, avg_steps=732.80\n"
     ]
    },
    {
     "data": {
      "image/png": "[encoded data removed]",
      "text/plain": [
       "<Figure size 432x288 with 1 Axes>"
      ]
     },
     "metadata": {
      "needs_background": "light"
     },
     "output_type": "display_data"
    },
    {
     "data": {
      "image/png": "[encoded data removed]",
      "text/plain": [
       "<Figure size 432x288 with 1 Axes>"
      ]
     },
     "metadata": {
      "needs_background": "light"
     },
     "output_type": "display_data"
    }
   ],
   "source": [
    "pipeline.Train(5000)"
   ]
  },
  {
   "cell_type": "markdown",
   "metadata": {},
   "source": [
    "## (20, 20, 20)"
   ]
  },
  {
   "cell_type": "code",
   "execution_count": 5,
   "metadata": {},
   "outputs": [
    {
     "name": "stdout",
     "output_type": "stream",
     "text": [
      "[23:13:59] logging.py:44 Using qfunc implementation: DDQN\n",
      "[23:13:59] logging.py:44 Using policy implementation: GreedyPolicyWithDecreasingRandomness\n",
      "[23:13:59] logging.py:44 Using runner implementation: ExperienceReplayRunner\n"
     ]
    }
   ],
   "source": [
    "pipeline = shortcut.StateLearningPipeline(\n",
    "    gym_env_name='Seaquest-ram-v0',\n",
    "    model_shape=(20, 20, 20),\n",
    ")"
   ]
  },
  {
   "cell_type": "code",
   "execution_count": null,
   "metadata": {},
   "outputs": [
    {
     "name": "stdout",
     "output_type": "stream",
     "text": [
      "[23:23:01] logging.py:44 Episode 100/1500: avg_reward = 107.00, avg_steps=787.61 (over 100 episodes)\n",
      "[23:34:05] logging.py:44 Episode 200/1500: avg_reward = 201.00, avg_steps=1032.53 (over 100 episodes)\n",
      "[23:46:15] logging.py:44 Episode 300/1500: avg_reward = 248.60, avg_steps=1116.42 (over 100 episodes)\n",
      "[23:58:07] logging.py:44 Episode 400/1500: avg_reward = 237.40, avg_steps=1061.36 (over 100 episodes)\n",
      "[00:11:19] logging.py:44 Episode 500/1500: avg_reward = 241.00, avg_steps=1076.24 (over 100 episodes)\n"
     ]
    }
   ],
   "source": [
    "%%time\n",
    "pipeline.Train(1500)"
   ]
  },
  {
   "cell_type": "code",
   "execution_count": null,
   "metadata": {},
   "outputs": [],
   "source": []
  }
 ],
 "metadata": {
  "kernelspec": {
   "display_name": "Python 3",
   "language": "python",
   "name": "python3"
  },
  "language_info": {
   "codemirror_mode": {
    "name": "ipython",
    "version": 3
   },
   "file_extension": ".py",
   "mimetype": "text/x-python",
   "name": "python",
   "nbconvert_exporter": "python",
   "pygments_lexer": "ipython3",
   "version": "3.6.8"
  }
 },
 "nbformat": 4,
 "nbformat_minor": 4
}
