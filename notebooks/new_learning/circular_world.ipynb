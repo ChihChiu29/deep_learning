{
 "cells": [
  {
   "cell_type": "code",
   "execution_count": 152,
   "metadata": {},
   "outputs": [
    {
     "name": "stdout",
     "output_type": "stream",
     "text": [
      "notebook_init.py imported and reloaded\n",
      "forwarded symbol: Activation\n",
      "forwarded symbol: Dense\n",
      "forwarded symbol: Dict\n",
      "forwarded symbol: InputLayer\n",
      "forwarded symbol: List\n",
      "forwarded symbol: Model\n",
      "forwarded symbol: Sequential\n",
      "forwarded symbol: Tuple\n",
      "reloaded: circular_world_env\n",
      "forwarded symbol: circular_world_env\n",
      "reloaded: gym\n",
      "forwarded symbol: gym\n",
      "reloaded: keras\n",
      "forwarded symbol: keras\n",
      "reloaded: logging\n",
      "forwarded symbol: logging\n",
      "reloaded: numpy_util\n",
      "forwarded symbol: numpy_util\n",
      "reloaded: policy_impl\n",
      "forwarded symbol: policy_impl\n",
      "reloaded: q_base\n",
      "forwarded symbol: q_base\n",
      "reloaded: qfunc_impl\n",
      "forwarded symbol: qfunc_impl\n",
      "reloaded: runner_impl\n",
      "forwarded symbol: runner_impl\n"
     ]
    }
   ],
   "source": [
    "ReloadProject('deep_learning')"
   ]
  },
  {
   "cell_type": "code",
   "execution_count": 157,
   "metadata": {},
   "outputs": [],
   "source": [
    "env = circular_world_env.CircularWorld(size=1)\n",
    "qfunc = qfunc_impl.MemoizationQFunction(action_space_size=3, discount_factor=0.9, learning_rate=0.9)\n",
    "runner = runner_impl.SimpleRunner()"
   ]
  },
  {
   "cell_type": "code",
   "execution_count": 158,
   "metadata": {},
   "outputs": [
    {
     "name": "stdout",
     "output_type": "stream",
     "text": [
      "[05:22:59] q_base.py:370 Episode 0/10: total_reward = -4.00, total_steps=501\n",
      "[05:23:00] q_base.py:370 Episode 1/10: total_reward = 0.00, total_steps=501\n",
      "[05:23:00] q_base.py:370 Episode 2/10: total_reward = -1.00, total_steps=501\n",
      "[05:23:00] q_base.py:370 Episode 3/10: total_reward = -2.00, total_steps=501\n",
      "[05:23:00] q_base.py:370 Episode 4/10: total_reward = -2.00, total_steps=501\n",
      "[05:23:00] q_base.py:370 Episode 5/10: total_reward = -1.00, total_steps=501\n",
      "[05:23:00] q_base.py:370 Episode 6/10: total_reward = -2.00, total_steps=501\n",
      "[05:23:01] q_base.py:370 Episode 7/10: total_reward = -1.00, total_steps=501\n",
      "[05:23:01] q_base.py:370 Episode 8/10: total_reward = -1.00, total_steps=501\n",
      "[05:23:01] q_base.py:370 Episode 9/10: total_reward = 0.00, total_steps=501\n",
      "[05:23:01] q_base.py:370 Episode 0/1: total_reward = 0.00, total_steps=501\n"
     ]
    }
   ],
   "source": [
    "# Train\n",
    "logging.ENV.debug_verbosity = 2\n",
    "policy = policy_impl.GreedyPolicyWithRandomness(epsilon=0.1)\n",
    "runner.Run(env=env, qfunc=qfunc, policy=policy, num_of_episodes=10)\n",
    "\n",
    "# Test\n",
    "logging.ENV.debug_verbosity = 2\n",
    "policy = policy_impl.GreedyPolicy()\n",
    "runner.Run(env=env, qfunc=qfunc, policy=policy, num_of_episodes=1)\n",
    "\n",
    "# Test\n",
    "# logging.ENV.debug_verbosity = 10\n",
    "# policy = policy_impl.GreedyPolicy()\n",
    "# runner.Run(env=env, qfunc=qfunc, policy=policy, num_of_episodes=1)"
   ]
  },
  {
   "cell_type": "code",
   "execution_count": 155,
   "metadata": {},
   "outputs": [
    {
     "data": {
      "text/plain": [
       "{(0,): array([-0.1,  0. , -0.1]),\n",
       " (-1,): array([-0.1,  0.9,  1. ]),\n",
       " (1,): array([ 1.  ,  0.09, -0.1 ])}"
      ]
     },
     "execution_count": 155,
     "metadata": {},
     "output_type": "execute_result"
    }
   ],
   "source": [
    "qfunc._storage"
   ]
  },
  {
   "cell_type": "code",
   "execution_count": null,
   "metadata": {},
   "outputs": [],
   "source": []
  }
 ],
 "metadata": {
  "kernelspec": {
   "display_name": "Python 3",
   "language": "python",
   "name": "python3"
  },
  "language_info": {
   "codemirror_mode": {
    "name": "ipython",
    "version": 3
   },
   "file_extension": ".py",
   "mimetype": "text/x-python",
   "name": "python",
   "nbconvert_exporter": "python",
   "pygments_lexer": "ipython3",
   "version": "3.6.8"
  }
 },
 "nbformat": 4,
 "nbformat_minor": 4
}
