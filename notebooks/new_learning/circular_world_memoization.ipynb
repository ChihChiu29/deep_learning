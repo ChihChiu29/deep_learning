{
 "cells": [
  {
   "cell_type": "code",
   "execution_count": 1,
   "metadata": {},
   "outputs": [
    {
     "name": "stdout",
     "output_type": "stream",
     "text": [
      "Path /workspace/external/ added to PYTHON_PATH.\n",
      "Path /workspace/external/deep_learning added to PYTHON_PATH.\n"
     ]
    },
    {
     "name": "stderr",
     "output_type": "stream",
     "text": [
      "Using TensorFlow backend.\n"
     ]
    },
    {
     "name": "stdout",
     "output_type": "stream",
     "text": [
      "notebook_init.py imported and reloaded\n",
      "forwarded symbol: Activation\n",
      "forwarded symbol: Dense\n",
      "forwarded symbol: Dict\n",
      "forwarded symbol: InputLayer\n",
      "forwarded symbol: List\n",
      "forwarded symbol: Model\n",
      "forwarded symbol: Sequential\n",
      "forwarded symbol: Tuple\n",
      "reloaded: circular_world_env\n",
      "forwarded symbol: circular_world_env\n",
      "reloaded: gym\n",
      "forwarded symbol: gym\n",
      "reloaded: keras\n",
      "forwarded symbol: keras\n",
      "reloaded: logging\n",
      "forwarded symbol: logging\n",
      "reloaded: numpy_util\n",
      "forwarded symbol: numpy_util\n",
      "reloaded: policy_impl\n",
      "forwarded symbol: policy_impl\n",
      "reloaded: q_base\n",
      "forwarded symbol: q_base\n",
      "reloaded: qfunc_impl\n",
      "forwarded symbol: qfunc_impl\n",
      "reloaded: runner_impl\n",
      "forwarded symbol: runner_impl\n"
     ]
    }
   ],
   "source": [
    "ReloadProject('deep_learning')"
   ]
  },
  {
   "cell_type": "markdown",
   "metadata": {},
   "source": [
    "## Simple Runner"
   ]
  },
  {
   "cell_type": "code",
   "execution_count": 2,
   "metadata": {},
   "outputs": [],
   "source": [
    "env = circular_world_env.CircularWorld(size=5)\n",
    "qfunc = qfunc_impl.MemoizationQFunction(action_space_size=3, discount_factor=0.9, learning_rate=0.9)\n",
    "runner = runner_impl.SimpleRunner()"
   ]
  },
  {
   "cell_type": "code",
   "execution_count": 3,
   "metadata": {},
   "outputs": [
    {
     "name": "stdout",
     "output_type": "stream",
     "text": [
      "[19:16:04] q_base.py:376 Episode 0/10: total_reward = -48.00, total_steps=499\n",
      "[19:16:04] q_base.py:376 Episode 1/10: total_reward = -35.00, total_steps=499\n",
      "[19:16:05] q_base.py:376 Episode 2/10: total_reward = -22.00, total_steps=499\n",
      "[19:16:05] q_base.py:376 Episode 3/10: total_reward = -41.00, total_steps=499\n",
      "[19:16:05] q_base.py:376 Episode 4/10: total_reward = -38.00, total_steps=499\n",
      "[19:16:05] q_base.py:376 Episode 5/10: total_reward = -34.00, total_steps=499\n",
      "[19:16:05] q_base.py:376 Episode 6/10: total_reward = -38.00, total_steps=499\n",
      "[19:16:05] q_base.py:376 Episode 7/10: total_reward = -18.00, total_steps=499\n",
      "[19:16:06] q_base.py:376 Episode 8/10: total_reward = -21.00, total_steps=499\n",
      "[19:16:06] q_base.py:376 Episode 9/10: total_reward = -34.00, total_steps=499\n",
      "[19:16:06] q_base.py:376 Episode 0/1: total_reward = 1.00, total_steps=499\n",
      "CPU times: user 2.06 s, sys: 97.9 ms, total: 2.16 s\n",
      "Wall time: 2.28 s\n"
     ]
    }
   ],
   "source": [
    "%%time\n",
    "# Train\n",
    "logging.ENV.debug_verbosity = 2\n",
    "policy = policy_impl.GreedyPolicyWithRandomness(epsilon=1.0)\n",
    "runner.Run(env=env, qfunc=qfunc, policy=policy, num_of_episodes=10)\n",
    "\n",
    "# Test\n",
    "logging.ENV.debug_verbosity = 2\n",
    "policy = policy_impl.GreedyPolicy()\n",
    "runner.Run(env=env, qfunc=qfunc, policy=policy, num_of_episodes=1)"
   ]
  },
  {
   "cell_type": "code",
   "execution_count": 4,
   "metadata": {},
   "outputs": [
    {
     "data": {
      "text/plain": [
       "{(-1,): array([0.71, 0.9 , 1.  ]),\n",
       " (-2,): array([1.439, 1.71 , 1.9  ]),\n",
       " (-3,): array([2.0951, 2.439 , 2.71  ]),\n",
       " (-4,): array([2.68559, 3.0951 , 3.439  ]),\n",
       " (-5,): array([2.68559, 3.68559, 4.0951 ]),\n",
       " (5,): array([4.0951 , 3.68559, 2.68559]),\n",
       " (4,): array([3.439  , 3.0951 , 2.68559]),\n",
       " (3,): array([2.71  , 2.439 , 2.0951]),\n",
       " (2,): array([1.9  , 1.71 , 1.439]),\n",
       " (1,): array([1.  , 0.9 , 0.71]),\n",
       " (0,): array([-0.91,  0.  , -0.1 ])}"
      ]
     },
     "execution_count": 4,
     "metadata": {},
     "output_type": "execute_result"
    }
   ],
   "source": [
    "qfunc._storage"
   ]
  },
  {
   "cell_type": "markdown",
   "metadata": {},
   "source": [
    "## Experience Replay Runner"
   ]
  },
  {
   "cell_type": "code",
   "execution_count": 6,
   "metadata": {},
   "outputs": [],
   "source": [
    "env = circular_world_env.CircularWorld(size=5)\n",
    "qfunc = qfunc_impl.MemoizationQFunction(action_space_size=3, discount_factor=0.9, learning_rate=0.9)\n",
    "runner = runner_impl.ExperienceReplayRunner(experience_capacity=5000, experience_sample_batch_size=64, train_every_n_steps=5)"
   ]
  },
  {
   "cell_type": "code",
   "execution_count": 7,
   "metadata": {},
   "outputs": [
    {
     "name": "stdout",
     "output_type": "stream",
     "text": [
      "[19:16:41] q_base.py:376 Episode 0/10: total_reward = -19.00, total_steps=499\n",
      "[19:16:42] q_base.py:376 Episode 1/10: total_reward = -39.00, total_steps=499\n",
      "[19:16:42] q_base.py:376 Episode 2/10: total_reward = -37.00, total_steps=499\n",
      "[19:16:42] q_base.py:376 Episode 3/10: total_reward = -45.00, total_steps=499\n",
      "[19:16:43] q_base.py:376 Episode 4/10: total_reward = -34.00, total_steps=499\n",
      "[19:16:43] q_base.py:376 Episode 5/10: total_reward = -24.00, total_steps=499\n",
      "[19:16:44] q_base.py:376 Episode 6/10: total_reward = -38.00, total_steps=499\n",
      "[19:16:45] q_base.py:376 Episode 7/10: total_reward = -38.00, total_steps=499\n",
      "[19:16:45] q_base.py:376 Episode 8/10: total_reward = -48.00, total_steps=499\n",
      "[19:16:46] q_base.py:376 Episode 9/10: total_reward = -29.00, total_steps=499\n",
      "[19:16:46] q_base.py:376 Episode 0/1: total_reward = 1.00, total_steps=499\n",
      "CPU times: user 5.08 s, sys: 34.9 ms, total: 5.11 s\n",
      "Wall time: 5.13 s\n"
     ]
    }
   ],
   "source": [
    "%%time\n",
    "# Train\n",
    "logging.ENV.debug_verbosity = 2\n",
    "policy = policy_impl.GreedyPolicyWithRandomness(epsilon=1.0)\n",
    "runner.Run(env=env, qfunc=qfunc, policy=policy, num_of_episodes=10)\n",
    "\n",
    "# Test\n",
    "logging.ENV.debug_verbosity = 2\n",
    "policy = policy_impl.GreedyPolicy()\n",
    "runner.Run(env=env, qfunc=qfunc, policy=policy, num_of_episodes=1)"
   ]
  },
  {
   "cell_type": "code",
   "execution_count": 8,
   "metadata": {},
   "outputs": [
    {
     "data": {
      "text/plain": [
       "{(-1,): array([0.71, 0.9 , 1.  ]),\n",
       " (-2,): array([1.439, 1.71 , 1.9  ]),\n",
       " (0,): array([-0.1,  0. , -0.1]),\n",
       " (1,): array([1.  , 0.9 , 0.71]),\n",
       " (-3,): array([2.0951, 2.439 , 2.71  ]),\n",
       " (-4,): array([2.68559, 3.0951 , 3.439  ]),\n",
       " (-5,): array([2.68559, 3.68559, 4.0951 ]),\n",
       " (5,): array([4.0951 , 3.68559, 2.68559]),\n",
       " (2,): array([1.9  , 1.71 , 1.439]),\n",
       " (3,): array([2.71  , 2.439 , 2.0951]),\n",
       " (4,): array([3.439  , 3.0951 , 2.68559])}"
      ]
     },
     "execution_count": 8,
     "metadata": {},
     "output_type": "execute_result"
    }
   ],
   "source": [
    "qfunc._storage"
   ]
  },
  {
   "cell_type": "code",
   "execution_count": null,
   "metadata": {},
   "outputs": [],
   "source": []
  }
 ],
 "metadata": {
  "kernelspec": {
   "display_name": "Python 3",
   "language": "python",
   "name": "python3"
  },
  "language_info": {
   "codemirror_mode": {
    "name": "ipython",
    "version": 3
   },
   "file_extension": ".py",
   "mimetype": "text/x-python",
   "name": "python",
   "nbconvert_exporter": "python",
   "pygments_lexer": "ipython3",
   "version": "3.6.8"
  }
 },
 "nbformat": 4,
 "nbformat_minor": 4
}
