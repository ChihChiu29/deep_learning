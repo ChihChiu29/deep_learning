{
 "cells": [
  {
   "cell_type": "code",
   "execution_count": 4,
   "metadata": {},
   "outputs": [
    {
     "name": "stdout",
     "output_type": "stream",
     "text": [
      "notebook_init.py imported and reloaded\n",
      "forwarded symbol: A\n",
      "forwarded symbol: Activation\n",
      "forwarded symbol: Dense\n",
      "forwarded symbol: InputLayer\n",
      "forwarded symbol: Model\n",
      "forwarded symbol: Sequential\n",
      "forwarded symbol: T\n",
      "reloaded: circular_world_env\n",
      "forwarded symbol: circular_world_env\n",
      "reloaded: environment_impl\n",
      "forwarded symbol: environment_impl\n",
      "reloaded: gym\n",
      "forwarded symbol: gym\n",
      "reloaded: keras\n",
      "forwarded symbol: keras\n",
      "reloaded: layers\n",
      "forwarded symbol: layers\n",
      "reloaded: logging\n",
      "forwarded symbol: logging\n",
      "reloaded: models\n",
      "forwarded symbol: models\n",
      "reloaded: numpy\n",
      "forwarded symbol: numpy\n",
      "reloaded: numpy_util\n",
      "forwarded symbol: numpy_util\n",
      "reloaded: optimizers\n",
      "forwarded symbol: optimizers\n",
      "reloaded: policy_impl\n",
      "forwarded symbol: policy_impl\n",
      "reloaded: q_base\n",
      "forwarded symbol: q_base\n",
      "reloaded: qfunc_impl\n",
      "forwarded symbol: qfunc_impl\n",
      "reloaded: runner_impl\n",
      "forwarded symbol: runner_impl\n"
     ]
    }
   ],
   "source": [
    "ReloadProject('deep_learning')"
   ]
  },
  {
   "cell_type": "markdown",
   "metadata": {},
   "source": [
    "# My models"
   ]
  },
  {
   "cell_type": "markdown",
   "metadata": {},
   "source": [
    "## 20-20-20\n",
    "Try the model that has shape (20, 20, 20)."
   ]
  },
  {
   "cell_type": "code",
   "execution_count": 6,
   "metadata": {},
   "outputs": [],
   "source": [
    "batch_size = 64  # used in qfunc and runner.\n",
    "env = environment_impl.GymEnvironment(gym.make('Acrobot-v1'))\n",
    "qfunc = qfunc_impl.DQN(\n",
    "    model=qfunc_impl.CreateSingleModelWithRMSProp(\n",
    "        state_shape=env.GetStateShape(),\n",
    "        action_space_size=env.GetActionSpaceSize(),\n",
    "        hidden_layer_sizes=(20, 20, 20)),\n",
    "    training_batch_size=batch_size,\n",
    "    discount_factor=0.99,\n",
    ")\n",
    "runner = runner_impl.ExperienceReplayRunner(experience_capacity=100000, experience_sample_batch_size=batch_size)"
   ]
  },
  {
   "cell_type": "code",
   "execution_count": 11,
   "metadata": {},
   "outputs": [
    {
     "name": "stdout",
     "output_type": "stream",
     "text": [
      "[13:29:00] q_base.py:415 Episode 0/500: episode_total_reward = -75.00, episode_steps=75\n",
      "[13:45:33] q_base.py:417 Episode 100/500: episode_total_reward = -130.00, episode_steps=130\n",
      "[14:01:57] q_base.py:417 Episode 200/500: episode_total_reward = -103.00, episode_steps=103\n",
      "[14:18:12] q_base.py:417 Episode 300/500: episode_total_reward = -77.00, episode_steps=77\n",
      "[14:34:29] q_base.py:417 Episode 400/500: episode_total_reward = -83.00, episode_steps=83\n",
      "CPU times: user 1h 22min 13s, sys: 10.8 s, total: 1h 22min 24s\n",
      "Wall time: 1h 22min 39s\n"
     ]
    }
   ],
   "source": [
    "%%time\n",
    "# Train\n",
    "logging.ENV.debug_verbosity = 3\n",
    "policy = policy_impl.GreedyPolicyWithRandomness(epsilon=0.1)\n",
    "runner.Run(env=env, qfunc=qfunc, policy=policy, num_of_episodes=500)"
   ]
  },
  {
   "cell_type": "code",
   "execution_count": 12,
   "metadata": {},
   "outputs": [
    {
     "name": "stdout",
     "output_type": "stream",
     "text": [
      "[14:51:42] q_base.py:415 Episode 0/500: episode_total_reward = -98.00, episode_steps=98\n",
      "[15:06:57] q_base.py:417 Episode 100/500: episode_total_reward = -77.00, episode_steps=77\n",
      "[15:22:52] q_base.py:417 Episode 200/500: episode_total_reward = -64.00, episode_steps=64\n",
      "[15:39:18] q_base.py:417 Episode 300/500: episode_total_reward = -102.00, episode_steps=102\n",
      "[15:55:14] q_base.py:417 Episode 400/500: episode_total_reward = -104.00, episode_steps=104\n",
      "CPU times: user 1h 19min 52s, sys: 7.55 s, total: 1h 20min\n",
      "Wall time: 1h 20min 13s\n"
     ]
    }
   ],
   "source": [
    "%%time\n",
    "# Train\n",
    "logging.ENV.debug_verbosity = 3\n",
    "policy = policy_impl.GreedyPolicyWithRandomness(epsilon=0.1)\n",
    "runner.Run(env=env, qfunc=qfunc, policy=policy, num_of_episodes=500)"
   ]
  },
  {
   "cell_type": "code",
   "execution_count": 13,
   "metadata": {},
   "outputs": [
    {
     "name": "stdout",
     "output_type": "stream",
     "text": [
      "[16:11:54] q_base.py:415 Episode 0/500: episode_total_reward = -95.00, episode_steps=95\n",
      "[16:28:23] q_base.py:417 Episode 100/500: episode_total_reward = -90.00, episode_steps=90\n",
      "[16:44:56] q_base.py:417 Episode 200/500: episode_total_reward = -76.00, episode_steps=76\n",
      "[17:01:41] q_base.py:417 Episode 300/500: episode_total_reward = -83.00, episode_steps=83\n",
      "[17:18:32] q_base.py:417 Episode 400/500: episode_total_reward = -86.00, episode_steps=86\n",
      "CPU times: user 1h 22min 30s, sys: 19.1 s, total: 1h 22min 49s\n",
      "Wall time: 1h 23min 13s\n"
     ]
    }
   ],
   "source": [
    "%%time\n",
    "# Train\n",
    "logging.ENV.debug_verbosity = 3\n",
    "policy = policy_impl.GreedyPolicyWithRandomness(epsilon=0.1)\n",
    "runner.Run(env=env, qfunc=qfunc, policy=policy, num_of_episodes=500)"
   ]
  },
  {
   "cell_type": "code",
   "execution_count": 14,
   "metadata": {},
   "outputs": [
    {
     "data": {
      "image/png": "[encoded data removed]",
      "text/plain": [
       "<Figure size 432x288 with 1 Axes>"
      ]
     },
     "metadata": {
      "needs_background": "light"
     },
     "output_type": "display_data"
    },
    {
     "name": "stdout",
     "output_type": "stream",
     "text": [
      "CPU times: user 15min 51s, sys: 5.32 s, total: 15min 56s\n",
      "Wall time: 16min 8s\n"
     ]
    }
   ],
   "source": [
    "%%time\n",
    "# Test\n",
    "logging.ENV.debug_verbosity = 4\n",
    "policy = policy_impl.GreedyPolicy()\n",
    "runner.Run(env=env, qfunc=qfunc, policy=policy, num_of_episodes=100)"
   ]
  },
  {
   "cell_type": "code",
   "execution_count": 15,
   "metadata": {},
   "outputs": [],
   "source": [
    "qfunc.SaveModel('saved_models/acrobot_v1_shape_20-20-20_rmsprop_gamma_0.99.model')"
   ]
  },
  {
   "cell_type": "code",
   "execution_count": null,
   "metadata": {},
   "outputs": [],
   "source": []
  }
 ],
 "metadata": {
  "kernelspec": {
   "display_name": "Python 3",
   "language": "python",
   "name": "python3"
  },
  "language_info": {
   "codemirror_mode": {
    "name": "ipython",
    "version": 3
   },
   "file_extension": ".py",
   "mimetype": "text/x-python",
   "name": "python",
   "nbconvert_exporter": "python",
   "pygments_lexer": "ipython3",
   "version": "3.6.8"
  }
 },
 "nbformat": 4,
 "nbformat_minor": 4
}
