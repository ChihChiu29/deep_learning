{
 "cells": [
  {
   "cell_type": "code",
   "execution_count": 4,
   "metadata": {},
   "outputs": [
    {
     "name": "stdout",
     "output_type": "stream",
     "text": [
      "notebook_init.py imported and reloaded\n",
      "forwarded symbol: A\n",
      "forwarded symbol: Activation\n",
      "forwarded symbol: Dense\n",
      "forwarded symbol: InputLayer\n",
      "forwarded symbol: Model\n",
      "forwarded symbol: Sequential\n",
      "forwarded symbol: T\n",
      "reloaded: circular_world_env\n",
      "forwarded symbol: circular_world_env\n",
      "reloaded: environment_impl\n",
      "forwarded symbol: environment_impl\n",
      "reloaded: gym\n",
      "forwarded symbol: gym\n",
      "reloaded: keras\n",
      "forwarded symbol: keras\n",
      "reloaded: layers\n",
      "forwarded symbol: layers\n",
      "reloaded: logging\n",
      "forwarded symbol: logging\n",
      "reloaded: models\n",
      "forwarded symbol: models\n",
      "reloaded: numpy\n",
      "forwarded symbol: numpy\n",
      "reloaded: numpy_util\n",
      "forwarded symbol: numpy_util\n",
      "reloaded: optimizers\n",
      "forwarded symbol: optimizers\n",
      "reloaded: policy_impl\n",
      "forwarded symbol: policy_impl\n",
      "reloaded: q_base\n",
      "forwarded symbol: q_base\n",
      "reloaded: qfunc_impl\n",
      "forwarded symbol: qfunc_impl\n",
      "reloaded: runner_impl\n",
      "forwarded symbol: runner_impl\n"
     ]
    }
   ],
   "source": [
    "ReloadProject('deep_learning')"
   ]
  },
  {
   "cell_type": "markdown",
   "metadata": {},
   "source": [
    "# My models"
   ]
  },
  {
   "cell_type": "markdown",
   "metadata": {},
   "source": [
    "## 20-20-20\n",
    "Try the model that has shape (20, 20, 20)."
   ]
  },
  {
   "cell_type": "code",
   "execution_count": 6,
   "metadata": {},
   "outputs": [],
   "source": [
    "batch_size = 64  # used in qfunc and runner.\n",
    "env = environment_impl.GymEnvironment(gym.make('Acrobot-v1'))\n",
    "qfunc = qfunc_impl.DQN(\n",
    "    model=qfunc_impl.CreateSingleModelWithRMSProp(\n",
    "        state_shape=env.GetStateShape(),\n",
    "        action_space_size=env.GetActionSpaceSize(),\n",
    "        hidden_layer_sizes=(20, 20, 20)),\n",
    "    training_batch_size=batch_size,\n",
    "    discount_factor=0.99,\n",
    ")\n",
    "runner = runner_impl.ExperienceReplayRunner(experience_capacity=100000, experience_sample_batch_size=batch_size)"
   ]
  },
  {
   "cell_type": "code",
   "execution_count": null,
   "metadata": {},
   "outputs": [
    {
     "name": "stdout",
     "output_type": "stream",
     "text": [
      "[03:57:51] q_base.py:415 Episode 0/500: episode_total_reward = -500.00, episode_steps=499\n",
      "[04:01:24] q_base.py:417 Episode 100/500: episode_total_reward = -110.00, episode_steps=110\n",
      "[04:07:36] q_base.py:417 Episode 200/500: episode_total_reward = -146.00, episode_steps=146\n"
     ]
    }
   ],
   "source": [
    "%%time\n",
    "# Train\n",
    "logging.ENV.debug_verbosity = 3\n",
    "policy = policy_impl.GreedyPolicyWithRandomness(epsilon=0.1)\n",
    "runner.Run(env=env, qfunc=qfunc, policy=policy, num_of_episodes=500)"
   ]
  },
  {
   "cell_type": "code",
   "execution_count": null,
   "metadata": {},
   "outputs": [],
   "source": [
    "%%time\n",
    "# Train\n",
    "logging.ENV.debug_verbosity = 3\n",
    "policy = policy_impl.GreedyPolicyWithRandomness(epsilon=0.1)\n",
    "runner.Run(env=env, qfunc=qfunc, policy=policy, num_of_episodes=500)"
   ]
  },
  {
   "cell_type": "code",
   "execution_count": null,
   "metadata": {},
   "outputs": [],
   "source": [
    "%%time\n",
    "# Train\n",
    "logging.ENV.debug_verbosity = 3\n",
    "policy = policy_impl.GreedyPolicyWithRandomness(epsilon=0.1)\n",
    "runner.Run(env=env, qfunc=qfunc, policy=policy, num_of_episodes=500)"
   ]
  },
  {
   "cell_type": "code",
   "execution_count": null,
   "metadata": {},
   "outputs": [],
   "source": [
    "%%time\n",
    "# Test\n",
    "logging.ENV.debug_verbosity = 4\n",
    "policy = policy_impl.GreedyPolicy()\n",
    "runner.Run(env=env, qfunc=qfunc, policy=policy, num_of_episodes=100)"
   ]
  },
  {
   "cell_type": "code",
   "execution_count": null,
   "metadata": {},
   "outputs": [],
   "source": []
  }
 ],
 "metadata": {
  "kernelspec": {
   "display_name": "Python 3",
   "language": "python",
   "name": "python3"
  },
  "language_info": {
   "codemirror_mode": {
    "name": "ipython",
    "version": 3
   },
   "file_extension": ".py",
   "mimetype": "text/x-python",
   "name": "python",
   "nbconvert_exporter": "python",
   "pygments_lexer": "ipython3",
   "version": "3.6.8"
  }
 },
 "nbformat": 4,
 "nbformat_minor": 4
}
