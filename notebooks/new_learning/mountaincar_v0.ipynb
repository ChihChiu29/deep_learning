{
 "cells": [
  {
   "cell_type": "code",
   "execution_count": 11,
   "metadata": {},
   "outputs": [
    {
     "name": "stdout",
     "output_type": "stream",
     "text": [
      "notebook_init.py imported and reloaded\n",
      "forwarded symbol: A\n",
      "forwarded symbol: Activation\n",
      "forwarded symbol: Dense\n",
      "forwarded symbol: InputLayer\n",
      "forwarded symbol: Model\n",
      "forwarded symbol: Sequential\n",
      "forwarded symbol: T\n",
      "reloaded: circular_world_env\n",
      "forwarded symbol: circular_world_env\n",
      "reloaded: environment_impl\n",
      "forwarded symbol: environment_impl\n",
      "reloaded: guided_environments\n",
      "forwarded symbol: guided_environments\n",
      "reloaded: gym\n",
      "forwarded symbol: gym\n",
      "reloaded: keras\n",
      "forwarded symbol: keras\n",
      "reloaded: layers\n",
      "forwarded symbol: layers\n",
      "reloaded: logging\n",
      "forwarded symbol: logging\n",
      "reloaded: model_builder\n",
      "forwarded symbol: model_builder\n",
      "reloaded: models\n",
      "forwarded symbol: models\n",
      "reloaded: numpy\n",
      "forwarded symbol: numpy\n",
      "reloaded: numpy_util\n",
      "forwarded symbol: numpy_util\n",
      "reloaded: optimizers\n",
      "forwarded symbol: optimizers\n",
      "reloaded: policy_impl\n",
      "forwarded symbol: policy_impl\n",
      "reloaded: q_base\n",
      "forwarded symbol: q_base\n",
      "reloaded: qfunc_impl\n",
      "forwarded symbol: qfunc_impl\n",
      "reloaded: runner_impl\n",
      "forwarded symbol: runner_impl\n"
     ]
    }
   ],
   "source": [
    "ReloadProject('deep_learning')"
   ]
  },
  {
   "cell_type": "markdown",
   "metadata": {},
   "source": [
    "# Models"
   ]
  },
  {
   "cell_type": "markdown",
   "metadata": {},
   "source": [
    "## (64,)"
   ]
  },
  {
   "cell_type": "code",
   "execution_count": 12,
   "metadata": {},
   "outputs": [],
   "source": [
    "batch_size = 64  # used in qfunc and runner.\n",
    "env = environment_impl.GymEnvironment(gym.make('MountainCar-v0'))\n",
    "qfunc = qfunc_impl.DQN(\n",
    "    model=qfunc_impl.CreateModel(\n",
    "        state_shape=env.GetStateShape(),\n",
    "        action_space_size=env.GetActionSpaceSize(),\n",
    "        hidden_layer_sizes=(64,)),\n",
    "    training_batch_size=batch_size,\n",
    "    discount_factor=0.99,\n",
    ")\n",
    "runner = runner_impl.ExperienceReplayRunner(experience_capacity=100000, experience_sample_batch_size=batch_size)"
   ]
  },
  {
   "cell_type": "code",
   "execution_count": 7,
   "metadata": {},
   "outputs": [
    {
     "name": "stdout",
     "output_type": "stream",
     "text": [
      "[13:29:27] q_base.py:415 Episode 0/500: episode_total_reward = -200.00, episode_steps=199\n",
      "[14:03:29] q_base.py:417 Episode 100/500: episode_total_reward = -200.00, episode_steps=199\n",
      "[14:37:15] q_base.py:417 Episode 200/500: episode_total_reward = -200.00, episode_steps=199\n",
      "[15:11:13] q_base.py:417 Episode 300/500: episode_total_reward = -200.00, episode_steps=199\n",
      "[15:45:13] q_base.py:417 Episode 400/500: episode_total_reward = -200.00, episode_steps=199\n",
      "CPU times: user 2h 48min 42s, sys: 19.3 s, total: 2h 49min 1s\n",
      "Wall time: 2h 49min 32s\n"
     ]
    }
   ],
   "source": [
    "%%time\n",
    "# Train\n",
    "logging.ENV.debug_verbosity = 3\n",
    "policy = policy_impl.GreedyPolicyWithRandomness(epsilon=1.0)\n",
    "runner.Run(env=env, qfunc=qfunc, policy=policy, num_of_episodes=500)"
   ]
  },
  {
   "cell_type": "code",
   "execution_count": 8,
   "metadata": {},
   "outputs": [
    {
     "name": "stdout",
     "output_type": "stream",
     "text": [
      "[16:19:00] q_base.py:415 Episode 0/500: episode_total_reward = -200.00, episode_steps=199\n",
      "[16:52:07] q_base.py:417 Episode 100/500: episode_total_reward = -200.00, episode_steps=199\n",
      "[17:25:50] q_base.py:417 Episode 200/500: episode_total_reward = -200.00, episode_steps=199\n",
      "[17:59:26] q_base.py:417 Episode 300/500: episode_total_reward = -200.00, episode_steps=199\n",
      "[18:32:00] q_base.py:417 Episode 400/500: episode_total_reward = -200.00, episode_steps=199\n",
      "CPU times: user 2h 44min 38s, sys: 28.6 s, total: 2h 45min 7s\n",
      "Wall time: 2h 45min 46s\n"
     ]
    }
   ],
   "source": [
    "%%time\n",
    "# Train\n",
    "logging.ENV.debug_verbosity = 3\n",
    "policy = policy_impl.GreedyPolicyWithRandomness(epsilon=0.3)\n",
    "runner.Run(env=env, qfunc=qfunc, policy=policy, num_of_episodes=500)"
   ]
  },
  {
   "cell_type": "code",
   "execution_count": 9,
   "metadata": {},
   "outputs": [
    {
     "name": "stdout",
     "output_type": "stream",
     "text": [
      "[19:04:46] q_base.py:415 Episode 0/500: episode_total_reward = -200.00, episode_steps=199\n",
      "[19:37:37] q_base.py:417 Episode 100/500: episode_total_reward = -200.00, episode_steps=199\n",
      "[20:10:12] q_base.py:417 Episode 200/500: episode_total_reward = -200.00, episode_steps=199\n",
      "[20:42:37] q_base.py:417 Episode 300/500: episode_total_reward = -200.00, episode_steps=199\n",
      "[21:15:00] q_base.py:417 Episode 400/500: episode_total_reward = -200.00, episode_steps=199\n",
      "CPU times: user 2h 42min 29s, sys: 19.4 s, total: 2h 42min 48s\n",
      "Wall time: 2h 43min 5s\n"
     ]
    }
   ],
   "source": [
    "%%time\n",
    "# Train\n",
    "logging.ENV.debug_verbosity = 3\n",
    "policy = policy_impl.GreedyPolicyWithRandomness(epsilon=0.1)\n",
    "runner.Run(env=env, qfunc=qfunc, policy=policy, num_of_episodes=500)"
   ]
  },
  {
   "cell_type": "code",
   "execution_count": 10,
   "metadata": {},
   "outputs": [
    {
     "data": {
      "image/png": "[encoded data removed]",
      "text/plain": [
       "<Figure size 432x288 with 1 Axes>"
      ]
     },
     "metadata": {
      "needs_background": "light"
     },
     "output_type": "display_data"
    },
    {
     "name": "stdout",
     "output_type": "stream",
     "text": [
      "CPU times: user 33min 44s, sys: 6.29 s, total: 33min 50s\n",
      "Wall time: 34min 1s\n"
     ]
    }
   ],
   "source": [
    "%%time\n",
    "# Test\n",
    "logging.ENV.debug_verbosity = 4\n",
    "policy = policy_impl.GreedyPolicy()\n",
    "runner.Run(env=env, qfunc=qfunc, policy=policy, num_of_episodes=100)"
   ]
  },
  {
   "cell_type": "code",
   "execution_count": null,
   "metadata": {},
   "outputs": [],
   "source": []
  }
 ],
 "metadata": {
  "kernelspec": {
   "display_name": "Python 3",
   "language": "python",
   "name": "python3"
  },
  "language_info": {
   "codemirror_mode": {
    "name": "ipython",
    "version": 3
   },
   "file_extension": ".py",
   "mimetype": "text/x-python",
   "name": "python",
   "nbconvert_exporter": "python",
   "pygments_lexer": "ipython3",
   "version": "3.6.8"
  }
 },
 "nbformat": 4,
 "nbformat_minor": 4
}
