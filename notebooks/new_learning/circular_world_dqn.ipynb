{
 "cells": [
  {
   "cell_type": "code",
   "execution_count": 15,
   "metadata": {},
   "outputs": [
    {
     "name": "stdout",
     "output_type": "stream",
     "text": [
      "notebook_init.py imported and reloaded\n",
      "forwarded symbol: A\n",
      "forwarded symbol: Activation\n",
      "forwarded symbol: Dense\n",
      "forwarded symbol: Dict\n",
      "forwarded symbol: InputLayer\n",
      "forwarded symbol: List\n",
      "forwarded symbol: Model\n",
      "forwarded symbol: Sequential\n",
      "forwarded symbol: T\n",
      "forwarded symbol: Tuple\n",
      "reloaded: circular_world_env\n",
      "forwarded symbol: circular_world_env\n",
      "reloaded: gym\n",
      "forwarded symbol: gym\n",
      "reloaded: keras\n",
      "forwarded symbol: keras\n",
      "reloaded: logging\n",
      "forwarded symbol: logging\n",
      "reloaded: numpy\n",
      "forwarded symbol: numpy\n",
      "reloaded: numpy_util\n",
      "forwarded symbol: numpy_util\n",
      "reloaded: optimizers\n",
      "forwarded symbol: optimizers\n",
      "reloaded: policy_impl\n",
      "forwarded symbol: policy_impl\n",
      "reloaded: q_base\n",
      "forwarded symbol: q_base\n",
      "reloaded: qfunc_impl\n",
      "forwarded symbol: qfunc_impl\n",
      "reloaded: runner_impl\n",
      "forwarded symbol: runner_impl\n"
     ]
    }
   ],
   "source": [
    "ReloadProject('deep_learning')"
   ]
  },
  {
   "cell_type": "code",
   "execution_count": 16,
   "metadata": {},
   "outputs": [],
   "source": [
    "batch_size = 64  # used in qfunc and runner.\n",
    "env = circular_world_env.CircularWorld(size=5)\n",
    "qfunc = qfunc_impl.DQN(\n",
    "  state_space_dim=1,\n",
    "  action_space_size=3,\n",
    "  hidden_layer_sizes=(20, 20, 20),\n",
    "  training_batch_size=batch_size,\n",
    ")\n",
    "runner = runner_impl.ExperienceReplayRunner(experience_capacity=128, experience_sample_batch_size=batch_size)"
   ]
  },
  {
   "cell_type": "code",
   "execution_count": 17,
   "metadata": {},
   "outputs": [
    {
     "name": "stdout",
     "output_type": "stream",
     "text": [
      "[21:49:38] q_base.py:376 Episode 0/10: total_reward = -24.00, total_steps=499\n",
      "[21:49:38] q_base.py:376 Episode 1/10: total_reward = -43.00, total_steps=499\n",
      "[21:49:39] q_base.py:376 Episode 2/10: total_reward = -44.00, total_steps=499\n",
      "[21:49:40] q_base.py:376 Episode 3/10: total_reward = -31.00, total_steps=499\n",
      "[21:49:41] q_base.py:376 Episode 4/10: total_reward = -26.00, total_steps=499\n",
      "[21:49:42] q_base.py:376 Episode 5/10: total_reward = -26.00, total_steps=499\n",
      "[21:49:43] q_base.py:376 Episode 6/10: total_reward = -19.00, total_steps=499\n",
      "[21:49:43] q_base.py:376 Episode 7/10: total_reward = -36.00, total_steps=499\n",
      "[21:49:44] q_base.py:376 Episode 8/10: total_reward = -36.00, total_steps=499\n",
      "[21:49:45] q_base.py:376 Episode 9/10: total_reward = -47.00, total_steps=499\n",
      "[21:49:46] q_base.py:376 Episode 0/1: total_reward = 1.00, total_steps=499\n",
      "CPU times: user 9.84 s, sys: 67.7 ms, total: 9.91 s\n",
      "Wall time: 9.97 s\n"
     ]
    }
   ],
   "source": [
    "%%time\n",
    "# Train\n",
    "logging.ENV.debug_verbosity = 2\n",
    "policy = policy_impl.GreedyPolicyWithRandomness(epsilon=1.0)\n",
    "runner.Run(env=env, qfunc=qfunc, policy=policy, num_of_episodes=10)\n",
    "\n",
    "# Test\n",
    "logging.ENV.debug_verbosity = 2\n",
    "policy = policy_impl.GreedyPolicy()\n",
    "runner.Run(env=env, qfunc=qfunc, policy=policy, num_of_episodes=1)"
   ]
  },
  {
   "cell_type": "code",
   "execution_count": 18,
   "metadata": {},
   "outputs": [
    {
     "name": "stdout",
     "output_type": "stream",
     "text": [
      "[-5] [2.148796  3.8355637 4.2409115]\n",
      "[-4] [1.9212042 3.2581062 3.613132 ]\n",
      "[-3] [1.7698092 2.675985  2.9766078]\n",
      "[-2] [1.2808111 1.9046876 2.0524676]\n",
      "[-1] [0.6161698 1.0002772 1.0567639]\n",
      "[0] [-1.4937061e-01  1.4901161e-08 -1.3962418e-01]\n",
      "[1] [0.9399597 0.8654816 0.6803488]\n",
      "[2] [1.8285743 1.6658494 1.3919125]\n",
      "[3] [2.6159778 2.3770437 1.9863846]\n",
      "[4] [3.3541648 3.0275536 2.4906538]\n",
      "[5] [4.003992  3.6275032 2.9122505]\n"
     ]
    }
   ],
   "source": [
    "states = env.GetAllStates()\n",
    "values = qfunc.GetValues(states)\n",
    "for s, v in zip(states, values):\n",
    "    print(s, v)"
   ]
  },
  {
   "cell_type": "code",
   "execution_count": null,
   "metadata": {},
   "outputs": [],
   "source": []
  }
 ],
 "metadata": {
  "kernelspec": {
   "display_name": "Python 3",
   "language": "python",
   "name": "python3"
  },
  "language_info": {
   "codemirror_mode": {
    "name": "ipython",
    "version": 3
   },
   "file_extension": ".py",
   "mimetype": "text/x-python",
   "name": "python",
   "nbconvert_exporter": "python",
   "pygments_lexer": "ipython3",
   "version": "3.6.8"
  }
 },
 "nbformat": 4,
 "nbformat_minor": 4
}
