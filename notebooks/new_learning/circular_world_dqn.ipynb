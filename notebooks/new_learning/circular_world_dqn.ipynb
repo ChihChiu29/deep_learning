{
 "cells": [
  {
   "cell_type": "code",
   "execution_count": 1,
   "metadata": {},
   "outputs": [
    {
     "name": "stdout",
     "output_type": "stream",
     "text": [
      "Path c:\\Workspace\\git\\ added to PYTHON_PATH.\n",
      "Path c:\\Workspace\\git\\deep_learning added to PYTHON_PATH.\n"
     ]
    },
    {
     "name": "stderr",
     "output_type": "stream",
     "text": [
      "Using TensorFlow backend.\n"
     ]
    },
    {
     "name": "stdout",
     "output_type": "stream",
     "text": [
      "notebook_init.py imported and reloaded\n",
      "reloaded: a3c_impl\n",
      "forwarded symbol: a3c_impl\n",
      "reloaded: base\n",
      "forwarded symbol: base\n",
      "reloaded: circular_world_env\n",
      "forwarded symbol: circular_world_env\n",
      "reloaded: environment_impl\n",
      "forwarded symbol: environment_impl\n",
      "reloaded: guided_environments\n",
      "forwarded symbol: guided_environments\n",
      "reloaded: gym\n",
      "forwarded symbol: gym\n",
      "reloaded: keras\n",
      "forwarded symbol: keras\n",
      "reloaded: layers\n",
      "forwarded symbol: layers\n",
      "reloaded: logging\n",
      "forwarded symbol: logging\n",
      "reloaded: model_builder\n",
      "forwarded symbol: model_builder\n",
      "reloaded: models\n",
      "forwarded symbol: models\n",
      "reloaded: numpy\n",
      "forwarded symbol: numpy\n",
      "reloaded: numpy_util\n",
      "forwarded symbol: numpy_util\n",
      "reloaded: optimizers\n",
      "forwarded symbol: optimizers\n",
      "reloaded: policy_impl\n",
      "forwarded symbol: policy_impl\n",
      "reloaded: qfunc_impl\n",
      "forwarded symbol: qfunc_impl\n",
      "reloaded: runner_extension_impl\n",
      "forwarded symbol: runner_extension_impl\n",
      "reloaded: runner_impl\n",
      "forwarded symbol: runner_impl\n",
      "reloaded: running_environment\n",
      "forwarded symbol: running_environment\n",
      "reloaded: shortcut\n",
      "forwarded symbol: shortcut\n"
     ]
    }
   ],
   "source": [
    "ReloadProject('deep_learning')"
   ]
  },
  {
   "cell_type": "code",
   "execution_count": 16,
   "metadata": {},
   "outputs": [],
   "source": [
    "batch_size = 64  # used in qfunc and runner.\n",
    "env = circular_world_env.CircularWorld(size=5)\n",
    "qfunc = qfunc_impl.DQN(\n",
    "  state_space_dim=1,\n",
    "  action_space_size=3,\n",
    "  hidden_layer_sizes=(20, 20, 20),\n",
    "  training_batch_size=batch_size,\n",
    ")\n",
    "runner = runner_impl.ExperienceReplayRunner(experience_capacity=128, experience_sample_batch_size=batch_size)"
   ]
  },
  {
   "cell_type": "code",
   "execution_count": 17,
   "metadata": {},
   "outputs": [
    {
     "name": "stdout",
     "output_type": "stream",
     "text": [
      "[21:49:38] q_base.py:376 Episode 0/10: total_reward = -24.00, total_steps=499\n",
      "[21:49:38] q_base.py:376 Episode 1/10: total_reward = -43.00, total_steps=499\n",
      "[21:49:39] q_base.py:376 Episode 2/10: total_reward = -44.00, total_steps=499\n",
      "[21:49:40] q_base.py:376 Episode 3/10: total_reward = -31.00, total_steps=499\n",
      "[21:49:41] q_base.py:376 Episode 4/10: total_reward = -26.00, total_steps=499\n",
      "[21:49:42] q_base.py:376 Episode 5/10: total_reward = -26.00, total_steps=499\n",
      "[21:49:43] q_base.py:376 Episode 6/10: total_reward = -19.00, total_steps=499\n",
      "[21:49:43] q_base.py:376 Episode 7/10: total_reward = -36.00, total_steps=499\n",
      "[21:49:44] q_base.py:376 Episode 8/10: total_reward = -36.00, total_steps=499\n",
      "[21:49:45] q_base.py:376 Episode 9/10: total_reward = -47.00, total_steps=499\n",
      "[21:49:46] q_base.py:376 Episode 0/1: total_reward = 1.00, total_steps=499\n",
      "CPU times: user 9.84 s, sys: 67.7 ms, total: 9.91 s\n",
      "Wall time: 9.97 s\n"
     ]
    }
   ],
   "source": [
    "%%time\n",
    "# Train\n",
    "logging.ENV.debug_verbosity = 2\n",
    "policy = policy_impl.GreedyPolicyWithRandomness(epsilon=1.0)\n",
    "runner.Run(env=env, qfunc=qfunc, policy=policy, num_of_episodes=10)\n",
    "\n",
    "# Test\n",
    "logging.ENV.debug_verbosity = 2\n",
    "policy = policy_impl.GreedyPolicy()\n",
    "runner.Run(env=env, qfunc=qfunc, policy=policy, num_of_episodes=1)"
   ]
  },
  {
   "cell_type": "code",
   "execution_count": 18,
   "metadata": {},
   "outputs": [
    {
     "name": "stdout",
     "output_type": "stream",
     "text": [
      "[-5] [2.148796  3.8355637 4.2409115]\n",
      "[-4] [1.9212042 3.2581062 3.613132 ]\n",
      "[-3] [1.7698092 2.675985  2.9766078]\n",
      "[-2] [1.2808111 1.9046876 2.0524676]\n",
      "[-1] [0.6161698 1.0002772 1.0567639]\n",
      "[0] [-1.4937061e-01  1.4901161e-08 -1.3962418e-01]\n",
      "[1] [0.9399597 0.8654816 0.6803488]\n",
      "[2] [1.8285743 1.6658494 1.3919125]\n",
      "[3] [2.6159778 2.3770437 1.9863846]\n",
      "[4] [3.3541648 3.0275536 2.4906538]\n",
      "[5] [4.003992  3.6275032 2.9122505]\n"
     ]
    }
   ],
   "source": [
    "states = env.GetAllStates()\n",
    "values = qfunc.GetValues(states)\n",
    "for s, v in zip(states, values):\n",
    "    print(s, v)"
   ]
  },
  {
   "cell_type": "markdown",
   "metadata": {},
   "source": [
    "## A3C"
   ]
  },
  {
   "cell_type": "code",
   "execution_count": 2,
   "metadata": {},
   "outputs": [],
   "source": [
    "running_environment.ForceCpuForTheRun()"
   ]
  },
  {
   "cell_type": "code",
   "execution_count": 7,
   "metadata": {},
   "outputs": [
    {
     "name": "stdout",
     "output_type": "stream",
     "text": [
      "[22:22:35] c:\\Workspace\\git\\deep_learning\\engine\\a3c_impl.py:46 WARNING: only one A3C instance can be active; the previous instance <deep_learning.engine.a3c_impl.A3C object at 0x000002534BCDBA90> is now deactivated.\n"
     ]
    }
   ],
   "source": [
    "batch_size = 64  # used in qfunc and runner.\n",
    "env = circular_world_env.CircularWorld(size=5)\n",
    "brain = a3c_impl.A3C(\n",
    "    model=a3c_impl.CreateModel(\n",
    "        state_shape=(1,),\n",
    "        action_space_size=3,\n",
    "        hidden_layer_sizes=(20, 20, 20),\n",
    "    )\n",
    ")\n",
    "runner = runner_impl.ExperienceReplayRunner(experience_capacity=128, experience_sample_batch_size=batch_size)\n",
    "runner.AddCallback(runner_extension_impl.ProgressTracer(report_every_num_of_episodes=10))"
   ]
  },
  {
   "cell_type": "code",
   "execution_count": 8,
   "metadata": {},
   "outputs": [
    {
     "name": "stdout",
     "output_type": "stream",
     "text": [
      "[22:22:59] c:\\Workspace\\git\\deep_learning\\engine\\runner_extension_impl.py:58 Episode 10/100: avg_reward = -33.50, avg_steps=500.00 (over 10 episodes)\n",
      "[22:23:07] c:\\Workspace\\git\\deep_learning\\engine\\runner_extension_impl.py:58 Episode 20/100: avg_reward = -46.00, avg_steps=500.00 (over 10 episodes)\n",
      "[22:23:15] c:\\Workspace\\git\\deep_learning\\engine\\runner_extension_impl.py:58 Episode 30/100: avg_reward = -48.10, avg_steps=500.00 (over 10 episodes)\n",
      "[22:23:24] c:\\Workspace\\git\\deep_learning\\engine\\runner_extension_impl.py:58 Episode 40/100: avg_reward = -47.90, avg_steps=500.00 (over 10 episodes)\n",
      "[22:23:32] c:\\Workspace\\git\\deep_learning\\engine\\runner_extension_impl.py:58 Episode 50/100: avg_reward = -47.50, avg_steps=500.00 (over 10 episodes)\n",
      "[22:23:40] c:\\Workspace\\git\\deep_learning\\engine\\runner_extension_impl.py:58 Episode 60/100: avg_reward = -47.00, avg_steps=500.00 (over 10 episodes)\n",
      "[22:23:48] c:\\Workspace\\git\\deep_learning\\engine\\runner_extension_impl.py:58 Episode 70/100: avg_reward = -47.90, avg_steps=500.00 (over 10 episodes)\n",
      "[22:23:57] c:\\Workspace\\git\\deep_learning\\engine\\runner_extension_impl.py:58 Episode 80/100: avg_reward = -47.00, avg_steps=500.00 (over 10 episodes)\n",
      "[22:24:05] c:\\Workspace\\git\\deep_learning\\engine\\runner_extension_impl.py:58 Episode 90/100: avg_reward = -46.90, avg_steps=500.00 (over 10 episodes)\n",
      "[22:24:13] c:\\Workspace\\git\\deep_learning\\engine\\runner_extension_impl.py:58 Episode 100/100: avg_reward = -48.90, avg_steps=500.00 (over 10 episodes)\n",
      "[22:24:13] c:\\Workspace\\git\\deep_learning\\engine\\runner_extension_impl.py:72 Total: run 100 episodes, avg_reward = -46.07, avg_steps=500.00\n"
     ]
    },
    {
     "data": {
      "image/png": "[encoded data removed]",
      "text/plain": [
       "<Figure size 432x288 with 1 Axes>"
      ]
     },
     "metadata": {
      "needs_background": "light"
     },
     "output_type": "display_data"
    },
    {
     "data": {
      "image/png": "[encoded data removed]",
      "text/plain": [
       "<Figure size 432x288 with 1 Axes>"
      ]
     },
     "metadata": {
      "needs_background": "light"
     },
     "output_type": "display_data"
    },
    {
     "name": "stdout",
     "output_type": "stream",
     "text": [
      "Wall time: 1min 22s\n"
     ]
    }
   ],
   "source": [
    "%%time\n",
    "logging.ENV.debug_verbosity = 2\n",
    "policy = policy_impl.GreedyPolicyWithDecreasingRandomness(\n",
    "    initial_epsilon=1.0, final_epsilon=0.05, decay_by_half_after_num_of_episodes=2)\n",
    "runner.Run(env=env, brain=brain, policy=policy, num_of_episodes=100)"
   ]
  },
  {
   "cell_type": "code",
   "execution_count": 10,
   "metadata": {},
   "outputs": [
    {
     "name": "stdout",
     "output_type": "stream",
     "text": [
      "[22:24:45] c:\\Workspace\\git\\deep_learning\\engine\\runner_extension_impl.py:72 Total: run 1 episodes, avg_reward = -51.00, avg_steps=500.00\n"
     ]
    },
    {
     "data": {
      "image/png": "[encoded data removed]",
      "text/plain": [
       "<Figure size 432x288 with 1 Axes>"
      ]
     },
     "metadata": {
      "needs_background": "light"
     },
     "output_type": "display_data"
    },
    {
     "data": {
      "image/png": "[encoded data removed]",
      "text/plain": [
       "<Figure size 432x288 with 1 Axes>"
      ]
     },
     "metadata": {
      "needs_background": "light"
     },
     "output_type": "display_data"
    }
   ],
   "source": [
    "logging.ENV.debug_verbosity = 2\n",
    "policy = policy_impl.GreedyPolicy()\n",
    "runner.Run(env=env, brain=brain, policy=policy, num_of_episodes=1)"
   ]
  },
  {
   "cell_type": "code",
   "execution_count": null,
   "metadata": {},
   "outputs": [],
   "source": []
  }
 ],
 "metadata": {
  "kernelspec": {
   "display_name": "Python 3",
   "language": "python",
   "name": "python3"
  },
  "language_info": {
   "codemirror_mode": {
    "name": "ipython",
    "version": 3
   },
   "file_extension": ".py",
   "mimetype": "text/x-python",
   "name": "python",
   "nbconvert_exporter": "python",
   "pygments_lexer": "ipython3",
   "version": "3.7.3"
  }
 },
 "nbformat": 4,
 "nbformat_minor": 4
}
