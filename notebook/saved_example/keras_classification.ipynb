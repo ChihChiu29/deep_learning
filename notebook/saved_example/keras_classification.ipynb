{
 "cells": [
  {
   "cell_type": "code",
   "execution_count": 2,
   "metadata": {},
   "outputs": [
    {
     "name": "stdout",
     "output_type": "stream",
     "text": [
      "Path /workspace/external/deep_learning added to PYTHON_PATH.\n"
     ]
    },
    {
     "name": "stderr",
     "output_type": "stream",
     "text": [
      "Using TensorFlow backend.\n"
     ]
    },
    {
     "name": "stdout",
     "output_type": "stream",
     "text": [
      "notebook_init.py imported and reloaded\n",
      "forwarded symbol: Activation\n",
      "forwarded symbol: Dense\n",
      "forwarded symbol: Sequential\n",
      "reloaded: gym\n",
      "forwarded symbol: gym\n",
      "reloaded: interface\n",
      "forwarded symbol: interface\n",
      "reloaded: keras\n",
      "forwarded symbol: keras\n"
     ]
    }
   ],
   "source": [
    "ReloadProject('deep_learning')"
   ]
  },
  {
   "cell_type": "markdown",
   "metadata": {},
   "source": [
    "## Binary classifier"
   ]
  },
  {
   "cell_type": "code",
   "execution_count": 36,
   "metadata": {},
   "outputs": [],
   "source": [
    "train_data = np.random.rand(10000, 4)\n",
    "train_labels = train_data[:,0] > 0.5\n",
    "one_hot_train_labels = keras.utils.to_categorical(train_labels, num_classes=2)"
   ]
  },
  {
   "cell_type": "code",
   "execution_count": 42,
   "metadata": {},
   "outputs": [
    {
     "name": "stdout",
     "output_type": "stream",
     "text": [
      "Epoch 1/10\n",
      "10000/10000 [==============================] - 1s 120us/step - loss: 0.4956 - acc: 0.7858\n",
      "Epoch 2/10\n",
      "10000/10000 [==============================] - 1s 50us/step - loss: 0.2366 - acc: 0.9413\n",
      "Epoch 3/10\n",
      "10000/10000 [==============================] - 1s 57us/step - loss: 0.0884 - acc: 0.9758\n",
      "Epoch 4/10\n",
      "10000/10000 [==============================] - 1s 55us/step - loss: 0.0556 - acc: 0.9871\n",
      "Epoch 5/10\n",
      "10000/10000 [==============================] - 1s 52us/step - loss: 0.0425 - acc: 0.9902\n",
      "Epoch 6/10\n",
      "10000/10000 [==============================] - 1s 55us/step - loss: 0.0355 - acc: 0.9925\n",
      "Epoch 7/10\n",
      "10000/10000 [==============================] - 1s 54us/step - loss: 0.0307 - acc: 0.9933\n",
      "Epoch 8/10\n",
      "10000/10000 [==============================] - 1s 55us/step - loss: 0.0276 - acc: 0.9937\n",
      "Epoch 9/10\n",
      "10000/10000 [==============================] - 1s 52us/step - loss: 0.0254 - acc: 0.9939\n",
      "Epoch 10/10\n",
      "10000/10000 [==============================] - 1s 57us/step - loss: 0.0237 - acc: 0.9941\n"
     ]
    },
    {
     "data": {
      "text/plain": [
       "<keras.callbacks.History at 0x7fe769824668>"
      ]
     },
     "execution_count": 42,
     "metadata": {},
     "output_type": "execute_result"
    }
   ],
   "source": [
    "model = Sequential()\n",
    "model.add(Dense(6, activation='relu', input_dim=4))\n",
    "model.add(Dense(6, activation='relu'))\n",
    "model.add(Dense(6, activation='relu'))\n",
    "model.add(Dense(2, activation='softmax'))\n",
    "\n",
    "model.compile(optimizer='rmsprop',\n",
    "              loss='binary_crossentropy',\n",
    "              metrics=['accuracy'])\n",
    "\n",
    "model.fit(train_data, one_hot_train_labels, epochs=10, batch_size=32)"
   ]
  },
  {
   "cell_type": "code",
   "execution_count": 43,
   "metadata": {},
   "outputs": [
    {
     "name": "stdout",
     "output_type": "stream",
     "text": [
      "[0.37939964 0.99905268 0.02726233 0.81033626 0.94175805 0.7477724\n",
      " 0.13083237 0.32436433 0.98274507 0.6977157 ]\n"
     ]
    },
    {
     "data": {
      "text/plain": [
       "array([[9.9985409e-01, 1.4586173e-04],\n",
       "       [2.6681549e-13, 1.0000000e+00],\n",
       "       [9.9999964e-01, 3.4639271e-07],\n",
       "       [1.8640400e-10, 1.0000000e+00],\n",
       "       [1.3699250e-12, 1.0000000e+00],\n",
       "       [2.2386972e-09, 1.0000000e+00],\n",
       "       [9.9999595e-01, 4.0039445e-06],\n",
       "       [9.9990284e-01, 9.7114847e-05],\n",
       "       [2.1742263e-14, 1.0000000e+00],\n",
       "       [1.0138200e-07, 9.9999988e-01]], dtype=float32)"
      ]
     },
     "execution_count": 43,
     "metadata": {},
     "output_type": "execute_result"
    }
   ],
   "source": [
    "test_data = np.random.rand(10, 4)\n",
    "print(test_data[:,0])\n",
    "model.predict(test_data)"
   ]
  },
  {
   "cell_type": "markdown",
   "metadata": {},
   "source": [
    "## Multiclass classfifier"
   ]
  },
  {
   "cell_type": "code",
   "execution_count": 56,
   "metadata": {},
   "outputs": [
    {
     "name": "stdout",
     "output_type": "stream",
     "text": [
      "Epoch 1/10\n",
      "10000/10000 [==============================] - 1s 128us/step - loss: 0.5216 - acc: 0.7538\n",
      "Epoch 2/10\n",
      "10000/10000 [==============================] - 1s 61us/step - loss: 0.3711 - acc: 0.8259\n",
      "Epoch 3/10\n",
      "10000/10000 [==============================] - 1s 55us/step - loss: 0.2366 - acc: 0.9164\n",
      "Epoch 4/10\n",
      "10000/10000 [==============================] - 1s 52us/step - loss: 0.1543 - acc: 0.9700\n",
      "Epoch 5/10\n",
      "10000/10000 [==============================] - 1s 52us/step - loss: 0.1116 - acc: 0.9776\n",
      "Epoch 6/10\n",
      "10000/10000 [==============================] - 1s 61us/step - loss: 0.0877 - acc: 0.9808\n",
      "Epoch 7/10\n",
      "10000/10000 [==============================] - 1s 53us/step - loss: 0.0735 - acc: 0.9833\n",
      "Epoch 8/10\n",
      "10000/10000 [==============================] - 1s 53us/step - loss: 0.0634 - acc: 0.9860\n",
      "Epoch 9/10\n",
      "10000/10000 [==============================] - 1s 54us/step - loss: 0.0562 - acc: 0.9874\n",
      "Epoch 10/10\n",
      "10000/10000 [==============================] - 1s 61us/step - loss: 0.0504 - acc: 0.9888\n",
      "[0.74922858 0.11994309 0.15804021 0.62309971 0.4978077  0.73010793\n",
      " 0.91255119 0.26384172 0.17103494 0.19295214]\n"
     ]
    },
    {
     "data": {
      "text/plain": [
       "array([[1.2368723e-17, 1.0725839e-06, 4.2867875e-01, 5.7132024e-01],\n",
       "       [9.9806923e-01, 1.9307450e-03, 7.3191377e-09, 3.8498161e-27],\n",
       "       [9.8754787e-01, 1.2452028e-02, 1.0891723e-07, 5.2449232e-25],\n",
       "       [7.9667989e-13, 8.2713383e-04, 9.9825686e-01, 9.1593619e-04],\n",
       "       [5.2043276e-07, 3.9721370e-01, 6.0278529e-01, 5.2876754e-07],\n",
       "       [4.6349812e-18, 1.8140678e-06, 7.3542351e-01, 2.6457474e-01],\n",
       "       [4.6628866e-26, 4.6066701e-12, 1.8695020e-03, 9.9813050e-01],\n",
       "       [2.9422596e-01, 7.0568389e-01, 9.0169458e-05, 8.4738005e-19],\n",
       "       [9.8274910e-01, 1.7250579e-02, 1.8972604e-07, 1.6241024e-24],\n",
       "       [9.4077790e-01, 5.9221227e-02, 9.2271250e-07, 1.9560873e-23]],\n",
       "      dtype=float32)"
      ]
     },
     "execution_count": 56,
     "metadata": {},
     "output_type": "execute_result"
    }
   ],
   "source": [
    "bins = np.array([0.0, 0.25, 0.5, 0.75, 1.0])\n",
    "train_data = np.random.rand(10000, 4)\n",
    "train_labels = np.digitize(train_data[:,0], bins) - 1\n",
    "one_hot_train_labels = keras.utils.to_categorical(train_labels, num_classes=4)\n",
    "\n",
    "model = Sequential()\n",
    "model.add(Dense(6, activation='relu', input_dim=4))\n",
    "model.add(Dense(6, activation='relu'))\n",
    "model.add(Dense(6, activation='relu'))\n",
    "model.add(Dense(4, activation='softmax'))\n",
    "\n",
    "model.compile(optimizer='rmsprop',\n",
    "              loss='binary_crossentropy',\n",
    "              metrics=['accuracy'])\n",
    "\n",
    "model.fit(train_data, one_hot_train_labels, epochs=10, batch_size=32)\n",
    "\n",
    "test_data = np.random.rand(10, 4)\n",
    "print(test_data[:,0])\n",
    "model.predict(test_data)"
   ]
  },
  {
   "cell_type": "code",
   "execution_count": null,
   "metadata": {},
   "outputs": [],
   "source": []
  }
 ],
 "metadata": {
  "kernelspec": {
   "display_name": "Python 3",
   "language": "python",
   "name": "python3"
  },
  "language_info": {
   "codemirror_mode": {
    "name": "ipython",
    "version": 3
   },
   "file_extension": ".py",
   "mimetype": "text/x-python",
   "name": "python",
   "nbconvert_exporter": "python",
   "pygments_lexer": "ipython3",
   "version": "3.5.2"
  }
 },
 "nbformat": 4,
 "nbformat_minor": 2
}
