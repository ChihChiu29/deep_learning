{
 "cells": [
  {
   "cell_type": "code",
   "execution_count": 5,
   "metadata": {},
   "outputs": [
    {
     "name": "stdout",
     "output_type": "stream",
     "text": [
      "bb!\n",
      "reloaded: lib.bb.bb\n"
     ]
    }
   ],
   "source": [
    "import gym\n",
    "ReloadProject('deep_learning')"
   ]
  },
  {
   "cell_type": "markdown",
   "metadata": {},
   "source": [
    "Compare the difference in time when output is enabled or disabled."
   ]
  },
  {
   "cell_type": "code",
   "execution_count": 26,
   "metadata": {},
   "outputs": [
    {
     "data": {
      "image/png": "[encoded data removed]",
      "text/plain": [
       "<Figure size 432x288 with 1 Axes>"
      ]
     },
     "metadata": {},
     "output_type": "display_data"
    },
    {
     "name": "stdout",
     "output_type": "stream",
     "text": [
      "CPU times: user 40.6 s, sys: 217 ms, total: 40.8 s\n",
      "Wall time: 42.1 s\n"
     ]
    },
    {
     "data": {
      "image/png": "[encoded data removed]",
      "text/plain": [
       "<Figure size 432x288 with 1 Axes>"
      ]
     },
     "metadata": {
      "needs_background": "light"
     },
     "output_type": "display_data"
    }
   ],
   "source": [
    "%%time\n",
    "\n",
    "env = gym.make('CartPole-v1')\n",
    "env.reset()\n",
    "for _ in range(100):\n",
    "    plt.imshow(env.render(mode='rgb_array'))\n",
    "    display.clear_output(wait=True)\n",
    "    display.display(plt.gcf())\n",
    "    env.step(env.action_space.sample())"
   ]
  },
  {
   "cell_type": "code",
   "execution_count": 27,
   "metadata": {},
   "outputs": [
    {
     "name": "stdout",
     "output_type": "stream",
     "text": [
      "\u001b[33mWARN: You are calling 'step()' even though this environment has already returned done = True. You should always call 'reset()' once you receive 'done = True' -- any further steps are undefined behavior.\u001b[0m\n",
      "CPU times: user 3.23 ms, sys: 0 ns, total: 3.23 ms\n",
      "Wall time: 5.73 ms\n"
     ]
    }
   ],
   "source": [
    "%%time\n",
    "\n",
    "env = gym.make('CartPole-v1')\n",
    "env.reset()\n",
    "for _ in range(100):\n",
    "    env.step(env.action_space.sample())"
   ]
  },
  {
   "cell_type": "markdown",
   "metadata": {},
   "source": [
    "Example code from offical website."
   ]
  },
  {
   "cell_type": "code",
   "execution_count": 31,
   "metadata": {},
   "outputs": [
    {
     "name": "stdout",
     "output_type": "stream",
     "text": [
      "[-0.01363555  0.03944855  0.03083491 -0.04028751]\n",
      "[-0.01284658  0.23411507  0.03002916 -0.32308447]\n",
      "[-0.00816428  0.42879684  0.02356747 -0.60614821]\n",
      "[ 4.11660299e-04  6.23581455e-01  1.14445025e-02 -8.91315808e-01]\n",
      "[ 0.01288329  0.81854629 -0.00638181 -1.1803793 ]\n",
      "[ 0.02925422  0.62350777 -0.0299894  -0.88970371]\n",
      "[ 0.04172437  0.81902353 -0.04778347 -1.19166106]\n",
      "[ 0.05810484  1.01473088 -0.0716167  -1.49893   ]\n",
      "[ 0.07839946  1.21064616 -0.10159529 -1.81308693]\n",
      "[ 0.10261238  1.01679187 -0.13785703 -1.55362252]\n",
      "[ 0.12294822  0.82356543 -0.16892948 -1.30693435]\n",
      "[ 0.13941953  1.02037701 -0.19506817 -1.64737879]\n",
      "Episode finished after 12 timesteps\n",
      "[0.02285058 0.02686144 0.00600946 0.04858156]\n",
      "[ 0.02338781  0.22189671  0.00698109 -0.24219929]\n",
      "[ 0.02782574  0.41691825  0.00213711 -0.53267205]\n",
      "[ 0.03616411  0.61201008 -0.00851633 -0.82468081]\n",
      "[ 0.04840431  0.41700564 -0.02500995 -0.53468854]\n",
      "[ 0.05674442  0.61247021 -0.03570372 -0.83514584]\n",
      "[ 0.06899382  0.41785372 -0.05240664 -0.55390182]\n",
      "[ 0.0773509   0.22350532 -0.06348467 -0.27817996]\n",
      "[ 0.081821    0.41947279 -0.06904827 -0.59019097]\n",
      "[ 0.09021046  0.2253821  -0.08085209 -0.32003274]\n",
      "[ 0.0947181   0.42155684 -0.08725275 -0.6370782 ]\n",
      "[ 0.10314924  0.22775306 -0.09999431 -0.37309818]\n",
      "[ 0.1077043   0.03418323 -0.10745627 -0.11354318]\n",
      "[ 0.10838796  0.2306677  -0.10972714 -0.43810133]\n",
      "[ 0.11300132  0.037256   -0.11848917 -0.18192363]\n",
      "[ 0.11374644  0.23385656 -0.12212764 -0.50951109]\n",
      "[ 0.11842357  0.43046827 -0.13231786 -0.83804836]\n",
      "[ 0.12703294  0.62712492 -0.14907883 -1.16924283]\n",
      "[ 0.13957543  0.82383771 -0.17246368 -1.50470621]\n",
      "[ 0.15605219  1.02058126 -0.20255781 -1.84589682]\n",
      "Episode finished after 20 timesteps\n"
     ]
    }
   ],
   "source": [
    "env = gym.make('CartPole-v1')\n",
    "for i_episode in range(2):\n",
    "    observation = env.reset()\n",
    "    for t in range(100):\n",
    "        print(observation)\n",
    "        action = env.action_space.sample()\n",
    "        observation, reward, done, info = env.step(action)\n",
    "        if done:\n",
    "            print(\"Episode finished after {} timesteps\".format(t+1))\n",
    "            break"
   ]
  },
  {
   "cell_type": "code",
   "execution_count": null,
   "metadata": {},
   "outputs": [],
   "source": [
    "env = gym.make('CartPole-v1')\n",
    "observation = env.reset()\n",
    "    for t in range(100):\n",
    "        print(observation)\n",
    "        action = env.action_space.sample()\n",
    "        observation, reward, done, info = env.step(action)\n",
    "        if done:\n",
    "            print(\"Episode finished after {} timesteps\".format(t+1))\n",
    "            break"
   ]
  },
  {
   "cell_type": "code",
   "execution_count": 32,
   "metadata": {},
   "outputs": [],
   "source": [
    "env.reset()\n",
    "for _ in range(100):\n",
    "    plt.imshow(env.render(mode='rgb_array'))\n",
    "    display.clear_output(wait=True)\n",
    "    display.display(plt.gcf())\n",
    "    env.step(env.action_space.sample())"
   ]
  },
  {
   "cell_type": "code",
   "execution_count": 33,
   "metadata": {},
   "outputs": [
    {
     "name": "stdout",
     "output_type": "stream",
     "text": [
      "[-0.01785647  0.04844634  0.02050995 -0.04764805]\n"
     ]
    }
   ],
   "source": [
    "print(observation)"
   ]
  },
  {
   "cell_type": "code",
   "execution_count": 34,
   "metadata": {},
   "outputs": [],
   "source": [
    "action = env.action_space.sample()"
   ]
  },
  {
   "cell_type": "code",
   "execution_count": 13,
   "metadata": {},
   "outputs": [
    {
     "ename": "NameError",
     "evalue": "name 'observation' is not defined",
     "output_type": "error",
     "traceback": [
      "\u001b[0;31m---------------------------------------------------------------------------\u001b[0m",
      "\u001b[0;31mNameError\u001b[0m                                 Traceback (most recent call last)",
      "\u001b[0;32m<ipython-input-13-16517b451208>\u001b[0m in \u001b[0;36m<module>\u001b[0;34m\u001b[0m\n\u001b[0;32m----> 1\u001b[0;31m \u001b[0mobservation\u001b[0m\u001b[0;34m\u001b[0m\u001b[0m\n\u001b[0m",
      "\u001b[0;31mNameError\u001b[0m: name 'observation' is not defined"
     ]
    }
   ],
   "source": [
    "observation"
   ]
  },
  {
   "cell_type": "code",
   "execution_count": 49,
   "metadata": {},
   "outputs": [],
   "source": [
    "observation, reward, done, info = env.step(action)"
   ]
  },
  {
   "cell_type": "code",
   "execution_count": 47,
   "metadata": {},
   "outputs": [
    {
     "data": {
      "text/plain": [
       "False"
      ]
     },
     "execution_count": 47,
     "metadata": {},
     "output_type": "execute_result"
    }
   ],
   "source": [
    "env.action_space.contains(x=2)"
   ]
  },
  {
   "cell_type": "code",
   "execution_count": 50,
   "metadata": {},
   "outputs": [
    {
     "data": {
      "text/plain": [
       "Box(4,)"
      ]
     },
     "execution_count": 50,
     "metadata": {},
     "output_type": "execute_result"
    }
   ],
   "source": [
    "env.observation_space"
   ]
  },
  {
   "cell_type": "code",
   "execution_count": 51,
   "metadata": {},
   "outputs": [
    {
     "data": {
      "text/plain": [
       "array([-0.01982682, -0.3423593 ,  0.02458568,  0.55022159])"
      ]
     },
     "execution_count": 51,
     "metadata": {},
     "output_type": "execute_result"
    }
   ],
   "source": [
    "observation"
   ]
  },
  {
   "cell_type": "code",
   "execution_count": 12,
   "metadata": {},
   "outputs": [
    {
     "data": {
      "text/plain": [
       "2"
      ]
     },
     "execution_count": 12,
     "metadata": {},
     "output_type": "execute_result"
    }
   ],
   "source": [
    "env = gym.make('CartPole-v1')\n",
    "env.reset()\n",
    "env.action_space.n"
   ]
  },
  {
   "cell_type": "code",
   "execution_count": 11,
   "metadata": {},
   "outputs": [
    {
     "data": {
      "text/plain": [
       "2"
      ]
     },
     "execution_count": 11,
     "metadata": {},
     "output_type": "execute_result"
    }
   ],
   "source": [
    "aa.n"
   ]
  },
  {
   "cell_type": "code",
   "execution_count": null,
   "metadata": {},
   "outputs": [],
   "source": [
    "\n"
   ]
  }
 ],
 "metadata": {
  "kernelspec": {
   "display_name": "Python 3",
   "language": "python",
   "name": "python3"
  },
  "language_info": {
   "codemirror_mode": {
    "name": "ipython",
    "version": 3
   },
   "file_extension": ".py",
   "mimetype": "text/x-python",
   "name": "python",
   "nbconvert_exporter": "python",
   "pygments_lexer": "ipython3",
   "version": "3.5.2"
  }
 },
 "nbformat": 4,
 "nbformat_minor": 2
}
