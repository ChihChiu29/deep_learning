{
 "cells": [
  {
   "cell_type": "code",
   "execution_count": 73,
   "metadata": {},
   "outputs": [
    {
     "name": "stdout",
     "output_type": "stream",
     "text": [
      "notebook_init.py imported and reloaded\n",
      "forwarded symbol: Activation\n",
      "forwarded symbol: Dense\n",
      "forwarded symbol: Dict\n",
      "forwarded symbol: List\n",
      "forwarded symbol: Sequential\n",
      "forwarded symbol: Tuple\n",
      "reloaded: gym\n",
      "forwarded symbol: gym\n",
      "reloaded: keras\n",
      "forwarded symbol: keras\n",
      "reloaded: q_learning\n",
      "forwarded symbol: q_learning\n",
      "reloaded: q_learning_impl\n",
      "forwarded symbol: q_learning_impl\n"
     ]
    }
   ],
   "source": [
    "ReloadProject('deep_learning')"
   ]
  },
  {
   "cell_type": "markdown",
   "metadata": {},
   "source": [
    "## Example problem 1\n",
    "Let's assume a world with 11 states: 0-10. Each time the agent and move +1 or -1, with 0-1 -> 10 and 10+1 -> 0. All actions that gets the agent closer to state \"5\" gets reward +1, otherwise gets reward -1."
   ]
  },
  {
   "cell_type": "code",
   "execution_count": 38,
   "metadata": {},
   "outputs": [],
   "source": [
    "TARGET_STATE = 5\n",
    "\n",
    "class IntState(q_learning_impl.HashableState):\n",
    "    \n",
    "    def __init__(self, state: int):\n",
    "        self.value = state\n",
    "        \n",
    "    def __hash__(self):\n",
    "        return hash(self.value)\n",
    "        \n",
    "    def __str__(self):\n",
    "        return '%d' % self.value\n",
    "\n",
    "\n",
    "class IntAction(q_learning_impl.HashableAction):\n",
    "    \n",
    "    def __init__(self, action: int):\n",
    "        self.value = action\n",
    "        \n",
    "    def __hash__(self):\n",
    "        return hash(self.value)\n",
    "        \n",
    "    def __str__(self):\n",
    "        return '%d' % self.value\n",
    "\n",
    "\n",
    "class CircularWorld(q_learning.Environment):\n",
    "    \n",
    "    def __init__(self):\n",
    "        super().__init__()\n",
    "        self._current_state = IntState(0)\n",
    "        self._last_action = IntAction(0)\n",
    "        self._last_reward = 0.0\n",
    "        \n",
    "        self._action_plus = IntAction(1)\n",
    "        self._action_minus = IntAction(-1)\n",
    "        \n",
    "    def Print(self):\n",
    "        print('At: %s (last action: %s; last reward: %s)' % (\n",
    "            self._current_state, self._last_action, self._last_reward))\n",
    "    \n",
    "    #@ Override\n",
    "    def GetActionSpace(self) -> List[IntAction]:\n",
    "        return [self._action_plus, self._action_minus]\n",
    "        \n",
    "    #@ Override\n",
    "    def TakeAction(self, action: IntAction) -> None:\n",
    "        if action == self._action_plus:\n",
    "            if self._current_state.value < TARGET_STATE:\n",
    "                self._last_reward = 1.0\n",
    "            else:\n",
    "                self._last_reward = -1.0\n",
    "            \n",
    "            new_state = self._current_state.value + 1\n",
    "            if new_state == 11:\n",
    "                new_state = 0\n",
    "            self._current_state = IntState(new_state)\n",
    "        else:\n",
    "            if self._current_state.value > TARGET_STATE:\n",
    "                self._last_reward = 1.0\n",
    "            else:\n",
    "                self._last_reward = -1.0\n",
    "            \n",
    "            new_state = self._current_state.value - 1\n",
    "            if new_state == -1:\n",
    "                new_state = 10\n",
    "            self._current_state = IntState(new_state)\n",
    "        self._last_action = action"
   ]
  },
  {
   "cell_type": "markdown",
   "metadata": {},
   "source": [
    "Let's try out the environment."
   ]
  },
  {
   "cell_type": "code",
   "execution_count": 27,
   "metadata": {},
   "outputs": [
    {
     "name": "stdout",
     "output_type": "stream",
     "text": [
      "At: 0 (last action: 0; last reward: 0.0)\n",
      "At: 1 (last action: 1; last reward: 1.0)\n",
      "At: 0 (last action: -1; last reward: -1.0)\n",
      "At: 1 (last action: 1; last reward: 1.0)\n",
      "At: 2 (last action: 1; last reward: 1.0)\n",
      "At: 3 (last action: 1; last reward: 1.0)\n",
      "At: 2 (last action: -1; last reward: -1.0)\n",
      "At: 1 (last action: -1; last reward: -1.0)\n",
      "At: 0 (last action: -1; last reward: -1.0)\n",
      "At: 10 (last action: -1; last reward: -1.0)\n",
      "At: 9 (last action: -1; last reward: 1.0)\n",
      "At: 10 (last action: 1; last reward: -1.0)\n",
      "At: 9 (last action: -1; last reward: 1.0)\n",
      "At: 8 (last action: -1; last reward: 1.0)\n",
      "At: 9 (last action: 1; last reward: -1.0)\n",
      "At: 8 (last action: -1; last reward: 1.0)\n",
      "At: 9 (last action: 1; last reward: -1.0)\n",
      "At: 8 (last action: -1; last reward: 1.0)\n",
      "At: 9 (last action: 1; last reward: -1.0)\n",
      "At: 8 (last action: -1; last reward: 1.0)\n"
     ]
    }
   ],
   "source": [
    "env = CircularWorld()\n",
    "for _ in range(20):\n",
    "    env.Print()\n",
    "    env.TakeAction(np.random.choice(env.GetActionSpace()))"
   ]
  },
  {
   "cell_type": "markdown",
   "metadata": {},
   "source": [
    "Looks good! Now try out the learner."
   ]
  },
  {
   "cell_type": "code",
   "execution_count": 81,
   "metadata": {},
   "outputs": [
    {
     "name": "stdout",
     "output_type": "stream",
     "text": [
      "CPU times: user 420 ms, sys: 0 ns, total: 420 ms\n",
      "Wall time: 499 ms\n"
     ]
    }
   ],
   "source": [
    "%%time\n",
    "\n",
    "env = CircularWorld()\n",
    "qfunc = q_learning_impl.FiniteStateQFunction()\n",
    "qfunc.SetLearningRate(0.9)\n",
    "qfunc.SetDiscountFactor(0.9)\n",
    "max_policy = q_learning_impl.MaxValuePolicy()\n",
    "\n",
    "for _ in range(20000):\n",
    "#     env.Print()\n",
    "#     qfunc.Print()\n",
    "    s = env.GetCurrentState()\n",
    "    a = max_policy.Decide(qfunc, s, env.GetActionSpace())\n",
    "    env.TakeAction(a)\n",
    "    s_new = env.GetCurrentState()\n",
    "    qfunc.UpdateWithTransition(s, a, env.GetLastReward(), s_new, env.GetActionSpace())\n",
    "    \n",
    "# qfunc.Print()"
   ]
  },
  {
   "cell_type": "code",
   "execution_count": 82,
   "metadata": {},
   "outputs": [
    {
     "name": "stdout",
     "output_type": "stream",
     "text": [
      "(0, -1): 0.0\n",
      "(0, 1): 1.719\n",
      "(1, -1): 0.0\n",
      "(1, 1): 1.719\n",
      "(2, -1): 0.0\n",
      "(2, 1): 1.719\n",
      "(3, -1): 0.0\n",
      "(3, 1): 1.719\n",
      "(4, -1): 0.0\n",
      "(4, 1): 0.5263157894736845\n",
      "(5, -1): -0.5263157894736838\n",
      "(5, 1): -0.9\n",
      "(6, -1): 0.0\n",
      "(6, 1): -0.9\n",
      "(7, -1): 0.0\n",
      "(7, 1): -0.9\n",
      "(8, -1): 0.0\n",
      "(8, 1): -0.9\n",
      "(9, -1): 0.0\n",
      "(9, 1): -0.9\n"
     ]
    }
   ],
   "source": [
    "for state in range(10):\n",
    "    for action in (-1, 1):\n",
    "        print('(%d, %d): %s' % (state, action, qfunc.GetValue(IntState(state), IntAction(action))))"
   ]
  },
  {
   "cell_type": "code",
   "execution_count": null,
   "metadata": {},
   "outputs": [],
   "source": []
  }
 ],
 "metadata": {
  "kernelspec": {
   "display_name": "Python 3",
   "language": "python",
   "name": "python3"
  },
  "language_info": {
   "codemirror_mode": {
    "name": "ipython",
    "version": 3
   },
   "file_extension": ".py",
   "mimetype": "text/x-python",
   "name": "python",
   "nbconvert_exporter": "python",
   "pygments_lexer": "ipython3",
   "version": "3.5.2"
  }
 },
 "nbformat": 4,
 "nbformat_minor": 2
}
