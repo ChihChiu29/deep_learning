{
 "cells": [
  {
   "cell_type": "code",
   "execution_count": 51,
   "metadata": {},
   "outputs": [
    {
     "name": "stdout",
     "output_type": "stream",
     "text": [
      "notebook_init.py imported and reloaded\n",
      "forwarded symbol: Activation\n",
      "forwarded symbol: Dense\n",
      "forwarded symbol: Dict\n",
      "forwarded symbol: InputLayer\n",
      "forwarded symbol: List\n",
      "forwarded symbol: Model\n",
      "forwarded symbol: Sequential\n",
      "forwarded symbol: Tuple\n",
      "reloaded: gym\n",
      "forwarded symbol: gym\n",
      "reloaded: keras\n",
      "forwarded symbol: keras\n",
      "reloaded: model_optimization\n",
      "forwarded symbol: model_optimization\n",
      "reloaded: openai_wrapper\n",
      "forwarded symbol: openai_wrapper\n",
      "reloaded: policy_impl\n",
      "forwarded symbol: policy_impl\n",
      "reloaded: q_function_memoization\n",
      "forwarded symbol: q_function_memoization\n",
      "reloaded: q_learning\n",
      "forwarded symbol: q_learning\n",
      "reloaded: q_learning_impl\n",
      "forwarded symbol: q_learning_impl\n",
      "reloaded: q_learning_impl_v2\n",
      "forwarded symbol: q_learning_impl_v2\n",
      "reloaded: q_learning_v2\n",
      "forwarded symbol: q_learning_v2\n"
     ]
    }
   ],
   "source": [
    "ReloadProject('deep_learning')"
   ]
  },
  {
   "cell_type": "code",
   "execution_count": 52,
   "metadata": {},
   "outputs": [],
   "source": [
    "model = Sequential()\n",
    "model.add(Dense(6, activation='relu', input_dim=4))\n",
    "model.add(Dense(6, activation='relu'))\n",
    "model.add(Dense(6, activation='relu'))\n",
    "model.add(Dense(1, activation='softmax'))\n",
    "\n",
    "model.compile(optimizer='rmsprop',\n",
    "              loss='binary_crossentropy',\n",
    "              metrics=['accuracy'])"
   ]
  },
  {
   "cell_type": "code",
   "execution_count": 31,
   "metadata": {},
   "outputs": [],
   "source": [
    "aa = model_optimization.LayerWeightManager(model.layers[0])"
   ]
  },
  {
   "cell_type": "code",
   "execution_count": 32,
   "metadata": {},
   "outputs": [
    {
     "data": {
      "text/plain": [
       "array([ 0.53980327, -0.62837845, -0.6215627 ,  0.7384007 , -0.25144792,\n",
       "        0.11380023, -0.40517318, -0.12657589,  0.4743824 ,  0.62035215,\n",
       "        0.71234345,  0.64350426, -0.3503071 , -0.43894196, -0.2709673 ,\n",
       "        0.11897528, -0.66504556,  0.57121575,  0.4438156 , -0.00876778,\n",
       "        0.08285463,  0.5180607 , -0.4271931 ,  0.1357553 ,  0.        ,\n",
       "        0.        ,  0.        ,  0.        ,  0.        ,  0.        ],\n",
       "      dtype=float32)"
      ]
     },
     "execution_count": 32,
     "metadata": {},
     "output_type": "execute_result"
    }
   ],
   "source": [
    "aa.GetWeights()"
   ]
  },
  {
   "cell_type": "code",
   "execution_count": 33,
   "metadata": {},
   "outputs": [],
   "source": [
    "aa.SetWeights(np.array(range(50)))"
   ]
  },
  {
   "cell_type": "code",
   "execution_count": 34,
   "metadata": {},
   "outputs": [
    {
     "data": {
      "text/plain": [
       "array([ 0.,  1.,  2.,  3.,  4.,  5.,  6.,  7.,  8.,  9., 10., 11., 12.,\n",
       "       13., 14., 15., 16., 17., 18., 19., 20., 21., 22., 23., 24., 25.,\n",
       "       26., 27., 28., 29.], dtype=float32)"
      ]
     },
     "execution_count": 34,
     "metadata": {},
     "output_type": "execute_result"
    }
   ],
   "source": [
    "aa.GetWeights()"
   ]
  },
  {
   "cell_type": "code",
   "execution_count": 55,
   "metadata": {},
   "outputs": [],
   "source": [
    "bb = model_optimization.ModelWeightManager(model)"
   ]
  },
  {
   "cell_type": "code",
   "execution_count": 56,
   "metadata": {},
   "outputs": [
    {
     "data": {
      "text/plain": [
       "array([ 0.4408946 ,  0.2990836 ,  0.42501223, -0.3964281 ,  0.41178727,\n",
       "       -0.43523934,  0.07427037,  0.6887671 , -0.3292259 ,  0.68782675,\n",
       "        0.18409705, -0.39320675, -0.65796995,  0.6311842 , -0.7182722 ,\n",
       "       -0.21478671,  0.38936698,  0.27595532, -0.37821937, -0.21453387,\n",
       "       -0.66903037, -0.38640285, -0.22912216,  0.44894135,  0.        ,\n",
       "        0.        ,  0.        ,  0.        ,  0.        ,  0.        ,\n",
       "        0.36405236,  0.58702165,  0.23612368,  0.46679956,  0.06125253,\n",
       "       -0.2024647 ,  0.47349375, -0.5140668 ,  0.40908116, -0.07302344,\n",
       "       -0.02486277,  0.12140822,  0.47490698, -0.5786246 , -0.6388459 ,\n",
       "        0.1835748 ,  0.49924546, -0.37001258, -0.14932293,  0.20651263,\n",
       "       -0.358186  ,  0.36232942, -0.42000532,  0.04982114, -0.7002518 ,\n",
       "       -0.12165707,  0.16975117, -0.20558488, -0.28086728,  0.6262297 ,\n",
       "        0.06043911,  0.4987225 ,  0.02621734,  0.16723329,  0.46285552,\n",
       "        0.18816191,  0.        ,  0.        ,  0.        ,  0.        ,\n",
       "        0.        ,  0.        ,  0.21547675, -0.5270563 ,  0.5458005 ,\n",
       "        0.37159425, -0.44115576,  0.5124536 ,  0.69403917,  0.07014096,\n",
       "        0.25611848, -0.03850722, -0.04797101, -0.4797842 ,  0.32673854,\n",
       "       -0.17914855, -0.15756667,  0.2227822 ,  0.16776955, -0.52185893,\n",
       "       -0.17240995,  0.56016856, -0.03692889,  0.24735141,  0.4945734 ,\n",
       "        0.41845208, -0.31238553,  0.2528743 , -0.30174547,  0.40404814,\n",
       "        0.16168392,  0.28151113,  0.2861756 ,  0.35952324, -0.6848409 ,\n",
       "       -0.6794412 ,  0.39146274, -0.3945245 ,  0.        ,  0.        ,\n",
       "        0.        ,  0.        ,  0.        ,  0.        , -0.31399316,\n",
       "        0.22363496,  0.29575205, -0.3646639 , -0.16411501, -0.13618898,\n",
       "        0.        ], dtype=float32)"
      ]
     },
     "execution_count": 56,
     "metadata": {},
     "output_type": "execute_result"
    }
   ],
   "source": [
    "bb.GetWeights()"
   ]
  },
  {
   "cell_type": "code",
   "execution_count": 58,
   "metadata": {},
   "outputs": [],
   "source": [
    "bb.SetWeights(np.array(range(200)))"
   ]
  },
  {
   "cell_type": "code",
   "execution_count": 59,
   "metadata": {},
   "outputs": [
    {
     "data": {
      "text/plain": [
       "array([  0.,   1.,   2.,   3.,   4.,   5.,   6.,   7.,   8.,   9.,  10.,\n",
       "        11.,  12.,  13.,  14.,  15.,  16.,  17.,  18.,  19.,  20.,  21.,\n",
       "        22.,  23.,  24.,  25.,  26.,  27.,  28.,  29.,  30.,  31.,  32.,\n",
       "        33.,  34.,  35.,  36.,  37.,  38.,  39.,  40.,  41.,  42.,  43.,\n",
       "        44.,  45.,  46.,  47.,  48.,  49.,  50.,  51.,  52.,  53.,  54.,\n",
       "        55.,  56.,  57.,  58.,  59.,  60.,  61.,  62.,  63.,  64.,  65.,\n",
       "        66.,  67.,  68.,  69.,  70.,  71.,  72.,  73.,  74.,  75.,  76.,\n",
       "        77.,  78.,  79.,  80.,  81.,  82.,  83.,  84.,  85.,  86.,  87.,\n",
       "        88.,  89.,  90.,  91.,  92.,  93.,  94.,  95.,  96.,  97.,  98.,\n",
       "        99., 100., 101., 102., 103., 104., 105., 106., 107., 108., 109.,\n",
       "       110., 111., 112., 113., 114., 115., 116., 117., 118., 119., 120.],\n",
       "      dtype=float32)"
      ]
     },
     "execution_count": 59,
     "metadata": {},
     "output_type": "execute_result"
    }
   ],
   "source": [
    "bb.GetWeights()"
   ]
  },
  {
   "cell_type": "code",
   "execution_count": null,
   "metadata": {},
   "outputs": [],
   "source": []
  }
 ],
 "metadata": {
  "kernelspec": {
   "display_name": "Python 3",
   "language": "python",
   "name": "python3"
  },
  "language_info": {
   "codemirror_mode": {
    "name": "ipython",
    "version": 3
   },
   "file_extension": ".py",
   "mimetype": "text/x-python",
   "name": "python",
   "nbconvert_exporter": "python",
   "pygments_lexer": "ipython3",
   "version": "3.5.2"
  }
 },
 "nbformat": 4,
 "nbformat_minor": 2
}
