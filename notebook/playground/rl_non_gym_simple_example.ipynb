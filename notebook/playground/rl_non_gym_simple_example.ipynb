{
 "cells": [
  {
   "cell_type": "code",
   "execution_count": 31,
   "metadata": {},
   "outputs": [
    {
     "name": "stdout",
     "output_type": "stream",
     "text": [
      "notebook_init.py imported and reloaded\n",
      "forwarded symbol: Activation\n",
      "forwarded symbol: Dense\n",
      "forwarded symbol: Sequential\n",
      "reloaded: gym\n",
      "forwarded symbol: gym\n",
      "reloaded: interface\n",
      "forwarded symbol: interface\n",
      "reloaded: keras\n",
      "forwarded symbol: keras\n",
      "reloaded: layers\n",
      "forwarded symbol: layers\n",
      "reloaded: models\n",
      "forwarded symbol: models\n"
     ]
    }
   ],
   "source": [
    "ReloadProject('deep_learning')"
   ]
  },
  {
   "cell_type": "markdown",
   "metadata": {},
   "source": [
    "## Simple policy\n",
    "First create a simple environment that gives a 4-value tuple each step, but only the first value matters. If the first value is <= 0.5, the expected action is 0, otherwise it's 1."
   ]
  },
  {
   "cell_type": "code",
   "execution_count": 2,
   "metadata": {},
   "outputs": [],
   "source": [
    "class SimpleEnv():\n",
    "    def __init__(self, num_of_steps: int):\n",
    "        self._curret_status = np.random.rand(4)\n",
    "        self._total_num_of_steps = num_of_steps\n",
    "        \n",
    "        self._current_step_idx = 0\n",
    "    \n",
    "    def action_space_n(self):\n",
    "        return 2\n",
    "    \n",
    "    def action_space_sample(self):\n",
    "        return np.random.randint(2)\n",
    "    \n",
    "    def step(self, action):\n",
    "        status = (self._curret_status[0] <= 0.5)\n",
    "        if (status and action == 0) or (not status and action == 1):\n",
    "            reward = 1\n",
    "        else:\n",
    "            reward = -1\n",
    "        self._curret_status = np.random.rand(4)\n",
    "        self._current_step_idx += 1\n",
    "        return self._curret_status, reward, self._current_step_idx >= self._total_num_of_steps, None"
   ]
  },
  {
   "cell_type": "markdown",
   "metadata": {},
   "source": [
    "## Non-RL\n",
    "Let's see if we can create a simple model that learns this behavior without RL."
   ]
  },
  {
   "cell_type": "code",
   "execution_count": 36,
   "metadata": {},
   "outputs": [],
   "source": [
    "train_data = np.random.rand(10000, 4)\n",
    "train_labels = train_data[:,0] > 0.5\n",
    "one_hot_train_labels = keras.utils.to_categorical(train_labels, num_classes=2)"
   ]
  },
  {
   "cell_type": "code",
   "execution_count": 42,
   "metadata": {},
   "outputs": [
    {
     "name": "stdout",
     "output_type": "stream",
     "text": [
      "Epoch 1/10\n",
      "10000/10000 [==============================] - 1s 120us/step - loss: 0.4956 - acc: 0.7858\n",
      "Epoch 2/10\n",
      "10000/10000 [==============================] - 1s 50us/step - loss: 0.2366 - acc: 0.9413\n",
      "Epoch 3/10\n",
      "10000/10000 [==============================] - 1s 57us/step - loss: 0.0884 - acc: 0.9758\n",
      "Epoch 4/10\n",
      "10000/10000 [==============================] - 1s 55us/step - loss: 0.0556 - acc: 0.9871\n",
      "Epoch 5/10\n",
      "10000/10000 [==============================] - 1s 52us/step - loss: 0.0425 - acc: 0.9902\n",
      "Epoch 6/10\n",
      "10000/10000 [==============================] - 1s 55us/step - loss: 0.0355 - acc: 0.9925\n",
      "Epoch 7/10\n",
      "10000/10000 [==============================] - 1s 54us/step - loss: 0.0307 - acc: 0.9933\n",
      "Epoch 8/10\n",
      "10000/10000 [==============================] - 1s 55us/step - loss: 0.0276 - acc: 0.9937\n",
      "Epoch 9/10\n",
      "10000/10000 [==============================] - 1s 52us/step - loss: 0.0254 - acc: 0.9939\n",
      "Epoch 10/10\n",
      "10000/10000 [==============================] - 1s 57us/step - loss: 0.0237 - acc: 0.9941\n"
     ]
    },
    {
     "data": {
      "text/plain": [
       "<keras.callbacks.History at 0x7fe769824668>"
      ]
     },
     "execution_count": 42,
     "metadata": {},
     "output_type": "execute_result"
    }
   ],
   "source": [
    "model = Sequential()\n",
    "model.add(Dense(6, activation='relu', input_dim=4))\n",
    "model.add(Dense(6, activation='relu'))\n",
    "model.add(Dense(6, activation='relu'))\n",
    "model.add(Dense(2, activation='softmax'))\n",
    "\n",
    "model.compile(optimizer='rmsprop',\n",
    "              loss='binary_crossentropy',\n",
    "              metrics=['accuracy'])\n",
    "\n",
    "model.fit(train_data, one_hot_train_labels, epochs=10, batch_size=32)"
   ]
  },
  {
   "cell_type": "code",
   "execution_count": 43,
   "metadata": {},
   "outputs": [
    {
     "name": "stdout",
     "output_type": "stream",
     "text": [
      "[0.37939964 0.99905268 0.02726233 0.81033626 0.94175805 0.7477724\n",
      " 0.13083237 0.32436433 0.98274507 0.6977157 ]\n"
     ]
    },
    {
     "data": {
      "text/plain": [
       "array([[9.9985409e-01, 1.4586173e-04],\n",
       "       [2.6681549e-13, 1.0000000e+00],\n",
       "       [9.9999964e-01, 3.4639271e-07],\n",
       "       [1.8640400e-10, 1.0000000e+00],\n",
       "       [1.3699250e-12, 1.0000000e+00],\n",
       "       [2.2386972e-09, 1.0000000e+00],\n",
       "       [9.9999595e-01, 4.0039445e-06],\n",
       "       [9.9990284e-01, 9.7114847e-05],\n",
       "       [2.1742263e-14, 1.0000000e+00],\n",
       "       [1.0138200e-07, 9.9999988e-01]], dtype=float32)"
      ]
     },
     "execution_count": 43,
     "metadata": {},
     "output_type": "execute_result"
    }
   ],
   "source": [
    "test_data = np.random.rand(10, 4)\n",
    "print(test_data[:,0])\n",
    "model.predict(test_data)"
   ]
  },
  {
   "cell_type": "markdown",
   "metadata": {},
   "source": [
    "Ok the binary classification is a success. Out of curiosity, let's see if a multiclass classification can work."
   ]
  },
  {
   "cell_type": "code",
   "execution_count": 56,
   "metadata": {},
   "outputs": [
    {
     "name": "stdout",
     "output_type": "stream",
     "text": [
      "Epoch 1/10\n",
      "10000/10000 [==============================] - 1s 128us/step - loss: 0.5216 - acc: 0.7538\n",
      "Epoch 2/10\n",
      "10000/10000 [==============================] - 1s 61us/step - loss: 0.3711 - acc: 0.8259\n",
      "Epoch 3/10\n",
      "10000/10000 [==============================] - 1s 55us/step - loss: 0.2366 - acc: 0.9164\n",
      "Epoch 4/10\n",
      "10000/10000 [==============================] - 1s 52us/step - loss: 0.1543 - acc: 0.9700\n",
      "Epoch 5/10\n",
      "10000/10000 [==============================] - 1s 52us/step - loss: 0.1116 - acc: 0.9776\n",
      "Epoch 6/10\n",
      "10000/10000 [==============================] - 1s 61us/step - loss: 0.0877 - acc: 0.9808\n",
      "Epoch 7/10\n",
      "10000/10000 [==============================] - 1s 53us/step - loss: 0.0735 - acc: 0.9833\n",
      "Epoch 8/10\n",
      "10000/10000 [==============================] - 1s 53us/step - loss: 0.0634 - acc: 0.9860\n",
      "Epoch 9/10\n",
      "10000/10000 [==============================] - 1s 54us/step - loss: 0.0562 - acc: 0.9874\n",
      "Epoch 10/10\n",
      "10000/10000 [==============================] - 1s 61us/step - loss: 0.0504 - acc: 0.9888\n",
      "[0.74922858 0.11994309 0.15804021 0.62309971 0.4978077  0.73010793\n",
      " 0.91255119 0.26384172 0.17103494 0.19295214]\n"
     ]
    },
    {
     "data": {
      "text/plain": [
       "array([[1.2368723e-17, 1.0725839e-06, 4.2867875e-01, 5.7132024e-01],\n",
       "       [9.9806923e-01, 1.9307450e-03, 7.3191377e-09, 3.8498161e-27],\n",
       "       [9.8754787e-01, 1.2452028e-02, 1.0891723e-07, 5.2449232e-25],\n",
       "       [7.9667989e-13, 8.2713383e-04, 9.9825686e-01, 9.1593619e-04],\n",
       "       [5.2043276e-07, 3.9721370e-01, 6.0278529e-01, 5.2876754e-07],\n",
       "       [4.6349812e-18, 1.8140678e-06, 7.3542351e-01, 2.6457474e-01],\n",
       "       [4.6628866e-26, 4.6066701e-12, 1.8695020e-03, 9.9813050e-01],\n",
       "       [2.9422596e-01, 7.0568389e-01, 9.0169458e-05, 8.4738005e-19],\n",
       "       [9.8274910e-01, 1.7250579e-02, 1.8972604e-07, 1.6241024e-24],\n",
       "       [9.4077790e-01, 5.9221227e-02, 9.2271250e-07, 1.9560873e-23]],\n",
       "      dtype=float32)"
      ]
     },
     "execution_count": 56,
     "metadata": {},
     "output_type": "execute_result"
    }
   ],
   "source": [
    "bins = np.array([0.0, 0.25, 0.5, 0.75, 1.0])\n",
    "train_data = np.random.rand(10000, 4)\n",
    "train_labels = np.digitize(train_data[:,0], bins) - 1\n",
    "one_hot_train_labels = keras.utils.to_categorical(train_labels, num_classes=4)\n",
    "\n",
    "model = Sequential()\n",
    "model.add(Dense(6, activation='relu', input_dim=4))\n",
    "model.add(Dense(6, activation='relu'))\n",
    "model.add(Dense(6, activation='relu'))\n",
    "model.add(Dense(4, activation='softmax'))\n",
    "\n",
    "model.compile(optimizer='rmsprop',\n",
    "              loss='binary_crossentropy',\n",
    "              metrics=['accuracy'])\n",
    "\n",
    "model.fit(train_data, one_hot_train_labels, epochs=10, batch_size=32)\n",
    "\n",
    "test_data = np.random.rand(10, 4)\n",
    "print(test_data[:,0])\n",
    "model.predict(test_data)"
   ]
  },
  {
   "cell_type": "markdown",
   "metadata": {},
   "source": [
    "Great, so it's working!"
   ]
  },
  {
   "cell_type": "code",
   "execution_count": 54,
   "metadata": {},
   "outputs": [
    {
     "name": "stdout",
     "output_type": "stream",
     "text": [
      "[2 1 0 0 1 3 3 2 1 1 2 3 0 0 1 0 3 3 0 2]\n",
      "[[0. 0. 1. 0.]\n",
      " [0. 1. 0. 0.]\n",
      " [1. 0. 0. 0.]\n",
      " [1. 0. 0. 0.]\n",
      " [0. 1. 0. 0.]\n",
      " [0. 0. 0. 1.]\n",
      " [0. 0. 0. 1.]\n",
      " [0. 0. 1. 0.]\n",
      " [0. 1. 0. 0.]\n",
      " [0. 1. 0. 0.]\n",
      " [0. 0. 1. 0.]\n",
      " [0. 0. 0. 1.]\n",
      " [1. 0. 0. 0.]\n",
      " [1. 0. 0. 0.]\n",
      " [0. 1. 0. 0.]\n",
      " [1. 0. 0. 0.]\n",
      " [0. 0. 0. 1.]\n",
      " [0. 0. 0. 1.]\n",
      " [1. 0. 0. 0.]\n",
      " [0. 0. 1. 0.]]\n"
     ]
    }
   ],
   "source": [
    "bins = np.array([0.0, 0.25, 0.5, 0.75, 1.0])\n",
    "train_data = np.random.rand(20, 4)\n",
    "train_labels = np.digitize(train_data[:,0], bins) - 1\n",
    "print(train_labels)\n",
    "one_hot_train_labels = keras.utils.to_categorical(train_labels, num_classes=4)\n",
    "print(one_hot_train_labels)"
   ]
  },
  {
   "cell_type": "code",
   "execution_count": 32,
   "metadata": {},
   "outputs": [
    {
     "name": "stdout",
     "output_type": "stream",
     "text": [
      "Epoch 1/10\n",
      "1000/1000 [==============================] - 0s 426us/step - loss: 2.3530 - acc: 0.1130\n",
      "Epoch 2/10\n",
      "1000/1000 [==============================] - 0s 50us/step - loss: 2.3124 - acc: 0.1110\n",
      "Epoch 3/10\n",
      "1000/1000 [==============================] - 0s 48us/step - loss: 2.3037 - acc: 0.1210\n",
      "Epoch 4/10\n",
      "1000/1000 [==============================] - 0s 46us/step - loss: 2.2915 - acc: 0.1270\n",
      "Epoch 5/10\n",
      "1000/1000 [==============================] - 0s 74us/step - loss: 2.2840 - acc: 0.1310\n",
      "Epoch 6/10\n",
      "1000/1000 [==============================] - 0s 46us/step - loss: 2.2747 - acc: 0.1290\n",
      "Epoch 7/10\n",
      "1000/1000 [==============================] - 0s 50us/step - loss: 2.2662 - acc: 0.1390\n",
      "Epoch 8/10\n",
      "1000/1000 [==============================] - 0s 57us/step - loss: 2.2577 - acc: 0.1540\n",
      "Epoch 9/10\n",
      "1000/1000 [==============================] - 0s 53us/step - loss: 2.2496 - acc: 0.1650\n",
      "Epoch 10/10\n",
      "1000/1000 [==============================] - 0s 49us/step - loss: 2.2402 - acc: 0.1730\n"
     ]
    },
    {
     "data": {
      "text/plain": [
       "<keras.callbacks.History at 0x7fe76a700f60>"
      ]
     },
     "execution_count": 32,
     "metadata": {},
     "output_type": "execute_result"
    }
   ],
   "source": [
    "model = Sequential()\n",
    "model.add(Dense(32, activation='relu', input_dim=100))\n",
    "model.add(Dense(10, activation='softmax'))\n",
    "model.compile(optimizer='rmsprop',\n",
    "              loss='categorical_crossentropy',\n",
    "              metrics=['accuracy'])\n",
    "\n",
    "# Generate dummy data\n",
    "import numpy as np\n",
    "data = np.random.random((1000, 100))\n",
    "labels = np.random.randint(10, size=(1000, 1))\n",
    "\n",
    "# Convert labels to categorical one-hot encoding\n",
    "one_hot_labels = keras.utils.to_categorical(labels, num_classes=10)\n",
    "\n",
    "# Train the model, iterating on the data in batches of 32 samples\n",
    "model.fit(data, one_hot_labels, epochs=10, batch_size=32)"
   ]
  },
  {
   "cell_type": "code",
   "execution_count": 33,
   "metadata": {},
   "outputs": [
    {
     "data": {
      "text/plain": [
       "array([[0.07188411, 0.16237906, 0.132416  , 0.131351  , 0.10634772,\n",
       "        0.0702582 , 0.08143447, 0.09775764, 0.06400643, 0.08216538]],\n",
       "      dtype=float32)"
      ]
     },
     "execution_count": 33,
     "metadata": {},
     "output_type": "execute_result"
    }
   ],
   "source": [
    "model.predict(np.random.rand(1, 100))"
   ]
  },
  {
   "cell_type": "code",
   "execution_count": null,
   "metadata": {},
   "outputs": [],
   "source": []
  },
  {
   "cell_type": "code",
   "execution_count": 34,
   "metadata": {},
   "outputs": [
    {
     "name": "stdout",
     "output_type": "stream",
     "text": [
      "Epoch 1/20\n",
      "1000/1000 [==============================] - 1s 530us/step - loss: 0.7103 - acc: 0.5270\n",
      "Epoch 2/20\n",
      "1000/1000 [==============================] - 0s 26us/step - loss: 0.7141 - acc: 0.4860\n",
      "Epoch 3/20\n",
      "1000/1000 [==============================] - 0s 27us/step - loss: 0.7075 - acc: 0.4960\n",
      "Epoch 4/20\n",
      "1000/1000 [==============================] - 0s 25us/step - loss: 0.7034 - acc: 0.5130\n",
      "Epoch 5/20\n",
      "1000/1000 [==============================] - 0s 25us/step - loss: 0.7044 - acc: 0.4960\n",
      "Epoch 6/20\n",
      "1000/1000 [==============================] - 0s 25us/step - loss: 0.6921 - acc: 0.5200\n",
      "Epoch 7/20\n",
      "1000/1000 [==============================] - 0s 24us/step - loss: 0.6949 - acc: 0.5280\n",
      "Epoch 8/20\n",
      "1000/1000 [==============================] - 0s 30us/step - loss: 0.6938 - acc: 0.5170\n",
      "Epoch 9/20\n",
      "1000/1000 [==============================] - 0s 55us/step - loss: 0.6919 - acc: 0.5260\n",
      "Epoch 10/20\n",
      "1000/1000 [==============================] - 0s 26us/step - loss: 0.6963 - acc: 0.5110\n",
      "Epoch 11/20\n",
      "1000/1000 [==============================] - 0s 26us/step - loss: 0.6971 - acc: 0.5160\n",
      "Epoch 12/20\n",
      "1000/1000 [==============================] - 0s 24us/step - loss: 0.6943 - acc: 0.5100\n",
      "Epoch 13/20\n",
      "1000/1000 [==============================] - 0s 26us/step - loss: 0.6972 - acc: 0.5060\n",
      "Epoch 14/20\n",
      "1000/1000 [==============================] - 0s 29us/step - loss: 0.6943 - acc: 0.5210\n",
      "Epoch 15/20\n",
      "1000/1000 [==============================] - 0s 29us/step - loss: 0.6922 - acc: 0.5180\n",
      "Epoch 16/20\n",
      "1000/1000 [==============================] - 0s 32us/step - loss: 0.6928 - acc: 0.5130\n",
      "Epoch 17/20\n",
      "1000/1000 [==============================] - 0s 31us/step - loss: 0.6956 - acc: 0.5130\n",
      "Epoch 18/20\n",
      "1000/1000 [==============================] - 0s 29us/step - loss: 0.6959 - acc: 0.5000\n",
      "Epoch 19/20\n",
      "1000/1000 [==============================] - 0s 32us/step - loss: 0.6919 - acc: 0.5070\n",
      "Epoch 20/20\n",
      "1000/1000 [==============================] - 0s 27us/step - loss: 0.6882 - acc: 0.5280\n",
      "100/100 [==============================] - 0s 1ms/step\n"
     ]
    }
   ],
   "source": [
    "import numpy as np\n",
    "from keras.models import Sequential\n",
    "from keras.layers import Dense, Dropout\n",
    "\n",
    "# Generate dummy data\n",
    "x_train = np.random.random((1000, 20))\n",
    "y_train = np.random.randint(2, size=(1000, 1))\n",
    "x_test = np.random.random((100, 20))\n",
    "y_test = np.random.randint(2, size=(100, 1))\n",
    "\n",
    "model = Sequential()\n",
    "model.add(Dense(64, input_dim=20, activation='relu'))\n",
    "model.add(Dropout(0.5))\n",
    "model.add(Dense(64, activation='relu'))\n",
    "model.add(Dropout(0.5))\n",
    "model.add(Dense(1, activation='sigmoid'))\n",
    "\n",
    "model.compile(loss='binary_crossentropy',\n",
    "              optimizer='rmsprop',\n",
    "              metrics=['accuracy'])\n",
    "\n",
    "model.fit(x_train, y_train,\n",
    "          epochs=20,\n",
    "          batch_size=128)\n",
    "score = model.evaluate(x_test, y_test, batch_size=128)"
   ]
  },
  {
   "cell_type": "code",
   "execution_count": 35,
   "metadata": {},
   "outputs": [
    {
     "data": {
      "text/plain": [
       "array([[0.50066435],\n",
       "       [0.49652892],\n",
       "       [0.50010145],\n",
       "       [0.48597416],\n",
       "       [0.47340217],\n",
       "       [0.52196383],\n",
       "       [0.4891368 ],\n",
       "       [0.5038686 ],\n",
       "       [0.4983057 ],\n",
       "       [0.5235382 ],\n",
       "       [0.49910942],\n",
       "       [0.48698172],\n",
       "       [0.4880431 ],\n",
       "       [0.48587176],\n",
       "       [0.48998708],\n",
       "       [0.5028596 ],\n",
       "       [0.4940164 ],\n",
       "       [0.5047681 ],\n",
       "       [0.48678192],\n",
       "       [0.47945258],\n",
       "       [0.51610047],\n",
       "       [0.4979995 ],\n",
       "       [0.5015438 ],\n",
       "       [0.5231593 ],\n",
       "       [0.474516  ],\n",
       "       [0.48865914],\n",
       "       [0.49641323],\n",
       "       [0.5035954 ],\n",
       "       [0.48940527],\n",
       "       [0.4930465 ],\n",
       "       [0.5050711 ],\n",
       "       [0.49330568],\n",
       "       [0.49054077],\n",
       "       [0.49664098],\n",
       "       [0.49356365],\n",
       "       [0.49157763],\n",
       "       [0.51939327],\n",
       "       [0.4919153 ],\n",
       "       [0.47439837],\n",
       "       [0.50665563],\n",
       "       [0.46942124],\n",
       "       [0.5032462 ],\n",
       "       [0.49407402],\n",
       "       [0.5298711 ],\n",
       "       [0.47959152],\n",
       "       [0.48972762],\n",
       "       [0.4784638 ],\n",
       "       [0.50131625],\n",
       "       [0.49018726],\n",
       "       [0.47659215],\n",
       "       [0.49869663],\n",
       "       [0.51214784],\n",
       "       [0.52916086],\n",
       "       [0.47979987],\n",
       "       [0.46430662],\n",
       "       [0.4981093 ],\n",
       "       [0.4993329 ],\n",
       "       [0.46493927],\n",
       "       [0.5072349 ],\n",
       "       [0.48762405],\n",
       "       [0.5090048 ],\n",
       "       [0.4933093 ],\n",
       "       [0.5014957 ],\n",
       "       [0.50624514],\n",
       "       [0.49696156],\n",
       "       [0.48187172],\n",
       "       [0.48506245],\n",
       "       [0.49887612],\n",
       "       [0.5253559 ],\n",
       "       [0.5066094 ],\n",
       "       [0.49397266],\n",
       "       [0.49703684],\n",
       "       [0.50856495],\n",
       "       [0.52294934],\n",
       "       [0.48720777],\n",
       "       [0.49879995],\n",
       "       [0.50521165],\n",
       "       [0.5022881 ],\n",
       "       [0.5306902 ],\n",
       "       [0.4948334 ],\n",
       "       [0.51902294],\n",
       "       [0.50850356],\n",
       "       [0.52275145],\n",
       "       [0.49545452],\n",
       "       [0.4784418 ],\n",
       "       [0.5079561 ],\n",
       "       [0.4935596 ],\n",
       "       [0.4852648 ],\n",
       "       [0.5077413 ],\n",
       "       [0.4962608 ],\n",
       "       [0.50278586],\n",
       "       [0.48734495],\n",
       "       [0.48838663],\n",
       "       [0.49402046],\n",
       "       [0.5063335 ],\n",
       "       [0.4912762 ],\n",
       "       [0.49729094],\n",
       "       [0.48108676],\n",
       "       [0.45327377],\n",
       "       [0.5150898 ]], dtype=float32)"
      ]
     },
     "execution_count": 35,
     "metadata": {},
     "output_type": "execute_result"
    }
   ],
   "source": [
    "model.predict(x_test)"
   ]
  },
  {
   "cell_type": "code",
   "execution_count": 25,
   "metadata": {},
   "outputs": [
    {
     "name": "stdout",
     "output_type": "stream",
     "text": [
      "1\n",
      "[0.890261   0.30248666 0.7008052  0.39708824] 1\n",
      "0\n",
      "[0.34393121 0.06560637 0.12531579 0.73289267] -1\n",
      "1\n",
      "[0.42257391 0.68990481 0.54848968 0.2782972 ] -1\n",
      "1\n",
      "[0.03662617 0.9784738  0.54163047 0.96236332] -1\n",
      "1\n",
      "[0.94987607 0.08062103 0.72281151 0.87880736] -1\n",
      "0\n",
      "[0.89082242 0.87890617 0.22894185 0.79595253] -1\n",
      "1\n",
      "[0.17689491 0.7672027  0.00398238 0.60066968] 1\n",
      "0\n",
      "[0.38071283 0.45143663 0.96309125 0.1316958 ] 1\n",
      "0\n",
      "[0.87130597 0.8817402  0.60087639 0.53345163] 1\n",
      "1\n",
      "[0.1398914  0.31910011 0.78802726 0.88674186] 1\n"
     ]
    }
   ],
   "source": [
    "env = SimpleEnv(10000)\n",
    "for _ in range(10):\n",
    "    action = env.action_space_sample()\n",
    "    print(action)\n",
    "    observation, reward, done, info = env.step(action)\n",
    "    print(observation, reward)\n",
    "    if done:\n",
    "        print(\"Episode finished after {} timesteps\".format(t+1))\n",
    "        break    "
   ]
  },
  {
   "cell_type": "code",
   "execution_count": null,
   "metadata": {},
   "outputs": [],
   "source": [
    "        action = env.action_space.sample()\n",
    "        observation, reward, done, info = env.step(action)"
   ]
  },
  {
   "cell_type": "code",
   "execution_count": 5,
   "metadata": {},
   "outputs": [
    {
     "data": {
      "text/plain": [
       "array([0.46876781, 0.12773732, 0.76752294, 0.22103882])"
      ]
     },
     "execution_count": 5,
     "metadata": {},
     "output_type": "execute_result"
    }
   ],
   "source": [
    "np.random.rand(4)"
   ]
  },
  {
   "cell_type": "code",
   "execution_count": 26,
   "metadata": {},
   "outputs": [
    {
     "data": {
      "text/plain": [
       "array([0.1398914 , 0.31910011, 0.78802726, 0.88674186])"
      ]
     },
     "execution_count": 26,
     "metadata": {},
     "output_type": "execute_result"
    }
   ],
   "source": [
    "observation"
   ]
  },
  {
   "cell_type": "code",
   "execution_count": null,
   "metadata": {},
   "outputs": [],
   "source": [
    "env = gym.make('CartPole-v1')\n",
    "env.reset()\n",
    "env.action_space"
   ]
  },
  {
   "cell_type": "code",
   "execution_count": null,
   "metadata": {},
   "outputs": [],
   "source": []
  },
  {
   "cell_type": "code",
   "execution_count": null,
   "metadata": {},
   "outputs": [],
   "source": []
  },
  {
   "cell_type": "code",
   "execution_count": null,
   "metadata": {},
   "outputs": [],
   "source": []
  },
  {
   "cell_type": "code",
   "execution_count": null,
   "metadata": {},
   "outputs": [],
   "source": []
  },
  {
   "cell_type": "code",
   "execution_count": 1,
   "metadata": {},
   "outputs": [],
   "source": [
    "\"\"\"Provides an easy to use notebook environment.\"\"\"\n",
    "# For notebook setup.\n",
    "import importlib\n",
    "import os\n",
    "import sys\n",
    "\n",
    "# For actual work.\n",
    "import numpy as np\n",
    "import scipy\n",
    "import pandas as pd\n",
    "from IPython import display\n",
    "from matplotlib import pyplot as plt\n",
    "\n",
    "_EXTERNAL_ROOT = '/workspace/external/'\n",
    "_EXCLUDE_PREFIXES = ('__', '_', '.')\n",
    "_PYTHON_SUFFIX = '.py'\n",
    "\n",
    "\n",
    "def ReloadProject(project_name: str) -> None:\n",
    "  \"\"\"Loads and reloads all modules for a project.\n",
    "\n",
    "  Args:\n",
    "    project_name: a project is a directory under `/workspaces/external/`.\n",
    "  \"\"\"\n",
    "  project_root = os.path.join(_EXTERNAL_ROOT, project_name)\n",
    "  if project_root not in sys.path:\n",
    "    if os.path.exists(project_root):\n",
    "      sys.path.append(project_root)\n",
    "      print('Path %s added to PYTHON_PATH.' % project_root)\n",
    "    else:\n",
    "      print('Path %s does not exist.' % project_root)\n",
    "      return\n",
    "\n",
    "  project_root_len = len(project_root)\n",
    "  python_suffix_len = len(_PYTHON_SUFFIX)\n",
    "  for current_dir, dirnames, filenames in os.walk(\n",
    "      project_root, followlinks=False):\n",
    "    dirnames[:] = [\n",
    "        dirname for dirname in dirnames\n",
    "        if not dirname.startswith(_EXCLUDE_PREFIXES)]\n",
    "    filenames[:] = [\n",
    "        filename for filename in filenames\n",
    "        if not filename.startswith(_EXCLUDE_PREFIXES) and\n",
    "        filename.endswith(_PYTHON_SUFFIX) and\n",
    "        not 'test' in filename]\n",
    "    \n",
    "    if filenames or dirnames:\n",
    "      package_name = current_dir[project_root_len+1:].replace('/', '.')\n",
    "      if package_name:\n",
    "        Import(package_name)\n",
    "\n",
    "    for filename in filenames:\n",
    "      # This is the full module name, including packages.\n",
    "      module_name = package_name + '.' + filename[:-python_suffix_len]\n",
    "      try:\n",
    "        if module_name in sys.modules:\n",
    "          importlib.reload(sys.modules.get(module_name))\n",
    "          print('reloaded: ' + module_name)\n",
    "        else:\n",
    "          Import(module_name)\n",
    "      except Exception as e:\n",
    "        print('error loading module %s: %s' % (module_name, e))\n",
    "        \n",
    "def Import(module_name):\n",
    "    exec('import ' + module_name)\n",
    "    print('imported: ' + module_name)"
   ]
  },
  {
   "cell_type": "code",
   "execution_count": 2,
   "metadata": {},
   "outputs": [
    {
     "name": "stdout",
     "output_type": "stream",
     "text": [
      "Path /workspace/external/deep_learning added to PYTHON_PATH.\n",
      "imported: notebook\n",
      "imported: lib\n",
      "imported: lib.policy\n",
      "imported: lib.bb\n",
      "bb!\n",
      "imported: lib.bb.bb\n"
     ]
    }
   ],
   "source": [
    "ReloadProject('deep_learning')"
   ]
  },
  {
   "cell_type": "code",
   "execution_count": 7,
   "metadata": {},
   "outputs": [
    {
     "data": {
      "text/plain": [
       "<module 'lib' (namespace)>"
      ]
     },
     "execution_count": 7,
     "metadata": {},
     "output_type": "execute_result"
    }
   ],
   "source": [
    "importlib.import_module(name='lib', package='lib')"
   ]
  },
  {
   "cell_type": "code",
   "execution_count": 5,
   "metadata": {},
   "outputs": [
    {
     "ename": "NameError",
     "evalue": "name 'lib' is not defined",
     "output_type": "error",
     "traceback": [
      "\u001b[0;31m---------------------------------------------------------------------------\u001b[0m",
      "\u001b[0;31mNameError\u001b[0m                                 Traceback (most recent call last)",
      "\u001b[0;32m<ipython-input-5-376456435d4c>\u001b[0m in \u001b[0;36m<module>\u001b[0;34m\u001b[0m\n\u001b[0;32m----> 1\u001b[0;31m \u001b[0mlib\u001b[0m\u001b[0;34m\u001b[0m\u001b[0m\n\u001b[0m",
      "\u001b[0;31mNameError\u001b[0m: name 'lib' is not defined"
     ]
    }
   ],
   "source": [
    "lib"
   ]
  },
  {
   "cell_type": "code",
   "execution_count": 5,
   "metadata": {},
   "outputs": [
    {
     "name": "stdout",
     "output_type": "stream",
     "text": [
      "lib <module 'lib' (namespace)>\n"
     ]
    }
   ],
   "source": [
    "for nn, mm in sys.modules.items():\n",
    "    if 'lib' == nn:\n",
    "        print(nn, mm)"
   ]
  },
  {
   "cell_type": "code",
   "execution_count": 4,
   "metadata": {},
   "outputs": [],
   "source": [
    "import lib"
   ]
  },
  {
   "cell_type": "code",
   "execution_count": 2,
   "metadata": {},
   "outputs": [
    {
     "ename": "NameError",
     "evalue": "name 'lib' is not defined",
     "output_type": "error",
     "traceback": [
      "\u001b[0;31m---------------------------------------------------------------------------\u001b[0m",
      "\u001b[0;31mNameError\u001b[0m                                 Traceback (most recent call last)",
      "\u001b[0;32m<ipython-input-2-64eead76aef5>\u001b[0m in \u001b[0;36m<module>\u001b[0;34m\u001b[0m\n\u001b[0;32m----> 1\u001b[0;31m \u001b[0mlib\u001b[0m\u001b[0;34m.\u001b[0m\u001b[0mpolicy\u001b[0m\u001b[0;34m\u001b[0m\u001b[0m\n\u001b[0m",
      "\u001b[0;31mNameError\u001b[0m: name 'lib' is not defined"
     ]
    }
   ],
   "source": [
    "lib.policy"
   ]
  },
  {
   "cell_type": "code",
   "execution_count": 3,
   "metadata": {},
   "outputs": [
    {
     "data": {
      "text/plain": [
       "<module 'lib' (namespace)>"
      ]
     },
     "execution_count": 3,
     "metadata": {},
     "output_type": "execute_result"
    }
   ],
   "source": [
    "__import__('lib')"
   ]
  },
  {
   "cell_type": "code",
   "execution_count": 3,
   "metadata": {},
   "outputs": [],
   "source": [
    "import lib.bb"
   ]
  },
  {
   "cell_type": "code",
   "execution_count": 4,
   "metadata": {},
   "outputs": [],
   "source": [
    "exec('import lib')"
   ]
  },
  {
   "cell_type": "code",
   "execution_count": 49,
   "metadata": {},
   "outputs": [
    {
     "name": "stdout",
     "output_type": "stream",
     "text": [
      "notebook_init.py imported and reloaded\n",
      "reloaded: gym\n",
      "reloaded: numpy\n",
      "reloaded: policy\n"
     ]
    }
   ],
   "source": [
    "ReloadProject('deep_learning')"
   ]
  },
  {
   "cell_type": "code",
   "execution_count": 47,
   "metadata": {},
   "outputs": [
    {
     "data": {
      "text/plain": [
       "<module 'lib.policy' from '/workspace/external/deep_learning/lib/policy.py'>"
      ]
     },
     "execution_count": 47,
     "metadata": {},
     "output_type": "execute_result"
    }
   ],
   "source": [
    "policy.PolicyInterface"
   ]
  },
  {
   "cell_type": "code",
   "execution_count": 32,
   "metadata": {},
   "outputs": [
    {
     "name": "stdout",
     "output_type": "stream",
     "text": [
      "email._policybase\n",
      "lib.policy\n"
     ]
    }
   ],
   "source": [
    "for a in sys.modules:\n",
    "    if 'policy' in a:\n",
    "        print(a)"
   ]
  },
  {
   "cell_type": "code",
   "execution_count": 30,
   "metadata": {},
   "outputs": [
    {
     "data": {
      "text/plain": [
       "['__builtins__',\n",
       " '__cached__',\n",
       " '__doc__',\n",
       " '__file__',\n",
       " '__loader__',\n",
       " '__name__',\n",
       " '__package__',\n",
       " '__spec__',\n",
       " 'gym',\n",
       " 'numpy',\n",
       " 'policy']"
      ]
     },
     "execution_count": 30,
     "metadata": {},
     "output_type": "execute_result"
    }
   ],
   "source": [
    "dir(notebook_init)"
   ]
  },
  {
   "cell_type": "code",
   "execution_count": 29,
   "metadata": {},
   "outputs": [],
   "source": [
    "import notebook_init"
   ]
  },
  {
   "cell_type": "code",
   "execution_count": 33,
   "metadata": {},
   "outputs": [
    {
     "data": {
      "text/plain": [
       "<module 'lib.policy' from '/workspace/external/deep_learning/lib/policy.py'>"
      ]
     },
     "execution_count": 33,
     "metadata": {},
     "output_type": "execute_result"
    }
   ],
   "source": [
    "importlib.reload(notebook_init.policy)"
   ]
  },
  {
   "cell_type": "code",
   "execution_count": 34,
   "metadata": {},
   "outputs": [],
   "source": [
    "a = notebook_init.policy"
   ]
  },
  {
   "cell_type": "code",
   "execution_count": 35,
   "metadata": {},
   "outputs": [
    {
     "data": {
      "text/plain": [
       "['PolicyInterface',\n",
       " '__builtins__',\n",
       " '__cached__',\n",
       " '__doc__',\n",
       " '__file__',\n",
       " '__loader__',\n",
       " '__name__',\n",
       " '__package__',\n",
       " '__spec__']"
      ]
     },
     "execution_count": 35,
     "metadata": {},
     "output_type": "execute_result"
    }
   ],
   "source": [
    "dir(a)"
   ]
  },
  {
   "cell_type": "code",
   "execution_count": 37,
   "metadata": {},
   "outputs": [
    {
     "data": {
      "text/plain": [
       "False"
      ]
     },
     "execution_count": 37,
     "metadata": {},
     "output_type": "execute_result"
    }
   ],
   "source": [
    "hasattr('notebook_init.__doc__', '__loader__')"
   ]
  },
  {
   "cell_type": "code",
   "execution_count": 40,
   "metadata": {},
   "outputs": [
    {
     "data": {
      "text/plain": [
       "True"
      ]
     },
     "execution_count": 40,
     "metadata": {},
     "output_type": "execute_result"
    }
   ],
   "source": [
    "hasattr(eval('notebook_init.policy'), '__loader__')"
   ]
  },
  {
   "cell_type": "code",
   "execution_count": 39,
   "metadata": {},
   "outputs": [
    {
     "data": {
      "text/plain": [
       "True"
      ]
     },
     "execution_count": 39,
     "metadata": {},
     "output_type": "execute_result"
    }
   ],
   "source": [
    "hasattr(notebook_init.policy, '__loader__')"
   ]
  },
  {
   "cell_type": "code",
   "execution_count": 2,
   "metadata": {},
   "outputs": [
    {
     "data": {
      "text/plain": [
       "<module 'lib.policy' from '/workspace/external/deep_learning/lib/policy.py'>"
      ]
     },
     "execution_count": 2,
     "metadata": {},
     "output_type": "execute_result"
    }
   ],
   "source": []
  },
  {
   "cell_type": "code",
   "execution_count": 19,
   "metadata": {},
   "outputs": [],
   "source": [
    "_EXTERNAL_ROOT = '/workspace/external/'\n",
    "_NOTEBOOK_INIT = 'notebook_init'\n",
    "\n",
    "\n",
    "def ReloadProject(project_name: str) -> None:\n",
    "  \"\"\"Loads and reloads all modules for a project.\n",
    "  \n",
    "  Imports `project_name/notebook_init.py`, then reload it.\n",
    "  All symbols in this module will be forwarded to the global scope.\n",
    "  They are then reloaded.\n",
    "\n",
    "  Args:\n",
    "    project_name: a project is a directory under `/workspaces/external/`.\n",
    "  \"\"\"\n",
    "  project_root = os.path.join(_EXTERNAL_ROOT, project_name)\n",
    "  if project_root not in sys.path:\n",
    "    if os.path.exists(project_root):\n",
    "      sys.path.append(project_root)\n",
    "      print('Path %s added to PYTHON_PATH.' % project_root)\n",
    "    else:\n",
    "      print('Path %s does not exist.' % project_root)\n",
    "      return\n",
    "\n",
    "  if not os.path.exists(os.path.join(project_root, _NOTEBOOK_INIT + '.py')):\n",
    "    print(_NOTEBOOK_INIT + '.py not found from project directory.')\n",
    "    return\n",
    "\n",
    "  import notebook_init\n",
    "  importlib.reload(notebook_init)\n",
    "  print(_NOTEBOOK_INIT + '.py imported and reloaded')\n",
    "\n",
    "  for symbol_name in dir(notebook_init):\n",
    "    symbol = eval(_NOTEBOOK_INIT + '.' + symbol_name)\n",
    "    # Reload modules.\n",
    "    if hasattr(symbol, '__loader__'):\n",
    "      importlib.reload(symbol)\n",
    "      print('reloaded: ' + symbol_name)\n",
    "    # Forward all public symbols.\n",
    "    if not symbol_name.startswith('_'):\n",
    "      exec('global %s; %s = %s.%s' % (\n",
    "          symbol_name, symbol_name, _NOTEBOOK_INIT, symbol_name))\n",
    "      print('forwarded symbol: ' + symbol_name)"
   ]
  },
  {
   "cell_type": "code",
   "execution_count": 20,
   "metadata": {},
   "outputs": [
    {
     "name": "stdout",
     "output_type": "stream",
     "text": [
      "notebook_init.py imported and reloaded\n",
      "forwarded symbol: Activation\n",
      "forwarded symbol: Dense\n",
      "forwarded symbol: Sequential\n",
      "reloaded: gym\n",
      "forwarded symbol: gym\n",
      "reloaded: interface\n",
      "forwarded symbol: interface\n",
      "reloaded: layers\n",
      "forwarded symbol: layers\n",
      "reloaded: models\n",
      "forwarded symbol: models\n"
     ]
    }
   ],
   "source": [
    "ReloadProject('deep_learning')"
   ]
  },
  {
   "cell_type": "code",
   "execution_count": 15,
   "metadata": {},
   "outputs": [
    {
     "data": {
      "text/plain": [
       "<module 'notebook_init' from '/workspace/external/deep_learning/notebook_init.py'>"
      ]
     },
     "execution_count": 15,
     "metadata": {},
     "output_type": "execute_result"
    }
   ],
   "source": [
    "  import notebook_init\n",
    "  importlib.reload(notebook_init)"
   ]
  },
  {
   "cell_type": "code",
   "execution_count": 9,
   "metadata": {},
   "outputs": [],
   "source": [
    "import notebook_init"
   ]
  },
  {
   "cell_type": "code",
   "execution_count": null,
   "metadata": {},
   "outputs": [],
   "source": []
  }
 ],
 "metadata": {
  "kernelspec": {
   "display_name": "Python 3",
   "language": "python",
   "name": "python3"
  },
  "language_info": {
   "codemirror_mode": {
    "name": "ipython",
    "version": 3
   },
   "file_extension": ".py",
   "mimetype": "text/x-python",
   "name": "python",
   "nbconvert_exporter": "python",
   "pygments_lexer": "ipython3",
   "version": "3.5.2"
  }
 },
 "nbformat": 4,
 "nbformat_minor": 2
}
