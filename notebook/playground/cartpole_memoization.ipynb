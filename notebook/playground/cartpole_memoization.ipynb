{
 "cells": [
  {
   "cell_type": "code",
   "execution_count": 1,
   "metadata": {},
   "outputs": [
    {
     "name": "stdout",
     "output_type": "stream",
     "text": [
      "Path /workspace/external/deep_learning added to PYTHON_PATH.\n"
     ]
    },
    {
     "name": "stderr",
     "output_type": "stream",
     "text": [
      "Using TensorFlow backend.\n"
     ]
    },
    {
     "name": "stdout",
     "output_type": "stream",
     "text": [
      "notebook_init.py imported and reloaded\n",
      "forwarded symbol: Activation\n",
      "forwarded symbol: Dense\n",
      "forwarded symbol: Dict\n",
      "forwarded symbol: InputLayer\n",
      "forwarded symbol: List\n",
      "forwarded symbol: Model\n",
      "forwarded symbol: Sequential\n",
      "forwarded symbol: Tuple\n",
      "reloaded: gym\n",
      "forwarded symbol: gym\n",
      "reloaded: keras\n",
      "forwarded symbol: keras\n",
      "reloaded: openai_wrapper\n",
      "forwarded symbol: openai_wrapper\n",
      "reloaded: policy_impl\n",
      "forwarded symbol: policy_impl\n",
      "reloaded: q_function_memoization\n",
      "forwarded symbol: q_function_memoization\n",
      "reloaded: q_learning\n",
      "forwarded symbol: q_learning\n",
      "reloaded: q_learning_impl\n",
      "forwarded symbol: q_learning_impl\n",
      "reloaded: q_learning_impl_v2\n",
      "forwarded symbol: q_learning_impl_v2\n",
      "reloaded: q_learning_v2\n",
      "forwarded symbol: q_learning_v2\n"
     ]
    }
   ],
   "source": [
    "ReloadProject('deep_learning')"
   ]
  },
  {
   "cell_type": "code",
   "execution_count": 11,
   "metadata": {},
   "outputs": [
    {
     "name": "stdout",
     "output_type": "stream",
     "text": [
      "Action 0: ([-0.13373391 -1.73144288  0.10531414  2.19350993]) -> ([-0.16836277 -1.92741215  0.14918434  2.51674037]), reward: 1.0\n",
      "Action 0: ([-0.16836277 -1.92741215  0.14918434  2.51674037]) -> ([-0.20691101 -2.12340674  0.19951915  2.85116446]), reward: 1.0\n",
      "Action 0: ([-0.20691101 -2.12340674  0.19951915  2.85116446]) -> ([-0.24937915 -2.31918015  0.25654244  3.19726917]), reward: 1.0\n"
     ]
    },
    {
     "ename": "OpenAiWrapperError",
     "evalue": "gym environment returned done.",
     "output_type": "error",
     "traceback": [
      "\u001b[0;31m---------------------------------------------------------------------------\u001b[0m",
      "\u001b[0;31mOpenAiWrapperError\u001b[0m                        Traceback (most recent call last)",
      "\u001b[0;32m<timed exec>\u001b[0m in \u001b[0;36m<module>\u001b[0;34m\u001b[0m\n",
      "\u001b[0;32m/workspace/external/deep_learning/lib/q_learning_v2.py\u001b[0m in \u001b[0;36mRun\u001b[0;34m(env, qfunc, policy, num_of_runs, debug_verbosity)\u001b[0m\n\u001b[1;32m    168\u001b[0m         \u001b[0ms\u001b[0m \u001b[0;34m=\u001b[0m \u001b[0menv\u001b[0m\u001b[0;34m.\u001b[0m\u001b[0mGetState\u001b[0m\u001b[0;34m(\u001b[0m\u001b[0;34m)\u001b[0m\u001b[0;34m\u001b[0m\u001b[0m\n\u001b[1;32m    169\u001b[0m         \u001b[0ma\u001b[0m \u001b[0;34m=\u001b[0m \u001b[0mpolicy\u001b[0m\u001b[0;34m.\u001b[0m\u001b[0mDecide\u001b[0m\u001b[0;34m(\u001b[0m\u001b[0mqfunc\u001b[0m\u001b[0;34m,\u001b[0m \u001b[0ms\u001b[0m\u001b[0;34m,\u001b[0m \u001b[0menv\u001b[0m\u001b[0;34m.\u001b[0m\u001b[0mGetActionSpace\u001b[0m\u001b[0;34m(\u001b[0m\u001b[0;34m)\u001b[0m\u001b[0;34m)\u001b[0m\u001b[0;34m\u001b[0m\u001b[0m\n\u001b[0;32m--> 170\u001b[0;31m         \u001b[0mr\u001b[0m \u001b[0;34m=\u001b[0m \u001b[0menv\u001b[0m\u001b[0;34m.\u001b[0m\u001b[0mTakeAction\u001b[0m\u001b[0;34m(\u001b[0m\u001b[0ma\u001b[0m\u001b[0;34m)\u001b[0m\u001b[0;34m\u001b[0m\u001b[0m\n\u001b[0m\u001b[1;32m    171\u001b[0m         \u001b[0ms_new\u001b[0m \u001b[0;34m=\u001b[0m \u001b[0menv\u001b[0m\u001b[0;34m.\u001b[0m\u001b[0mGetState\u001b[0m\u001b[0;34m(\u001b[0m\u001b[0;34m)\u001b[0m\u001b[0;34m\u001b[0m\u001b[0m\n\u001b[1;32m    172\u001b[0m         \u001b[0mqfunc\u001b[0m\u001b[0;34m.\u001b[0m\u001b[0mUpdateWithTransition\u001b[0m\u001b[0;34m(\u001b[0m\u001b[0ms\u001b[0m\u001b[0;34m,\u001b[0m \u001b[0ma\u001b[0m\u001b[0;34m,\u001b[0m \u001b[0mr\u001b[0m\u001b[0;34m,\u001b[0m \u001b[0ms_new\u001b[0m\u001b[0;34m)\u001b[0m\u001b[0;34m\u001b[0m\u001b[0m\n",
      "\u001b[0;32m/workspace/external/deep_learning/lib/openai_wrapper.py\u001b[0m in \u001b[0;36mTakeAction\u001b[0;34m(self, action)\u001b[0m\n\u001b[1;32m     72\u001b[0m                 \u001b[0;32mreturn\u001b[0m \u001b[0mself\u001b[0m\u001b[0;34m.\u001b[0m\u001b[0m_reward_when_done\u001b[0m\u001b[0;34m\u001b[0m\u001b[0m\n\u001b[1;32m     73\u001b[0m             \u001b[0;32melse\u001b[0m\u001b[0;34m:\u001b[0m\u001b[0;34m\u001b[0m\u001b[0m\n\u001b[0;32m---> 74\u001b[0;31m                 \u001b[0;32mraise\u001b[0m \u001b[0mOpenAiWrapperError\u001b[0m\u001b[0;34m(\u001b[0m\u001b[0;34m'gym environment returned done.'\u001b[0m\u001b[0;34m)\u001b[0m\u001b[0;34m\u001b[0m\u001b[0m\n\u001b[0m\u001b[1;32m     75\u001b[0m \u001b[0;34m\u001b[0m\u001b[0m\n\u001b[1;32m     76\u001b[0m         \u001b[0mself\u001b[0m\u001b[0;34m.\u001b[0m\u001b[0m_protected_SetState\u001b[0m\u001b[0;34m(\u001b[0m\u001b[0mnew_state\u001b[0m\u001b[0;34m)\u001b[0m\u001b[0;34m\u001b[0m\u001b[0m\n",
      "\u001b[0;31mOpenAiWrapperError\u001b[0m: gym environment returned done."
     ]
    }
   ],
   "source": [
    "%%time\n",
    "\n",
    "env = openai_wrapper.GymEnvironment(gym.make('CartPole-v1'))\n",
    "env.ChangeSettings(continue_from_done = True, reward_when_done = -100.0)\n",
    "\n",
    "qfunc = q_function_memoization.ContinuousMemoizationQFunction(\n",
    "    env, buffer_size=500, learning_rate=0.9, discount_factor=0.95)\n",
    "qfunc.ChangeSettings(distance_threshold=0.005)\n",
    "\n",
    "# Train.\n",
    "policy = policy_impl.RandomActionPolicy()\n",
    "q_learning_v2.Run(env=env, qfunc=qfunc, policy=policy, num_of_runs=80000, debug_verbosity=0)\n",
    "\n",
    "# Test.\n",
    "env.ChangeSettings(continue_from_done = False)\n",
    "policy = policy_impl.MaxValuePolicy()\n",
    "q_learning_v2.Run(env=env, qfunc=qfunc, policy=policy, num_of_runs=40, debug_verbosity=1)"
   ]
  },
  {
   "cell_type": "code",
   "execution_count": 15,
   "metadata": {},
   "outputs": [
    {
     "name": "stdout",
     "output_type": "stream",
     "text": [
      "Action 1: ([0. 0. 0. 0.]) -> ([-0.01980061  0.24259354 -0.02548748 -0.29218327]), reward: 1.0\n",
      "Action 1: ([-0.01980061  0.24259354 -0.02548748 -0.29218327]) -> ([-0.01494874  0.43806945 -0.03133115 -0.59279441]), reward: 1.0\n",
      "Action 1: ([-0.01494874  0.43806945 -0.03133115 -0.59279441]) -> ([-0.00618735  0.63361566 -0.04318704 -0.89517962]), reward: 1.0\n",
      "Action 1: ([-0.00618735  0.63361566 -0.04318704 -0.89517962]) -> ([ 0.00648496  0.82929577 -0.06109063 -1.20111914]), reward: 1.0\n",
      "Action 1: ([ 0.00648496  0.82929577 -0.06109063 -1.20111914]) -> ([ 0.02307087  1.02515232 -0.08511301 -1.5123054 ]), reward: 1.0\n",
      "Action 1: ([ 0.02307087  1.02515232 -0.08511301 -1.5123054 ]) -> ([ 0.04357392  1.22119568 -0.11535912 -1.83029897]), reward: 1.0\n",
      "Action 1: ([ 0.04357392  1.22119568 -0.11535912 -1.83029897]) -> ([ 0.06799783  1.41739103 -0.1519651  -2.15647638]), reward: 1.0\n",
      "Action 1: ([ 0.06799783  1.41739103 -0.1519651  -2.15647638]) -> ([ 0.09634565  1.6136431  -0.19509463 -2.49196791]), reward: 1.0\n",
      "Action 1: ([ 0.09634565  1.6136431  -0.19509463 -2.49196791]) -> ([ 0.12861852  1.8097787  -0.24493398 -2.83758473]), reward: 1.0\n"
     ]
    },
    {
     "ename": "OpenAiWrapperError",
     "evalue": "gym environment returned done.",
     "output_type": "error",
     "traceback": [
      "\u001b[0;31m---------------------------------------------------------------------------\u001b[0m",
      "\u001b[0;31mOpenAiWrapperError\u001b[0m                        Traceback (most recent call last)",
      "\u001b[0;32m<ipython-input-15-2e8724776769>\u001b[0m in \u001b[0;36m<module>\u001b[0;34m\u001b[0m\n\u001b[1;32m      2\u001b[0m \u001b[0menv\u001b[0m\u001b[0;34m.\u001b[0m\u001b[0mChangeSettings\u001b[0m\u001b[0;34m(\u001b[0m\u001b[0mcontinue_from_done\u001b[0m \u001b[0;34m=\u001b[0m \u001b[0;32mFalse\u001b[0m\u001b[0;34m,\u001b[0m \u001b[0mreward_when_done\u001b[0m \u001b[0;34m=\u001b[0m \u001b[0;34m-\u001b[0m\u001b[0;36m10.0\u001b[0m\u001b[0;34m)\u001b[0m\u001b[0;34m\u001b[0m\u001b[0m\n\u001b[1;32m      3\u001b[0m \u001b[0mpolicy\u001b[0m \u001b[0;34m=\u001b[0m \u001b[0mpolicy_impl\u001b[0m\u001b[0;34m.\u001b[0m\u001b[0mMaxValuePolicy\u001b[0m\u001b[0;34m(\u001b[0m\u001b[0;34m)\u001b[0m\u001b[0;34m\u001b[0m\u001b[0m\n\u001b[0;32m----> 4\u001b[0;31m \u001b[0mq_learning_v2\u001b[0m\u001b[0;34m.\u001b[0m\u001b[0mRun\u001b[0m\u001b[0;34m(\u001b[0m\u001b[0menv\u001b[0m\u001b[0;34m=\u001b[0m\u001b[0menv\u001b[0m\u001b[0;34m,\u001b[0m \u001b[0mqfunc\u001b[0m\u001b[0;34m=\u001b[0m\u001b[0mqfunc\u001b[0m\u001b[0;34m,\u001b[0m \u001b[0mpolicy\u001b[0m\u001b[0;34m=\u001b[0m\u001b[0mpolicy\u001b[0m\u001b[0;34m,\u001b[0m \u001b[0mnum_of_runs\u001b[0m\u001b[0;34m=\u001b[0m\u001b[0;36m40\u001b[0m\u001b[0;34m,\u001b[0m \u001b[0mdebug_verbosity\u001b[0m\u001b[0;34m=\u001b[0m\u001b[0;36m1\u001b[0m\u001b[0;34m)\u001b[0m\u001b[0;34m\u001b[0m\u001b[0m\n\u001b[0m",
      "\u001b[0;32m/workspace/external/deep_learning/lib/q_learning_v2.py\u001b[0m in \u001b[0;36mRun\u001b[0;34m(env, qfunc, policy, num_of_runs, debug_verbosity)\u001b[0m\n\u001b[1;32m    168\u001b[0m         \u001b[0ms\u001b[0m \u001b[0;34m=\u001b[0m \u001b[0menv\u001b[0m\u001b[0;34m.\u001b[0m\u001b[0mGetState\u001b[0m\u001b[0;34m(\u001b[0m\u001b[0;34m)\u001b[0m\u001b[0;34m\u001b[0m\u001b[0m\n\u001b[1;32m    169\u001b[0m         \u001b[0ma\u001b[0m \u001b[0;34m=\u001b[0m \u001b[0mpolicy\u001b[0m\u001b[0;34m.\u001b[0m\u001b[0mDecide\u001b[0m\u001b[0;34m(\u001b[0m\u001b[0mqfunc\u001b[0m\u001b[0;34m,\u001b[0m \u001b[0ms\u001b[0m\u001b[0;34m,\u001b[0m \u001b[0menv\u001b[0m\u001b[0;34m.\u001b[0m\u001b[0mGetActionSpace\u001b[0m\u001b[0;34m(\u001b[0m\u001b[0;34m)\u001b[0m\u001b[0;34m)\u001b[0m\u001b[0;34m\u001b[0m\u001b[0m\n\u001b[0;32m--> 170\u001b[0;31m         \u001b[0mr\u001b[0m \u001b[0;34m=\u001b[0m \u001b[0menv\u001b[0m\u001b[0;34m.\u001b[0m\u001b[0mTakeAction\u001b[0m\u001b[0;34m(\u001b[0m\u001b[0ma\u001b[0m\u001b[0;34m)\u001b[0m\u001b[0;34m\u001b[0m\u001b[0m\n\u001b[0m\u001b[1;32m    171\u001b[0m         \u001b[0ms_new\u001b[0m \u001b[0;34m=\u001b[0m \u001b[0menv\u001b[0m\u001b[0;34m.\u001b[0m\u001b[0mGetState\u001b[0m\u001b[0;34m(\u001b[0m\u001b[0;34m)\u001b[0m\u001b[0;34m\u001b[0m\u001b[0m\n\u001b[1;32m    172\u001b[0m         \u001b[0mqfunc\u001b[0m\u001b[0;34m.\u001b[0m\u001b[0mUpdateWithTransition\u001b[0m\u001b[0;34m(\u001b[0m\u001b[0ms\u001b[0m\u001b[0;34m,\u001b[0m \u001b[0ma\u001b[0m\u001b[0;34m,\u001b[0m \u001b[0mr\u001b[0m\u001b[0;34m,\u001b[0m \u001b[0ms_new\u001b[0m\u001b[0;34m)\u001b[0m\u001b[0;34m\u001b[0m\u001b[0m\n",
      "\u001b[0;32m/workspace/external/deep_learning/lib/openai_wrapper.py\u001b[0m in \u001b[0;36mTakeAction\u001b[0;34m(self, action)\u001b[0m\n\u001b[1;32m     72\u001b[0m                 \u001b[0;32mreturn\u001b[0m \u001b[0mself\u001b[0m\u001b[0;34m.\u001b[0m\u001b[0m_reward_when_done\u001b[0m\u001b[0;34m\u001b[0m\u001b[0m\n\u001b[1;32m     73\u001b[0m             \u001b[0;32melse\u001b[0m\u001b[0;34m:\u001b[0m\u001b[0;34m\u001b[0m\u001b[0m\n\u001b[0;32m---> 74\u001b[0;31m                 \u001b[0;32mraise\u001b[0m \u001b[0mOpenAiWrapperError\u001b[0m\u001b[0;34m(\u001b[0m\u001b[0;34m'gym environment returned done.'\u001b[0m\u001b[0;34m)\u001b[0m\u001b[0;34m\u001b[0m\u001b[0m\n\u001b[0m\u001b[1;32m     75\u001b[0m \u001b[0;34m\u001b[0m\u001b[0m\n\u001b[1;32m     76\u001b[0m         \u001b[0mself\u001b[0m\u001b[0;34m.\u001b[0m\u001b[0m_protected_SetState\u001b[0m\u001b[0;34m(\u001b[0m\u001b[0mnew_state\u001b[0m\u001b[0;34m)\u001b[0m\u001b[0;34m\u001b[0m\u001b[0m\n",
      "\u001b[0;31mOpenAiWrapperError\u001b[0m: gym environment returned done."
     ]
    }
   ],
   "source": [
    "env = openai_wrapper.GymEnvironment(gym.make('CartPole-v1'))\n",
    "env.ChangeSettings(continue_from_done = False, reward_when_done = -10.0)\n",
    "policy = policy_impl.MaxValuePolicy()\n",
    "q_learning_v2.Run(env=env, qfunc=qfunc, policy=policy, num_of_runs=40, debug_verbosity=1)"
   ]
  },
  {
   "cell_type": "code",
   "execution_count": null,
   "metadata": {},
   "outputs": [],
   "source": []
  }
 ],
 "metadata": {
  "kernelspec": {
   "display_name": "Python 3",
   "language": "python",
   "name": "python3"
  },
  "language_info": {
   "codemirror_mode": {
    "name": "ipython",
    "version": 3
   },
   "file_extension": ".py",
   "mimetype": "text/x-python",
   "name": "python",
   "nbconvert_exporter": "python",
   "pygments_lexer": "ipython3",
   "version": "3.5.2"
  }
 },
 "nbformat": 4,
 "nbformat_minor": 2
}
