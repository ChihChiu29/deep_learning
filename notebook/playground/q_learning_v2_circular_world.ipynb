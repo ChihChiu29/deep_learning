{
 "cells": [
  {
   "cell_type": "code",
   "execution_count": 6,
   "metadata": {},
   "outputs": [
    {
     "name": "stdout",
     "output_type": "stream",
     "text": [
      "notebook_init.py imported and reloaded\n",
      "forwarded symbol: Activation\n",
      "forwarded symbol: Dense\n",
      "forwarded symbol: Dict\n",
      "forwarded symbol: InputLayer\n",
      "forwarded symbol: List\n",
      "forwarded symbol: Model\n",
      "forwarded symbol: Sequential\n",
      "forwarded symbol: Tuple\n",
      "reloaded: gym\n",
      "forwarded symbol: gym\n",
      "reloaded: keras\n",
      "forwarded symbol: keras\n",
      "reloaded: q_learning\n",
      "forwarded symbol: q_learning\n",
      "reloaded: q_learning_impl\n",
      "forwarded symbol: q_learning_impl\n",
      "reloaded: q_learning_impl_v2\n",
      "forwarded symbol: q_learning_impl_v2\n",
      "reloaded: q_learning_v2\n",
      "forwarded symbol: q_learning_v2\n"
     ]
    }
   ],
   "source": [
    "ReloadProject('deep_learning')"
   ]
  },
  {
   "cell_type": "markdown",
   "metadata": {},
   "source": [
    "# Environment Setup\n",
    "Let's assume a world with 11 states: 0-10. Each time the agent and move +1 or -1, with 0-1 -> 10 and 10+1 -> 0. All actions that gets the agent closer to state \"5\" gets reward +1, otherwise gets reward -1."
   ]
  },
  {
   "cell_type": "code",
   "execution_count": null,
   "metadata": {},
   "outputs": [],
   "source": [
    "TARGET_STATE = 5\n",
    "ZERO_INT = np.zeros(1, dtype=int)\n",
    "STATE_ZERO_ARRAY = np.zeros(1, dtype=int)\n",
    "\n",
    "\n",
    "class NpCircularWorld(q_learning.Environment):\n",
    "    \n",
    "    def __init__(self):\n",
    "        super().__init__()\n",
    "        \n",
    "        self._current_state = ZERO_INT\n",
    "        self._last_action = ZERO_INT\n",
    "        self._last_reward = 0.0\n",
    "        \n",
    "        self._action_zero = ZERO_INT\n",
    "        self._action_plus = ZERO_INT + 1\n",
    "        self._action_minus = ZERO_INT - 1\n",
    "        \n",
    "    def Print(self):\n",
    "        print('At: %s (last action: %s; last reward: %s)' % (\n",
    "            self._current_state, self._last_action, self._last_reward))\n",
    "    \n",
    "    #@ Override\n",
    "    def GetActionSpace(self):\n",
    "        return [self._action_plus, self._action_zero, self._action_minus]\n",
    "        \n",
    "    #@ Override\n",
    "    def TakeAction(self, action) -> None:\n",
    "        if action == self._action_plus:\n",
    "            if self._current_state < TARGET_STATE:\n",
    "                self._last_reward = 1.0\n",
    "            else:\n",
    "                self._last_reward = -1.0\n",
    "            \n",
    "            new_state = self._current_state + 1\n",
    "            if new_state == ZERO_INT + 11:\n",
    "                new_state = ZERO_INT\n",
    "            self._current_state = new_state\n",
    "        elif action == self._action_minus:\n",
    "            if self._current_state > TARGET_STATE:\n",
    "                self._last_reward = 1.0\n",
    "            else:\n",
    "                self._last_reward = -1.0\n",
    "            \n",
    "            new_state = self._current_state - 1\n",
    "            if new_state == -1:\n",
    "                new_state = ZERO_INT + 10\n",
    "            self._current_state = new_state\n",
    "        else:\n",
    "            if self._current_state != TARGET_STATE:\n",
    "                self._last_reward = -1.0\n",
    "            else:\n",
    "                self._last_reward = 0.0\n",
    "        self._last_action = action"
   ]
  }
 ],
 "metadata": {
  "kernelspec": {
   "display_name": "Python 3",
   "language": "python",
   "name": "python3"
  },
  "language_info": {
   "codemirror_mode": {
    "name": "ipython",
    "version": 3
   },
   "file_extension": ".py",
   "mimetype": "text/x-python",
   "name": "python",
   "nbconvert_exporter": "python",
   "pygments_lexer": "ipython3",
   "version": "3.5.2"
  }
 },
 "nbformat": 4,
 "nbformat_minor": 2
}
