{
 "cells": [
  {
   "cell_type": "code",
   "execution_count": 136,
   "metadata": {},
   "outputs": [
    {
     "name": "stdout",
     "output_type": "stream",
     "text": [
      "notebook_init.py imported and reloaded\n",
      "forwarded symbol: Activation\n",
      "forwarded symbol: Dense\n",
      "forwarded symbol: Dict\n",
      "forwarded symbol: InputLayer\n",
      "forwarded symbol: List\n",
      "forwarded symbol: Model\n",
      "forwarded symbol: Sequential\n",
      "forwarded symbol: Tuple\n",
      "reloaded: gym\n",
      "forwarded symbol: gym\n",
      "reloaded: keras\n",
      "forwarded symbol: keras\n",
      "reloaded: openai_wrapper\n",
      "forwarded symbol: openai_wrapper\n",
      "reloaded: q_learning\n",
      "forwarded symbol: q_learning\n",
      "reloaded: q_learning_impl\n",
      "forwarded symbol: q_learning_impl\n",
      "reloaded: q_learning_impl_v2\n",
      "forwarded symbol: q_learning_impl_v2\n",
      "reloaded: q_learning_v2\n",
      "forwarded symbol: q_learning_v2\n"
     ]
    }
   ],
   "source": [
    "ReloadProject('deep_learning')"
   ]
  },
  {
   "cell_type": "markdown",
   "metadata": {},
   "source": [
    "## Try out the enviroments"
   ]
  },
  {
   "cell_type": "code",
   "execution_count": 56,
   "metadata": {},
   "outputs": [
    {
     "data": {
      "image/png": "[encoded data removed]",
      "text/plain": [
       "<Figure size 432x288 with 1 Axes>"
      ]
     },
     "metadata": {},
     "output_type": "display_data"
    },
    {
     "name": "stdout",
     "output_type": "stream",
     "text": [
      "CPU times: user 2.66 s, sys: 77.7 ms, total: 2.73 s\n",
      "Wall time: 3.02 s\n"
     ]
    },
    {
     "data": {
      "image/png": "[encoded data removed]",
      "text/plain": [
       "<Figure size 432x288 with 1 Axes>"
      ]
     },
     "metadata": {
      "needs_background": "light"
     },
     "output_type": "display_data"
    }
   ],
   "source": [
    "%%time\n",
    "\n",
    "env = gym.make('CartPole-v1')\n",
    "env.reset()\n",
    "for _ in range(10):\n",
    "    plt.imshow(env.render(mode='rgb_array'))\n",
    "    display.clear_output(wait=True)\n",
    "    display.display(plt.gcf())\n",
    "    env.step(env.action_space.sample())"
   ]
  },
  {
   "cell_type": "code",
   "execution_count": 77,
   "metadata": {},
   "outputs": [
    {
     "data": {
      "image/png": "[encoded data removed]",
      "text/plain": [
       "<Figure size 432x288 with 1 Axes>"
      ]
     },
     "metadata": {},
     "output_type": "display_data"
    },
    {
     "name": "stdout",
     "output_type": "stream",
     "text": [
      "CPU times: user 2.53 s, sys: 53 ms, total: 2.58 s\n",
      "Wall time: 2.82 s\n"
     ]
    },
    {
     "data": {
      "image/png": "[encoded data removed]",
      "text/plain": [
       "<Figure size 432x288 with 1 Axes>"
      ]
     },
     "metadata": {
      "needs_background": "light"
     },
     "output_type": "display_data"
    }
   ],
   "source": [
    "%%time\n",
    "\n",
    "env = openai_wrapper.GymEnvironment(gym.make('CartPole-v1'))\n",
    "for ii in range(10):\n",
    "    env.PlotState()\n",
    "    env.TakeAction(np.random.randint(2))"
   ]
  },
  {
   "cell_type": "markdown",
   "metadata": {},
   "source": [
    "## Learning"
   ]
  },
  {
   "cell_type": "code",
   "execution_count": null,
   "metadata": {},
   "outputs": [],
   "source": [
    "%%time\n",
    "\n",
    "env = openai_wrapper.GymEnvironment(gym.make('CartPole-v1'))\n",
    "env.ChangeSettings(continue_from_done = True, reward_when_done = -10.0)\n",
    "\n",
    "qfunc = q_learning_impl_v2.MultiModelQFunction(\n",
    "    env, (), (20, 20, 20), learning_rate=0.9, discount_factor=0.95)\n",
    "policy = q_learning_impl_v2.MaxValueWithRandomnessPolicy(certainty = 0.95)\n",
    "\n",
    "# Train.\n",
    "q_learning_v2.Run(env=env, qfunc=qfunc, policy=policy, num_of_runs=20, debug_verbosity=0)\n",
    "\n",
    "# Test.\n",
    "q_learning_v2.Run(env=env, qfunc=qfunc, policy=policy, num_of_runs=20, debug_verbosity=9)"
   ]
  },
  {
   "cell_type": "code",
   "execution_count": 129,
   "metadata": {},
   "outputs": [
    {
     "name": "stdout",
     "output_type": "stream",
     "text": [
      "<use random choice>\n",
      "Action 1: ([0. 0. 0. 0.]) -> ([ 0.02014217  0.17034211 -0.03983822 -0.34617961]), reward: 1.0\n",
      "Action 1: ([ 0.02014217  0.17034211 -0.03983822 -0.34617961]) -> ([ 0.02354901  0.36600743 -0.04676181 -0.65115406]), reward: 1.0\n",
      "Action 0: ([ 0.02354901  0.36600743 -0.04676181 -0.65115406]) -> ([ 0.03086916  0.17156689 -0.05978489 -0.37355503]), reward: 1.0\n",
      "Action 0: ([ 0.03086916  0.17156689 -0.05978489 -0.37355503]) -> ([ 0.0343005  -0.0226571  -0.06725599 -0.10030583]), reward: 1.0\n",
      "Action 0: ([ 0.0343005  -0.0226571  -0.06725599 -0.10030583]) -> ([ 0.03384736 -0.21675393 -0.06926211  0.17042282]), reward: 1.0\n",
      "Action 0: ([ 0.03384736 -0.21675393 -0.06926211  0.17042282]) -> ([ 0.02951228 -0.41081968 -0.06585365  0.44047671]), reward: 1.0\n",
      "Action 1: ([ 0.02951228 -0.41081968 -0.06585365  0.44047671]) -> ([ 0.02129589 -0.21483058 -0.05704412  0.1277833 ]), reward: 1.0\n",
      "Action 0: ([ 0.02129589 -0.21483058 -0.05704412  0.1277833 ]) -> ([ 0.01699927 -0.40909091 -0.05448845  0.40193796]), reward: 1.0\n",
      "Action 0: ([ 0.01699927 -0.40909091 -0.05448845  0.40193796]) -> ([ 0.00881746 -0.60339938 -0.04644969  0.67695641]), reward: 1.0\n",
      "Action 0: ([ 0.00881746 -0.60339938 -0.04644969  0.67695641]) -> ([-0.00325053 -0.79784621 -0.03291056  0.95466077]), reward: 1.0\n",
      "Action 1: ([-0.00325053 -0.79784621 -0.03291056  0.95466077]) -> ([-0.01920746 -0.60229737 -0.01381735  0.65182238]), reward: 1.0\n",
      "Action 0: ([-0.01920746 -0.60229737 -0.01381735  0.65182238]) -> ([-3.12534030e-02 -7.97224188e-01 -7.80901307e-04  9.40122525e-01]), reward: 1.0\n",
      "Action 0: ([-3.12534030e-02 -7.97224188e-01 -7.80901307e-04  9.40122525e-01]) -> ([-0.04719789 -0.9923356   0.01802155  1.23255998]), reward: 1.0\n",
      "Action 1: ([-0.04719789 -0.9923356   0.01802155  1.23255998]) -> ([-0.0670446  -0.79744997  0.04267275  0.94557705]), reward: 1.0\n",
      "<use random choice>\n",
      "Action 0: ([-0.0670446  -0.79744997  0.04267275  0.94557705]) -> ([-0.0829936  -0.9931199   0.06158429  1.25135673]), reward: 1.0\n",
      "Action 1: ([-0.0829936  -0.9931199   0.06158429  1.25135673]) -> ([-0.102856   -0.79883875  0.08661142  0.9785818 ]), reward: 1.0\n",
      "Action 0: ([-0.102856   -0.79883875  0.08661142  0.9785818 ]) -> ([-0.11883277 -0.99500841  0.10618306  1.29716523]), reward: 1.0\n",
      "<use random choice>\n",
      "Action 0: ([-0.11883277 -0.99500841  0.10618306  1.29716523]) -> ([-0.13873294 -1.19130645  0.13212637  1.62111311]), reward: 1.0\n",
      "Action 0: ([-0.13873294 -1.19130645  0.13212637  1.62111311]) -> ([-0.16255907 -1.3877141   0.16454863  1.95188899]), reward: 1.0\n",
      "Action 1: ([-0.16255907 -1.3877141   0.16454863  1.95188899]) -> ([-0.19031335 -1.19467979  0.20358641  1.71440794]), reward: 1.0\n",
      "Action 0: ([-0.19031335 -1.19467979  0.20358641  1.71440794]) -> ([-0.21420695 -1.39147307  0.23787457  2.06294333]), reward: 1.0\n",
      "Action 0: ([-0.21420695 -1.39147307  0.23787457  2.06294333]) -> ([ 0.04327111 -0.20359492 -0.02894611  0.30024247]), reward: 1.0\n",
      "<use random choice>\n",
      "Action 0: ([ 0.04327111 -0.20359492 -0.02894611  0.30024247]) -> ([ 0.03919921 -0.39829259 -0.02294126  0.58365766]), reward: 1.0\n",
      "Action 0: ([ 0.03919921 -0.39829259 -0.02294126  0.58365766]) -> ([ 0.03123336 -0.59308577 -0.01126811  0.86902641]), reward: 1.0\n",
      "Action 1: ([ 0.03123336 -0.59308577 -0.01126811  0.86902641]) -> ([ 0.01937165 -0.39781235  0.00611242  0.57282211]), reward: 1.0\n",
      "Action 0: ([ 0.01937165 -0.39781235  0.00611242  0.57282211]) -> ([ 0.0114154  -0.59301946  0.01756886  0.86742436]), reward: 1.0\n",
      "Action 1: ([ 0.0114154  -0.59301946  0.01756886  0.86742436]) -> ([-4.44988570e-04 -3.98140930e-01  3.49173502e-02  5.80316654e-01]), reward: 1.0\n",
      "Action 0: ([-4.44988570e-04 -3.98140930e-01  3.49173502e-02  5.80316654e-01]) -> ([-0.00840781 -0.59373433  0.04652368  0.88379153]), reward: 1.0\n",
      "Action 1: ([-0.00840781 -0.59373433  0.04652368  0.88379153]) -> ([-0.02028249 -0.39927397  0.06419951  0.60608964]), reward: 1.0\n",
      "Action 0: ([-0.02028249 -0.39927397  0.06419951  0.60608964]) -> ([-0.02826797 -0.5952321   0.07632131  0.91828299]), reward: 1.0\n",
      "Action 1: ([-0.02826797 -0.5952321   0.07632131  0.91828299]) -> ([-0.04017262 -0.40122026  0.09468697  0.6505291 ]), reward: 1.0\n",
      "Action 0: ([-0.04017262 -0.40122026  0.09468697  0.6505291 ]) -> ([-0.04819702 -0.59752463  0.10769755  0.97146303]), reward: 1.0\n",
      "Action 1: ([-0.04819702 -0.59752463  0.10769755  0.97146303]) -> ([-0.06014751 -0.40399995  0.12712681  0.71445977]), reward: 1.0\n",
      "Action 0: ([-0.06014751 -0.40399995  0.12712681  0.71445977]) -> ([-0.06822751 -0.60063109  0.141416    1.04430104]), reward: 1.0\n",
      "Action 1: ([-0.06822751 -0.60063109  0.141416    1.04430104]) -> ([-0.08024013 -0.40764089  0.16230203  0.79914341]), reward: 1.0\n",
      "Action 1: ([-0.08024013 -0.40764089  0.16230203  0.79914341]) -> ([-0.08839295 -0.21507316  0.17828489  0.56159551]), reward: 1.0\n",
      "Action 1: ([-0.08839295 -0.21507316  0.17828489  0.56159551]) -> ([-0.09269441 -0.02284204  0.1895168   0.32995785]), reward: 1.0\n",
      "Action 0: ([-0.09269441 -0.02284204  0.1895168   0.32995785]) -> ([-0.09315126 -0.22008513  0.19611596  0.67591014]), reward: 1.0\n",
      "Action 0: ([-0.09315126 -0.22008513  0.19611596  0.67591014]) -> ([-0.09755296 -0.41731328  0.20963416  1.02337052]), reward: 1.0\n",
      "Action 0: ([-0.09755296 -0.41731328  0.20963416  1.02337052]) -> ([-0.04046285 -0.23878693  0.03525732  0.28147729]), reward: 1.0\n"
     ]
    }
   ],
   "source": [
    "env = openai_wrapper.GymEnvironment(gym.make('CartPole-v1'))\n",
    "env.continue_from_done = True\n",
    "q_learning_v2.Run(env=env, qfunc=qfunc, policy=policy, num_of_runs=40, debug_verbosity=2)"
   ]
  },
  {
   "cell_type": "code",
   "execution_count": null,
   "metadata": {},
   "outputs": [],
   "source": []
  }
 ],
 "metadata": {
  "kernelspec": {
   "display_name": "Python 3",
   "language": "python",
   "name": "python3"
  },
  "language_info": {
   "codemirror_mode": {
    "name": "ipython",
    "version": 3
   },
   "file_extension": ".py",
   "mimetype": "text/x-python",
   "name": "python",
   "nbconvert_exporter": "python",
   "pygments_lexer": "ipython3",
   "version": "3.5.2"
  }
 },
 "nbformat": 4,
 "nbformat_minor": 2
}
