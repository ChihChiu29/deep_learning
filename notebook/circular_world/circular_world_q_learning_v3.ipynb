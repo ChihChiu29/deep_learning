{
 "cells": [
  {
   "cell_type": "code",
   "execution_count": 7,
   "metadata": {},
   "outputs": [
    {
     "name": "stdout",
     "output_type": "stream",
     "text": [
      "notebook_init.py imported and reloaded\n",
      "forwarded symbol: Activation\n",
      "forwarded symbol: Dense\n",
      "forwarded symbol: Dict\n",
      "forwarded symbol: InputLayer\n",
      "forwarded symbol: List\n",
      "forwarded symbol: Model\n",
      "forwarded symbol: Sequential\n",
      "forwarded symbol: Tuple\n",
      "reloaded: gym\n",
      "forwarded symbol: gym\n",
      "reloaded: keras\n",
      "forwarded symbol: keras\n",
      "reloaded: model_optimization\n",
      "forwarded symbol: model_optimization\n",
      "reloaded: openai_wrapper\n",
      "forwarded symbol: openai_wrapper\n",
      "reloaded: policy_impl\n",
      "forwarded symbol: policy_impl\n",
      "reloaded: q_function_memoization\n",
      "forwarded symbol: q_function_memoization\n",
      "reloaded: q_learning\n",
      "forwarded symbol: q_learning\n",
      "reloaded: q_learning_impl\n",
      "forwarded symbol: q_learning_impl\n",
      "reloaded: q_learning_impl_v2\n",
      "forwarded symbol: q_learning_impl_v2\n",
      "reloaded: q_learning_impl_v3\n",
      "forwarded symbol: q_learning_impl_v3\n",
      "reloaded: q_learning_v2\n",
      "forwarded symbol: q_learning_v2\n",
      "reloaded: q_learning_v3\n",
      "forwarded symbol: q_learning_v3\n"
     ]
    }
   ],
   "source": [
    "ReloadProject('deep_learning')"
   ]
  },
  {
   "cell_type": "markdown",
   "metadata": {},
   "source": [
    "## Environment Setup\n",
    "Let's assume a world with 11 states: 0-10. Each time the agent and move +1 or -1, with 0-1 -> 10 and 10+1 -> 0. All actions that gets the agent closer to state \"5\" gets reward +1, otherwise gets reward -1."
   ]
  },
  {
   "cell_type": "code",
   "execution_count": 8,
   "metadata": {},
   "outputs": [],
   "source": [
    "STATE_ZERO_ARRAY = np.zeros(1, dtype=int)\n",
    "TARGET_STATE = 5\n",
    "STOP_AFTER_STEPS = 500\n",
    "\n",
    "\n",
    "class CircularWorld(q_learning_v3.Environment):\n",
    "    \n",
    "    def __init__(self):\n",
    "        super().__init__(state_array_size=1, action_space_size=3)\n",
    "\n",
    "        self.debug_verbosity = 0\n",
    "        \n",
    "        # action encoding\n",
    "        self._action_minus = 0\n",
    "        self._action_stay = 1\n",
    "        self._action_plus = 2\n",
    "        \n",
    "        # Controls when to stop.\n",
    "        self._total_steps = 0\n",
    "\n",
    "        \n",
    "    #@ Override\n",
    "    def TakeAction(self, action: q_learning_v2.Action) -> q_learning_v2.Reward:\n",
    "        current_state = self.GetState()\n",
    "        new_state = current_state\n",
    "        reward = 0\n",
    "        if action == self._action_plus:\n",
    "            if current_state < TARGET_STATE:\n",
    "                reward = 1.0\n",
    "            else:\n",
    "                reward = -1.0\n",
    "            new_state = current_state + 1\n",
    "            if new_state == 11:\n",
    "                new_state = STATE_ZERO_ARRAY\n",
    "        elif action == self._action_minus:\n",
    "            if current_state > TARGET_STATE:\n",
    "                reward = 1.0\n",
    "            else:\n",
    "                reward = -1.0\n",
    "            new_state = current_state - 1\n",
    "            if new_state == -1:\n",
    "                new_state = STATE_ZERO_ARRAY + 10\n",
    "        else:\n",
    "            if current_state != TARGET_STATE:\n",
    "                reward = -1.0\n",
    "            else:\n",
    "                reward = 1.0\n",
    "\n",
    "        self._protected_SetState(new_state)\n",
    "        if self.debug_verbosity >= 1:\n",
    "            print('Action %s: (%s) -> (%s), reward: %s' % (\n",
    "                action, current_state, new_state, reward))\n",
    "            \n",
    "        self._total_steps += 1\n",
    "        if self._total_steps > STOP_AFTER_STEPS:\n",
    "            self._protected_SetDone(True)\n",
    "        return reward"
   ]
  },
  {
   "cell_type": "markdown",
   "metadata": {},
   "source": [
    "## Learning"
   ]
  },
  {
   "cell_type": "code",
   "execution_count": null,
   "metadata": {},
   "outputs": [],
   "source": []
  }
 ],
 "metadata": {
  "kernelspec": {
   "display_name": "Python 3",
   "language": "python",
   "name": "python3"
  },
  "language_info": {
   "codemirror_mode": {
    "name": "ipython",
    "version": 3
   },
   "file_extension": ".py",
   "mimetype": "text/x-python",
   "name": "python",
   "nbconvert_exporter": "python",
   "pygments_lexer": "ipython3",
   "version": "3.5.2"
  }
 },
 "nbformat": 4,
 "nbformat_minor": 2
}
