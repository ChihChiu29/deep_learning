{
 "cells": [
  {
   "cell_type": "code",
   "execution_count": null,
   "metadata": {},
   "outputs": [],
   "source": [
    "import importlib, inspect, os, sys\n",
    "\n",
    "# Get ../../\n",
    "ROOT_PATH = os.path.join('/', *os.path.dirname(os.path.abspath(inspect.getfile(inspect.currentframe()))).split('/')[:-2])\n",
    "sys.path.append(ROOT_PATH)\n",
    "\n",
    "from notebook_support import notebook_init as __notebook_init\n",
    "importlib.reload(__notebook_init)\n",
    "\n",
    "from notebook_support.notebook_init import *\n",
    "ReloadAllModules(dir(__notebook_init))"
   ]
  }
 ],
 "metadata": {
  "kernelspec": {
   "display_name": "Python 3",
   "language": "python",
   "name": "python3"
  },
  "language_info": {
   "codemirror_mode": {
    "name": "ipython",
    "version": 3
   },
   "file_extension": ".py",
   "mimetype": "text/x-python",
   "name": "python",
   "nbconvert_exporter": "python",
   "pygments_lexer": "ipython3",
   "version": "3.6.6"
  }
 },
 "nbformat": 4,
 "nbformat_minor": 2
}
